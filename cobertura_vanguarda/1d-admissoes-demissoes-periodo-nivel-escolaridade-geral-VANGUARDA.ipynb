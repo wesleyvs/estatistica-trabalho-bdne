{
 "cells": [
  {
   "cell_type": "code",
   "execution_count": 1,
   "metadata": {
    "scrolled": false
   },
   "outputs": [],
   "source": [
    "# ignora avisos\n",
    "import warnings\n",
    "warnings.filterwarnings('ignore')\n",
    "import pandas as pd\n",
    "import matplotlib.pyplot as plt\n",
    "import matplotlib as mpl\n",
    "from glob import glob         \n",
    "import numpy as np\n",
    "import seaborn as sb\n",
    "from os import listdir\n",
    "from os.path import isfile, join\n",
    "import matplotlib.ticker as mticker\n",
    "from matplotlib.ticker import StrMethodFormatter, NullFormatter"
   ]
  },
  {
   "cell_type": "code",
   "execution_count": 2,
   "metadata": {
    "scrolled": true
   },
   "outputs": [],
   "source": [
    "mes = {\n",
    "    '01': 'JANEIRO',\n",
    "    '02': 'FEVEREIRO',\n",
    "    '03': 'MARÇO',\n",
    "    '04': 'ABRIL',\n",
    "    '05': 'MAIO',\n",
    "    '06': 'JUNHO',\n",
    "    '07': 'JULHO',\n",
    "    '08': 'AGOSTO',\n",
    "    '09': 'SETEMBRO',\n",
    "    '10': 'OUTUBRO',\n",
    "    '11': 'NOVEMBRO',\n",
    "    '12': 'DEZEMBRO'\n",
    "}\n",
    "\n",
    "param = 'graudeinstrução'\n",
    "\n",
    "param_dic = {\n",
    "    1: 'Analfabeto',\n",
    "    2: 'Até 5ª Incompleto',\n",
    "    3: '5ª Completo Fundamental',\n",
    "    4: '6ª a 9ª Fundamental',\n",
    "    5: 'Fundamental Completo',\n",
    "    6: 'Médio Incompleto',\n",
    "    7: 'Médio Completo',\n",
    "    8: 'Superior Incompleto',\n",
    "    9: 'Superior Completo',\n",
    "    10: 'Mestrado',\n",
    "    11: 'Doutorado',\n",
    "    12: 'Verificar 12',\n",
    "    13: 'Verificar 1',\n",
    "    80: 'Pós-Graduação completa',\n",
    "    99: 'Não Identificado'\n",
    "}"
   ]
  },
  {
   "cell_type": "code",
   "execution_count": 3,
   "metadata": {},
   "outputs": [],
   "source": [
    "# carrega arquivo em dafaframe / exclui NaNs\n",
    "def loadDataFrame(file):\n",
    "    df = pd.read_csv(file, sep=';')\n",
    "    df.dropna(inplace = True)\n",
    "    return df\n",
    "\n",
    "# prepara dataframe considerando apenas cidades coberteas pela Rede Vanguarda\n",
    "# ['APARECIDA', 'ARAPEÍ', 'AREIAS', 'ATIBAIA', 'BANANAL', 'BOM JESUS DOS PERDÕES', \n",
    "#  'BRAGANÇA PAULISTA', 'CAÇAPAVA', 'CACHOEIRA PAULISTA', 'CAMPOS DO JORDÃO', 'CANAS', \n",
    "#  'CARAGUATATUBA', 'CRUZEIRO', 'CUNHA', 'GUARATINGUETÁ', 'IGARATÁ', 'ILHABELA', 'JACAREÍ', \n",
    "#  'JAMBEIRO', 'JOANÓPOLIS', 'LAGOINHA', 'LAVRINHAS', 'LORENA', 'MONTEIRO LOBATO', \n",
    "#  'NATIVIDADE DA SERRA', 'NAZARÉ PAULISTA', 'PARAIBUNA', 'PINDAMONHANGABA', 'PIQUETE', \n",
    "#  'PIRACAIA', 'POTIM', 'QUELUZ', 'REDENÇÃO DA SERRA', 'ROSEIRA', 'SANTA BRANCA', \n",
    "#  'SANTO ANTÔNIO DO PINHAL', 'SÃO BENTO DO SAPUCAÍ', 'SÃO JOSÉ DO BARREIRO', \n",
    "#  'SÃO JOSÉ DOS CAMPOS', 'SÃO LUÍS DO PARAITINGA', 'SÃO SEBASTIÃO', 'SILVEIRAS', 'TAUBATÉ', \n",
    "#  'TREMEMBÉ', 'UBATUBA', 'VARGEM'] \n",
    "def prepareDataframe (df, parameter, parameter_dic):\n",
    "    # exclui colunas irrelevantes\n",
    "    df = df[['saldomovimentação', parameter, 'município']]\n",
    "    # substitui magic numbers\n",
    "    df['saldomovimentação'] = df['saldomovimentação'].map({1: 'Admissões', -1: 'Demissões'})\n",
    "    df[parameter] = df[parameter].map(parameter_dic)\n",
    "    vanguarda = df[df['município'].isin([350250, 350315, 350350, 350410, 350490, 350710, 350760, 350850, \n",
    "                                         350860, 350970, 350995, 351050, 351340, 351360, 351840, 352020, \n",
    "                                         352040, 352440, 352490, 352550, 352630, 352660, 352720, 353170, \n",
    "                                         353230, 353240, 353560, 353800, 353850, 353860, 354075, 354190, \n",
    "                                         354230, 354430, 354600, 354820, 354860, 354960, 354990, 355000, \n",
    "                                         355070, 355200, 355410, 355480, 355540, 355635])]\n",
    "    return vanguarda\n",
    "\n",
    "# gera gráficos\n",
    "def generateChart(df, parameter, competencia, requisito):\n",
    "    ax = pd.pivot_table(\n",
    "        df,\n",
    "        columns=df['saldomovimentação'],\n",
    "        index=df[parameter],\n",
    "        values=parameter,\n",
    "        aggfunc='count',\n",
    "        fill_value=0\n",
    "    ).sort_values(by='Admissões',ascending=True\n",
    "    ).plot.barh(\n",
    "        figsize = (15,8),\n",
    "        color=['#2f4b7c','#f95d6a'],\n",
    "        xlabel= requisito.title(),\n",
    "        logx=True\n",
    "    )\n",
    "    # configuração do gráfico\n",
    "    ax.legend(bbox_to_anchor=(1, 0), loc='lower right')\n",
    "    ax.xaxis.set_major_formatter(\n",
    "        StrMethodFormatter('{x:.0f}'))\n",
    "    # insere thousand separator\n",
    "    ax.get_xaxis().set_major_formatter(\n",
    "        mpl.ticker.FuncFormatter(\n",
    "        lambda x, p: format(int(x), ',')))\n",
    "    ax.set_title(\"PESSOAS ADMITIDAS E DEMITIDAS POR \" + requisito.upper() + \" EM \"+ competencia)"
   ]
  },
  {
   "cell_type": "code",
   "execution_count": 4,
   "metadata": {},
   "outputs": [],
   "source": [
    "# verificar arquivos com o padrão CAGEDMOV no diretorio\n",
    "diretorio = \"/Users/mariaclara1985/Documents/3_fatec_bd/6SEM/bd-n-estruturado/novocaged\"\n",
    "arquivos = [f for f in listdir(diretorio) if isfile(join(diretorio, f)) and 'CAGEDMOV' in f]\n",
    "arquivos.sort()"
   ]
  },
  {
   "cell_type": "markdown",
   "metadata": {},
   "source": [
    "# 1 – Qual foi o índice de pessoas empregadas e desempregadas em certo período, categorizadas por:\n"
   ]
  },
  {
   "cell_type": "markdown",
   "metadata": {},
   "source": [
    "## - Nível de Escolaridade"
   ]
  },
  {
   "cell_type": "code",
   "execution_count": null,
   "metadata": {
    "scrolled": true
   },
   "outputs": [],
   "source": [
    "# cria gráficos para cada mês, de março/2020 a abril/2021\n",
    "\n",
    "for arquivo in arquivos:\n",
    "    pandemia_df = loadDataFrame(arquivo)\n",
    "    questao01e_df = prepareDataframe(pandemia_df, param, param_dic)\n",
    "    competencia = mes[str(arquivo)[12:-4]] + \"/\"+ str(arquivo)[8:-6]\n",
    "    generateChart(questao01e_df, param, competencia, \"Nível de Escolaridade\")"
   ]
  }
 ],
 "metadata": {
  "kernelspec": {
   "display_name": "Python 3",
   "language": "python",
   "name": "python3"
  },
  "language_info": {
   "codemirror_mode": {
    "name": "ipython",
    "version": 3
   },
   "file_extension": ".py",
   "mimetype": "text/x-python",
   "name": "python",
   "nbconvert_exporter": "python",
   "pygments_lexer": "ipython3",
   "version": "3.7.3"
  }
 },
 "nbformat": 4,
 "nbformat_minor": 2
}
