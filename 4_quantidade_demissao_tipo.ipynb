{
 "cells": [
  {
   "cell_type": "code",
   "execution_count": 1,
   "id": "e9cbfa62",
   "metadata": {},
   "outputs": [],
   "source": [
    "# 4)\n",
    "# - Quantidade de demissões por tipo, tipo movimentação / demissão.\n",
    "# - Diferença salarial entre homens e mulheres admitidos;\n",
    "# - Diferença salarial entre homens e mulheres demitidos;\n",
    "# - Média salarial por raça/cor."
   ]
  },
  {
   "cell_type": "code",
   "execution_count": 2,
   "id": "f5cea011",
   "metadata": {},
   "outputs": [],
   "source": [
    "import pandas as pd\n",
    "import matplotlib.pyplot as plt\n",
    "from glob import glob\n",
    "import matplotlib as mpl\n",
    "import seaborn as sb"
   ]
  },
  {
   "cell_type": "code",
   "execution_count": 3,
   "id": "97900f8e",
   "metadata": {},
   "outputs": [],
   "source": [
    "# lista de todos os arquivos\n",
    "caged_files = sorted(glob('..\\DadosCaged\\CAGEDMOV*.txt'))\n",
    "main_df = pd.concat((pd.read_csv(file, sep=';') for file in caged_files), ignore_index=True)"
   ]
  },
  {
   "cell_type": "code",
   "execution_count": 4,
   "id": "73c746f6",
   "metadata": {},
   "outputs": [
    {
     "data": {
      "text/plain": [
       "['..\\\\DadosCaged\\\\CAGEDMOV202001.txt',\n",
       " '..\\\\DadosCaged\\\\CAGEDMOV202002.txt',\n",
       " '..\\\\DadosCaged\\\\CAGEDMOV202003.txt',\n",
       " '..\\\\DadosCaged\\\\CAGEDMOV202004.txt',\n",
       " '..\\\\DadosCaged\\\\CAGEDMOV202005.txt',\n",
       " '..\\\\DadosCaged\\\\CAGEDMOV202006.txt',\n",
       " '..\\\\DadosCaged\\\\CAGEDMOV202007.txt',\n",
       " '..\\\\DadosCaged\\\\CAGEDMOV202008.txt',\n",
       " '..\\\\DadosCaged\\\\CAGEDMOV202009.txt',\n",
       " '..\\\\DadosCaged\\\\CAGEDMOV202010.txt',\n",
       " '..\\\\DadosCaged\\\\CAGEDMOV202011.txt',\n",
       " '..\\\\DadosCaged\\\\CAGEDMOV202012.txt',\n",
       " '..\\\\DadosCaged\\\\CAGEDMOV202101.txt',\n",
       " '..\\\\DadosCaged\\\\CAGEDMOV202102.txt',\n",
       " '..\\\\DadosCaged\\\\CAGEDMOV202103.txt']"
      ]
     },
     "execution_count": 4,
     "metadata": {},
     "output_type": "execute_result"
    }
   ],
   "source": [
    "#Lista todos os arquivos carregados e concatenados no dataframe pandemia_df\n",
    "caged_files"
   ]
  },
  {
   "cell_type": "code",
   "execution_count": 5,
   "id": "83dc3956",
   "metadata": {},
   "outputs": [
    {
     "data": {
      "text/plain": [
       "Index(['competência', 'região', 'uf', 'município', 'seção', 'subclasse',\n",
       "       'saldomovimentação', 'cbo2002ocupação', 'categoria', 'graudeinstrução',\n",
       "       'idade', 'horascontratuais', 'raçacor', 'sexo', 'tipoempregador',\n",
       "       'tipoestabelecimento', 'tipomovimentação', 'tipodedeficiência',\n",
       "       'indtrabintermitente', 'indtrabparcial', 'salário', 'tamestabjan',\n",
       "       'indicadoraprendiz', 'fonte'],\n",
       "      dtype='object')"
      ]
     },
     "execution_count": 5,
     "metadata": {},
     "output_type": "execute_result"
    }
   ],
   "source": [
    "#Lista as colunas do dataframe\n",
    "main_df.columns"
   ]
  },
  {
   "cell_type": "code",
   "execution_count": 6,
   "id": "c43c31ab",
   "metadata": {},
   "outputs": [],
   "source": [
    "#Alteração dos valores numéricos para valores legíveis.\n",
    "sex = {1: 'Homem',3 :'Mulher', 9: 'Nao Identificado'}\n",
    "saldomovimentacao = {1: 'admissao', -1: 'demissao'}\n",
    "racacor = {1: 'Branca',2: 'Preta',3: 'Parda', 4: 'Amarela',5 : 'Indigena',6:'Nao Informada',  9: 'Nao Identificado'}\n",
    "tipomovimentacao = {10:'Admissão por Primeiro Emprego',\n",
    "20:'Admissão por Reemprego', \n",
    "25:'Admissão por contrato trabalho prazo determinado',\n",
    "31:'Desligamento por Demissão sem Justa Causa', \n",
    "32:'Desligamento por Demissão com Justa Causa', \n",
    "33:'Culpa Recíproca',\n",
    "35:'Admissão por Reintegraçao', \n",
    "40:'Desligamento a Pedido',\n",
    "43:'Término contrato trabalho prazo determinado',\n",
    "45:'Desligamento por Término de Contrato',\n",
    "50:'Desligamento por Aposentadoria', \n",
    "60:'Desligamento por morte',\n",
    "70:'Admissão por Transferência', \n",
    "80:'Desligamento por Transferência', \n",
    "90:'Desliamento por Acordo Empregado e Empregador',\n",
    "98:'Desligamento de Tipo Ignorado',\n",
    "99:'Não Identificado'}"
   ]
  },
  {
   "cell_type": "code",
   "execution_count": 7,
   "id": "8e661dc3",
   "metadata": {},
   "outputs": [],
   "source": [
    "#Aplicação dos dics criados para deixar os dados mais legíveis\n",
    "main_df['sexo'] = main_df['sexo'].apply(lambda x: sex[x])\n",
    "main_df['saldomovimentação'] = main_df['saldomovimentação'].apply(lambda x: saldomovimentacao[x])\n",
    "main_df['raçacor'] = main_df['raçacor'].apply(lambda x: racacor[x])\n",
    "main_df['tipomovimentação'] = main_df['tipomovimentação'].apply(lambda x: tipomovimentacao[x])"
   ]
  },
  {
   "cell_type": "code",
   "execution_count": 9,
   "id": "af6583b4",
   "metadata": {},
   "outputs": [
    {
     "data": {
      "text/html": [
       "<div>\n",
       "<style scoped>\n",
       "    .dataframe tbody tr th:only-of-type {\n",
       "        vertical-align: middle;\n",
       "    }\n",
       "\n",
       "    .dataframe tbody tr th {\n",
       "        vertical-align: top;\n",
       "    }\n",
       "\n",
       "    .dataframe thead th {\n",
       "        text-align: right;\n",
       "    }\n",
       "</style>\n",
       "<table border=\"1\" class=\"dataframe\">\n",
       "  <thead>\n",
       "    <tr style=\"text-align: right;\">\n",
       "      <th></th>\n",
       "      <th>competência</th>\n",
       "      <th>região</th>\n",
       "      <th>uf</th>\n",
       "      <th>município</th>\n",
       "      <th>seção</th>\n",
       "      <th>subclasse</th>\n",
       "      <th>saldomovimentação</th>\n",
       "      <th>cbo2002ocupação</th>\n",
       "      <th>categoria</th>\n",
       "      <th>graudeinstrução</th>\n",
       "      <th>...</th>\n",
       "      <th>tipoempregador</th>\n",
       "      <th>tipoestabelecimento</th>\n",
       "      <th>tipomovimentação</th>\n",
       "      <th>tipodedeficiência</th>\n",
       "      <th>indtrabintermitente</th>\n",
       "      <th>indtrabparcial</th>\n",
       "      <th>salário</th>\n",
       "      <th>tamestabjan</th>\n",
       "      <th>indicadoraprendiz</th>\n",
       "      <th>fonte</th>\n",
       "    </tr>\n",
       "  </thead>\n",
       "  <tbody>\n",
       "    <tr>\n",
       "      <th>39694383</th>\n",
       "      <td>202103</td>\n",
       "      <td>3</td>\n",
       "      <td>35</td>\n",
       "      <td>355030</td>\n",
       "      <td>A</td>\n",
       "      <td>151201</td>\n",
       "      <td>admissao</td>\n",
       "      <td>724315</td>\n",
       "      <td>102</td>\n",
       "      <td>7</td>\n",
       "      <td>...</td>\n",
       "      <td>2</td>\n",
       "      <td>3</td>\n",
       "      <td>Admissão por Primeiro Emprego</td>\n",
       "      <td>0</td>\n",
       "      <td>0</td>\n",
       "      <td>0</td>\n",
       "      <td>1500.000000</td>\n",
       "      <td>99</td>\n",
       "      <td>0</td>\n",
       "      <td>1</td>\n",
       "    </tr>\n",
       "    <tr>\n",
       "      <th>39694384</th>\n",
       "      <td>202103</td>\n",
       "      <td>3</td>\n",
       "      <td>35</td>\n",
       "      <td>355030</td>\n",
       "      <td>I</td>\n",
       "      <td>5620101</td>\n",
       "      <td>admissao</td>\n",
       "      <td>513205</td>\n",
       "      <td>111</td>\n",
       "      <td>7</td>\n",
       "      <td>...</td>\n",
       "      <td>0</td>\n",
       "      <td>1</td>\n",
       "      <td>Admissão por Reemprego</td>\n",
       "      <td>0</td>\n",
       "      <td>1</td>\n",
       "      <td>0</td>\n",
       "      <td>6567.000000</td>\n",
       "      <td>7</td>\n",
       "      <td>0</td>\n",
       "      <td>1</td>\n",
       "    </tr>\n",
       "    <tr>\n",
       "      <th>39694385</th>\n",
       "      <td>202103</td>\n",
       "      <td>2</td>\n",
       "      <td>25</td>\n",
       "      <td>251370</td>\n",
       "      <td>C</td>\n",
       "      <td>1532700</td>\n",
       "      <td>demissao</td>\n",
       "      <td>764105</td>\n",
       "      <td>101</td>\n",
       "      <td>7</td>\n",
       "      <td>...</td>\n",
       "      <td>0</td>\n",
       "      <td>1</td>\n",
       "      <td>Desligamento por Demissão sem Justa Causa</td>\n",
       "      <td>0</td>\n",
       "      <td>0</td>\n",
       "      <td>0</td>\n",
       "      <td>1122.000000</td>\n",
       "      <td>10</td>\n",
       "      <td>0</td>\n",
       "      <td>1</td>\n",
       "    </tr>\n",
       "    <tr>\n",
       "      <th>39694386</th>\n",
       "      <td>202103</td>\n",
       "      <td>3</td>\n",
       "      <td>33</td>\n",
       "      <td>330455</td>\n",
       "      <td>I</td>\n",
       "      <td>5510801</td>\n",
       "      <td>demissao</td>\n",
       "      <td>513505</td>\n",
       "      <td>101</td>\n",
       "      <td>6</td>\n",
       "      <td>...</td>\n",
       "      <td>0</td>\n",
       "      <td>1</td>\n",
       "      <td>Desligamento por Demissão sem Justa Causa</td>\n",
       "      <td>0</td>\n",
       "      <td>0</td>\n",
       "      <td>0</td>\n",
       "      <td>1021.419983</td>\n",
       "      <td>5</td>\n",
       "      <td>0</td>\n",
       "      <td>1</td>\n",
       "    </tr>\n",
       "    <tr>\n",
       "      <th>39694387</th>\n",
       "      <td>202103</td>\n",
       "      <td>3</td>\n",
       "      <td>35</td>\n",
       "      <td>354980</td>\n",
       "      <td>G</td>\n",
       "      <td>4530701</td>\n",
       "      <td>demissao</td>\n",
       "      <td>142105</td>\n",
       "      <td>101</td>\n",
       "      <td>9</td>\n",
       "      <td>...</td>\n",
       "      <td>0</td>\n",
       "      <td>1</td>\n",
       "      <td>Desligamento por Demissão sem Justa Causa</td>\n",
       "      <td>0</td>\n",
       "      <td>0</td>\n",
       "      <td>0</td>\n",
       "      <td>4500.000000</td>\n",
       "      <td>4</td>\n",
       "      <td>0</td>\n",
       "      <td>1</td>\n",
       "    </tr>\n",
       "  </tbody>\n",
       "</table>\n",
       "<p>5 rows × 24 columns</p>\n",
       "</div>"
      ],
      "text/plain": [
       "          competência  região  uf  município seção  subclasse  \\\n",
       "39694383       202103       3  35     355030     A     151201   \n",
       "39694384       202103       3  35     355030     I    5620101   \n",
       "39694385       202103       2  25     251370     C    1532700   \n",
       "39694386       202103       3  33     330455     I    5510801   \n",
       "39694387       202103       3  35     354980     G    4530701   \n",
       "\n",
       "         saldomovimentação  cbo2002ocupação  categoria  graudeinstrução  ...  \\\n",
       "39694383          admissao           724315        102                7  ...   \n",
       "39694384          admissao           513205        111                7  ...   \n",
       "39694385          demissao           764105        101                7  ...   \n",
       "39694386          demissao           513505        101                6  ...   \n",
       "39694387          demissao           142105        101                9  ...   \n",
       "\n",
       "          tipoempregador  tipoestabelecimento  \\\n",
       "39694383               2                    3   \n",
       "39694384               0                    1   \n",
       "39694385               0                    1   \n",
       "39694386               0                    1   \n",
       "39694387               0                    1   \n",
       "\n",
       "                                   tipomovimentação tipodedeficiência  \\\n",
       "39694383              Admissão por Primeiro Emprego                 0   \n",
       "39694384                     Admissão por Reemprego                 0   \n",
       "39694385  Desligamento por Demissão sem Justa Causa                 0   \n",
       "39694386  Desligamento por Demissão sem Justa Causa                 0   \n",
       "39694387  Desligamento por Demissão sem Justa Causa                 0   \n",
       "\n",
       "          indtrabintermitente  indtrabparcial      salário  tamestabjan  \\\n",
       "39694383                    0               0  1500.000000           99   \n",
       "39694384                    1               0  6567.000000            7   \n",
       "39694385                    0               0  1122.000000           10   \n",
       "39694386                    0               0  1021.419983            5   \n",
       "39694387                    0               0  4500.000000            4   \n",
       "\n",
       "          indicadoraprendiz  fonte  \n",
       "39694383                  0      1  \n",
       "39694384                  0      1  \n",
       "39694385                  0      1  \n",
       "39694386                  0      1  \n",
       "39694387                  0      1  \n",
       "\n",
       "[5 rows x 24 columns]"
      ]
     },
     "execution_count": 9,
     "metadata": {},
     "output_type": "execute_result"
    }
   ],
   "source": [
    "#Exibição dos ultimos 5 registros\n",
    "main_df.tail()"
   ]
  },
  {
   "cell_type": "code",
   "execution_count": 12,
   "id": "11fee3ab",
   "metadata": {},
   "outputs": [],
   "source": [
    "demissoes = main_df['saldomovimentação'] == \"demissao\"\n",
    "demissoes_df = main_df[demissoes]"
   ]
  },
  {
   "cell_type": "code",
   "execution_count": 16,
   "id": "73e60ff8",
   "metadata": {},
   "outputs": [],
   "source": [
    "admissoes = main_df['saldomovimentação'] == \"admissao\"\n",
    "admissoes_df = main_df[admissoes]"
   ]
  },
  {
   "cell_type": "code",
   "execution_count": 15,
   "id": "b47bf862",
   "metadata": {},
   "outputs": [
    {
     "data": {
      "text/plain": [
       "saldomovimentação\n",
       "demissao             19384765\n",
       "dtype: int64"
      ]
     },
     "execution_count": 15,
     "metadata": {},
     "output_type": "execute_result"
    }
   ],
   "source": [
    "#Quantidade de demissões\n",
    "demissoes_df[['saldomovimentação']].value_counts().sort_index()"
   ]
  },
  {
   "cell_type": "code",
   "execution_count": 17,
   "id": "250cda10",
   "metadata": {},
   "outputs": [
    {
     "data": {
      "text/plain": [
       "saldomovimentação\n",
       "admissao             20309623\n",
       "dtype: int64"
      ]
     },
     "execution_count": 17,
     "metadata": {},
     "output_type": "execute_result"
    }
   ],
   "source": [
    "#Quantidade de admissões\n",
    "admissoes_df[['saldomovimentação']].value_counts().sort_index()"
   ]
  },
  {
   "cell_type": "code",
   "execution_count": null,
   "id": "94b903c2",
   "metadata": {},
   "outputs": [],
   "source": []
  }
 ],
 "metadata": {
  "kernelspec": {
   "display_name": "Python 3",
   "language": "python",
   "name": "python3"
  },
  "language_info": {
   "codemirror_mode": {
    "name": "ipython",
    "version": 3
   },
   "file_extension": ".py",
   "mimetype": "text/x-python",
   "name": "python",
   "nbconvert_exporter": "python",
   "pygments_lexer": "ipython3",
   "version": "3.8.2"
  }
 },
 "nbformat": 4,
 "nbformat_minor": 5
}
