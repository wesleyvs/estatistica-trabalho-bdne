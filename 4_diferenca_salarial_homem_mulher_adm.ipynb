{
 "cells": [
  {
   "cell_type": "code",
   "execution_count": 1,
   "id": "ade7f9e5",
   "metadata": {},
   "outputs": [],
   "source": [
    "# 4)\n",
    "# b) Diferença salarial entre homens e mulheres admitidos;"
   ]
  },
  {
   "cell_type": "code",
   "execution_count": 2,
   "id": "efb1a48f",
   "metadata": {},
   "outputs": [],
   "source": [
    "import pandas as pd\n",
    "import matplotlib.pyplot as plt\n",
    "from glob import glob\n",
    "import matplotlib as mpl\n",
    "import seaborn as sb"
   ]
  },
  {
   "cell_type": "code",
   "execution_count": 3,
   "id": "031bf297",
   "metadata": {},
   "outputs": [],
   "source": [
    "sb.set(style=\"whitegrid\")"
   ]
  },
  {
   "cell_type": "code",
   "execution_count": 4,
   "id": "9fd57e9e",
   "metadata": {},
   "outputs": [],
   "source": [
    "#lista de todos os arquivos\n",
    "caged_files = sorted(glob('..\\DadosCaged\\CAGEDMOV*.txt'))\n",
    "main_df = pd.concat((pd.read_csv(file, sep=';') for file in caged_files), ignore_index=True)"
   ]
  },
  {
   "cell_type": "code",
   "execution_count": 5,
   "id": "9133ce07",
   "metadata": {},
   "outputs": [
    {
     "data": {
      "text/plain": [
       "['..\\\\DadosCaged\\\\CAGEDMOV202001.txt',\n",
       " '..\\\\DadosCaged\\\\CAGEDMOV202002.txt',\n",
       " '..\\\\DadosCaged\\\\CAGEDMOV202003.txt',\n",
       " '..\\\\DadosCaged\\\\CAGEDMOV202004.txt',\n",
       " '..\\\\DadosCaged\\\\CAGEDMOV202005.txt',\n",
       " '..\\\\DadosCaged\\\\CAGEDMOV202006.txt',\n",
       " '..\\\\DadosCaged\\\\CAGEDMOV202007.txt',\n",
       " '..\\\\DadosCaged\\\\CAGEDMOV202008.txt',\n",
       " '..\\\\DadosCaged\\\\CAGEDMOV202009.txt',\n",
       " '..\\\\DadosCaged\\\\CAGEDMOV202010.txt',\n",
       " '..\\\\DadosCaged\\\\CAGEDMOV202011.txt',\n",
       " '..\\\\DadosCaged\\\\CAGEDMOV202012.txt',\n",
       " '..\\\\DadosCaged\\\\CAGEDMOV202101.txt',\n",
       " '..\\\\DadosCaged\\\\CAGEDMOV202102.txt',\n",
       " '..\\\\DadosCaged\\\\CAGEDMOV202103.txt']"
      ]
     },
     "execution_count": 5,
     "metadata": {},
     "output_type": "execute_result"
    }
   ],
   "source": [
    "#Lista todos os arquivos carregados e concatenados no dataframe pandemia_df\n",
    "caged_files"
   ]
  },
  {
   "cell_type": "code",
   "execution_count": 6,
   "id": "1ad5c9c7",
   "metadata": {},
   "outputs": [
    {
     "data": {
      "text/plain": [
       "Index(['competência', 'região', 'uf', 'município', 'seção', 'subclasse',\n",
       "       'saldomovimentação', 'cbo2002ocupação', 'categoria', 'graudeinstrução',\n",
       "       'idade', 'horascontratuais', 'raçacor', 'sexo', 'tipoempregador',\n",
       "       'tipoestabelecimento', 'tipomovimentação', 'tipodedeficiência',\n",
       "       'indtrabintermitente', 'indtrabparcial', 'salário', 'tamestabjan',\n",
       "       'indicadoraprendiz', 'fonte'],\n",
       "      dtype='object')"
      ]
     },
     "execution_count": 6,
     "metadata": {},
     "output_type": "execute_result"
    }
   ],
   "source": [
    "#Lista as colunas do dataframe\n",
    "main_df.columns"
   ]
  },
  {
   "cell_type": "code",
   "execution_count": 7,
   "id": "d48f8e95",
   "metadata": {},
   "outputs": [],
   "source": [
    "#Alteração dos valores numéricos para valores legíveis.\n",
    "sex = {1: 'Homem',3 :'Mulher', 9: 'Nao Identificado'}\n",
    "saldomovimentacao = {1: 'admissao', -1: 'demissao'}"
   ]
  },
  {
   "cell_type": "code",
   "execution_count": 8,
   "id": "fa6dcc8e",
   "metadata": {},
   "outputs": [],
   "source": [
    "#Aplicação dos dics criados para deixar os dados mais legíveis\n",
    "main_df['sexo'] = main_df['sexo'].apply(lambda x: sex[x])\n",
    "main_df['saldomovimentação'] = main_df['saldomovimentação'].apply(lambda x: saldomovimentacao[x])"
   ]
  },
  {
   "cell_type": "code",
   "execution_count": 9,
   "id": "3be6d4e4",
   "metadata": {},
   "outputs": [],
   "source": [
    "admissoes = main_df['saldomovimentação'] == \"admissao\"\n",
    "admissoes_df = main_df[admissoes]"
   ]
  },
  {
   "cell_type": "code",
   "execution_count": 10,
   "id": "f44c1142",
   "metadata": {},
   "outputs": [
    {
     "data": {
      "text/html": [
       "<div>\n",
       "<style scoped>\n",
       "    .dataframe tbody tr th:only-of-type {\n",
       "        vertical-align: middle;\n",
       "    }\n",
       "\n",
       "    .dataframe tbody tr th {\n",
       "        vertical-align: top;\n",
       "    }\n",
       "\n",
       "    .dataframe thead th {\n",
       "        text-align: right;\n",
       "    }\n",
       "</style>\n",
       "<table border=\"1\" class=\"dataframe\">\n",
       "  <thead>\n",
       "    <tr style=\"text-align: right;\">\n",
       "      <th></th>\n",
       "      <th>competência</th>\n",
       "      <th>região</th>\n",
       "      <th>uf</th>\n",
       "      <th>município</th>\n",
       "      <th>seção</th>\n",
       "      <th>subclasse</th>\n",
       "      <th>saldomovimentação</th>\n",
       "      <th>cbo2002ocupação</th>\n",
       "      <th>categoria</th>\n",
       "      <th>graudeinstrução</th>\n",
       "      <th>...</th>\n",
       "      <th>tipoempregador</th>\n",
       "      <th>tipoestabelecimento</th>\n",
       "      <th>tipomovimentação</th>\n",
       "      <th>tipodedeficiência</th>\n",
       "      <th>indtrabintermitente</th>\n",
       "      <th>indtrabparcial</th>\n",
       "      <th>salário</th>\n",
       "      <th>tamestabjan</th>\n",
       "      <th>indicadoraprendiz</th>\n",
       "      <th>fonte</th>\n",
       "    </tr>\n",
       "  </thead>\n",
       "  <tbody>\n",
       "    <tr>\n",
       "      <th>39694373</th>\n",
       "      <td>202103</td>\n",
       "      <td>5</td>\n",
       "      <td>50</td>\n",
       "      <td>500570</td>\n",
       "      <td>H</td>\n",
       "      <td>4930202</td>\n",
       "      <td>admissao</td>\n",
       "      <td>783225</td>\n",
       "      <td>101</td>\n",
       "      <td>7</td>\n",
       "      <td>...</td>\n",
       "      <td>0</td>\n",
       "      <td>1</td>\n",
       "      <td>20</td>\n",
       "      <td>0</td>\n",
       "      <td>0</td>\n",
       "      <td>0</td>\n",
       "      <td>1200.000000</td>\n",
       "      <td>2</td>\n",
       "      <td>0</td>\n",
       "      <td>1</td>\n",
       "    </tr>\n",
       "    <tr>\n",
       "      <th>39694379</th>\n",
       "      <td>202103</td>\n",
       "      <td>2</td>\n",
       "      <td>24</td>\n",
       "      <td>241120</td>\n",
       "      <td>G</td>\n",
       "      <td>4772500</td>\n",
       "      <td>admissao</td>\n",
       "      <td>421125</td>\n",
       "      <td>101</td>\n",
       "      <td>7</td>\n",
       "      <td>...</td>\n",
       "      <td>0</td>\n",
       "      <td>1</td>\n",
       "      <td>20</td>\n",
       "      <td>0</td>\n",
       "      <td>0</td>\n",
       "      <td>0</td>\n",
       "      <td>1100.000000</td>\n",
       "      <td>2</td>\n",
       "      <td>0</td>\n",
       "      <td>1</td>\n",
       "    </tr>\n",
       "    <tr>\n",
       "      <th>39694381</th>\n",
       "      <td>202103</td>\n",
       "      <td>4</td>\n",
       "      <td>43</td>\n",
       "      <td>430510</td>\n",
       "      <td>N</td>\n",
       "      <td>7810800</td>\n",
       "      <td>admissao</td>\n",
       "      <td>725205</td>\n",
       "      <td>106</td>\n",
       "      <td>7</td>\n",
       "      <td>...</td>\n",
       "      <td>0</td>\n",
       "      <td>1</td>\n",
       "      <td>20</td>\n",
       "      <td>0</td>\n",
       "      <td>0</td>\n",
       "      <td>0</td>\n",
       "      <td>1515.800049</td>\n",
       "      <td>8</td>\n",
       "      <td>0</td>\n",
       "      <td>1</td>\n",
       "    </tr>\n",
       "    <tr>\n",
       "      <th>39694383</th>\n",
       "      <td>202103</td>\n",
       "      <td>3</td>\n",
       "      <td>35</td>\n",
       "      <td>355030</td>\n",
       "      <td>A</td>\n",
       "      <td>151201</td>\n",
       "      <td>admissao</td>\n",
       "      <td>724315</td>\n",
       "      <td>102</td>\n",
       "      <td>7</td>\n",
       "      <td>...</td>\n",
       "      <td>2</td>\n",
       "      <td>3</td>\n",
       "      <td>10</td>\n",
       "      <td>0</td>\n",
       "      <td>0</td>\n",
       "      <td>0</td>\n",
       "      <td>1500.000000</td>\n",
       "      <td>99</td>\n",
       "      <td>0</td>\n",
       "      <td>1</td>\n",
       "    </tr>\n",
       "    <tr>\n",
       "      <th>39694384</th>\n",
       "      <td>202103</td>\n",
       "      <td>3</td>\n",
       "      <td>35</td>\n",
       "      <td>355030</td>\n",
       "      <td>I</td>\n",
       "      <td>5620101</td>\n",
       "      <td>admissao</td>\n",
       "      <td>513205</td>\n",
       "      <td>111</td>\n",
       "      <td>7</td>\n",
       "      <td>...</td>\n",
       "      <td>0</td>\n",
       "      <td>1</td>\n",
       "      <td>20</td>\n",
       "      <td>0</td>\n",
       "      <td>1</td>\n",
       "      <td>0</td>\n",
       "      <td>6567.000000</td>\n",
       "      <td>7</td>\n",
       "      <td>0</td>\n",
       "      <td>1</td>\n",
       "    </tr>\n",
       "  </tbody>\n",
       "</table>\n",
       "<p>5 rows × 24 columns</p>\n",
       "</div>"
      ],
      "text/plain": [
       "          competência  região  uf  município seção  subclasse  \\\n",
       "39694373       202103       5  50     500570     H    4930202   \n",
       "39694379       202103       2  24     241120     G    4772500   \n",
       "39694381       202103       4  43     430510     N    7810800   \n",
       "39694383       202103       3  35     355030     A     151201   \n",
       "39694384       202103       3  35     355030     I    5620101   \n",
       "\n",
       "         saldomovimentação  cbo2002ocupação  categoria  graudeinstrução  ...  \\\n",
       "39694373          admissao           783225        101                7  ...   \n",
       "39694379          admissao           421125        101                7  ...   \n",
       "39694381          admissao           725205        106                7  ...   \n",
       "39694383          admissao           724315        102                7  ...   \n",
       "39694384          admissao           513205        111                7  ...   \n",
       "\n",
       "          tipoempregador  tipoestabelecimento  tipomovimentação  \\\n",
       "39694373               0                    1                20   \n",
       "39694379               0                    1                20   \n",
       "39694381               0                    1                20   \n",
       "39694383               2                    3                10   \n",
       "39694384               0                    1                20   \n",
       "\n",
       "         tipodedeficiência  indtrabintermitente  indtrabparcial      salário  \\\n",
       "39694373                 0                    0               0  1200.000000   \n",
       "39694379                 0                    0               0  1100.000000   \n",
       "39694381                 0                    0               0  1515.800049   \n",
       "39694383                 0                    0               0  1500.000000   \n",
       "39694384                 0                    1               0  6567.000000   \n",
       "\n",
       "          tamestabjan  indicadoraprendiz  fonte  \n",
       "39694373            2                  0      1  \n",
       "39694379            2                  0      1  \n",
       "39694381            8                  0      1  \n",
       "39694383           99                  0      1  \n",
       "39694384            7                  0      1  \n",
       "\n",
       "[5 rows x 24 columns]"
      ]
     },
     "execution_count": 10,
     "metadata": {},
     "output_type": "execute_result"
    }
   ],
   "source": [
    "#Exibição dos ultimos 5 registros do dataframe cotendo somente admissões\n",
    "admissoes_df.tail()"
   ]
  },
  {
   "cell_type": "code",
   "execution_count": 11,
   "id": "f34cbb54",
   "metadata": {},
   "outputs": [
    {
     "data": {
      "text/plain": [
       "Homem     24430359\n",
       "Mulher    15264029\n",
       "Name: sexo, dtype: int64"
      ]
     },
     "execution_count": 11,
     "metadata": {},
     "output_type": "execute_result"
    }
   ],
   "source": [
    "#Quantidade de registros sem o filtro de admissão\n",
    "main_df['sexo'].value_counts()"
   ]
  },
  {
   "cell_type": "code",
   "execution_count": 12,
   "id": "b661108d",
   "metadata": {},
   "outputs": [
    {
     "data": {
      "text/plain": [
       "Homem     12562967\n",
       "Mulher     7746656\n",
       "Name: sexo, dtype: int64"
      ]
     },
     "execution_count": 12,
     "metadata": {},
     "output_type": "execute_result"
    }
   ],
   "source": [
    "#Quantidade de registros com o filtro de admissão\n",
    "admissoes_df['sexo'].value_counts()"
   ]
  },
  {
   "cell_type": "code",
   "execution_count": 13,
   "id": "c9200127",
   "metadata": {},
   "outputs": [],
   "source": [
    "homens= admissoes_df['sexo'] == \"Homem\"\n",
    "homens_admitidos_df = admissoes_df[homens]\n",
    "\n",
    "mulheres= admissoes_df['sexo'] == \"Mulher\"\n",
    "mulheres_admitidas_df = admissoes_df[mulheres]"
   ]
  },
  {
   "cell_type": "code",
   "execution_count": 14,
   "id": "fc8a0194",
   "metadata": {},
   "outputs": [],
   "source": [
    "quantidade_mulheres = mulheres_admitidas_df['sexo'].value_counts()"
   ]
  },
  {
   "cell_type": "code",
   "execution_count": 15,
   "id": "a7c59ade",
   "metadata": {},
   "outputs": [],
   "source": [
    "quantidade_homens = homens_admitidos_df['sexo'].value_counts()"
   ]
  },
  {
   "cell_type": "code",
   "execution_count": 16,
   "id": "09774373",
   "metadata": {},
   "outputs": [],
   "source": [
    "#Total do salário de cada gênero:\n",
    "salario_homens_admt = homens_admitidos_df['salário'].sum().round(2)\n",
    "salario_mulheres_admt = mulheres_admitidas_df['salário'].sum().round(2)"
   ]
  },
  {
   "cell_type": "code",
   "execution_count": 19,
   "id": "4c5d6ace",
   "metadata": {},
   "outputs": [
    {
     "name": "stdout",
     "output_type": "stream",
     "text": [
      "Salário total (homens):  442212060068.8\n"
     ]
    }
   ],
   "source": [
    "print('Salário total (homens): ', salario_homens_admt)"
   ]
  },
  {
   "cell_type": "code",
   "execution_count": 21,
   "id": "3d4000f5",
   "metadata": {},
   "outputs": [
    {
     "name": "stdout",
     "output_type": "stream",
     "text": [
      "Salário total (mulheres):  24173650632.27\n"
     ]
    }
   ],
   "source": [
    "print('Salário total (mulheres): ', salario_mulheres_admt)"
   ]
  },
  {
   "cell_type": "code",
   "execution_count": 22,
   "id": "c49f13ae",
   "metadata": {},
   "outputs": [],
   "source": [
    "media_sal_homem = salario_homens_admt / quantidade_homens[0]\n",
    "media_sal_homem = round(media_sal_homem, 2)"
   ]
  },
  {
   "cell_type": "code",
   "execution_count": 23,
   "id": "34a06648",
   "metadata": {},
   "outputs": [],
   "source": [
    "media_sal_mulher = salario_mulheres_admt / quantidade_mulheres[0]\n",
    "media_sal_mulher = round(media_sal_mulher, 2)"
   ]
  },
  {
   "cell_type": "code",
   "execution_count": 25,
   "id": "25637df3",
   "metadata": {},
   "outputs": [
    {
     "name": "stdout",
     "output_type": "stream",
     "text": [
      "Média salarial (Homem): R$ 35199.65\n",
      "Média salarial (Mulher): R$ 3120.53\n",
      "Diferença salarial: R$ 32079.12\n"
     ]
    }
   ],
   "source": [
    "#Diferença salarial entre homens e mulheres:\n",
    "print('Média salarial (Homem): R$', media_sal_homem)\n",
    "print('Média salarial (Mulher): R$', media_sal_mulher)\n",
    "print('Diferença salarial: R$', round((media_sal_homem - media_sal_mulher), 2))"
   ]
  },
  {
   "cell_type": "code",
   "execution_count": 26,
   "id": "b2e27ac7",
   "metadata": {},
   "outputs": [
    {
     "data": {
      "text/html": [
       "<div>\n",
       "<style scoped>\n",
       "    .dataframe tbody tr th:only-of-type {\n",
       "        vertical-align: middle;\n",
       "    }\n",
       "\n",
       "    .dataframe tbody tr th {\n",
       "        vertical-align: top;\n",
       "    }\n",
       "\n",
       "    .dataframe thead th {\n",
       "        text-align: right;\n",
       "    }\n",
       "</style>\n",
       "<table border=\"1\" class=\"dataframe\">\n",
       "  <thead>\n",
       "    <tr style=\"text-align: right;\">\n",
       "      <th></th>\n",
       "      <th>Média Salarial</th>\n",
       "      <th>Gênero</th>\n",
       "      <th>Diferença Salarial</th>\n",
       "    </tr>\n",
       "  </thead>\n",
       "  <tbody>\n",
       "    <tr>\n",
       "      <th>0</th>\n",
       "      <td>3120.53</td>\n",
       "      <td>Mulher</td>\n",
       "      <td>-32079.12</td>\n",
       "    </tr>\n",
       "    <tr>\n",
       "      <th>1</th>\n",
       "      <td>35199.65</td>\n",
       "      <td>Homem</td>\n",
       "      <td>32079.12</td>\n",
       "    </tr>\n",
       "  </tbody>\n",
       "</table>\n",
       "</div>"
      ],
      "text/plain": [
       "   Média Salarial  Gênero  Diferença Salarial\n",
       "0         3120.53  Mulher           -32079.12\n",
       "1        35199.65   Homem            32079.12"
      ]
     },
     "execution_count": 26,
     "metadata": {},
     "output_type": "execute_result"
    }
   ],
   "source": [
    "dif_salarial_df = {'Média Salarial':  [media_sal_mulher, media_sal_homem],\n",
    "                   'Gênero': ['Mulher', 'Homem'],\n",
    "        'Diferença Salarial': [round((media_sal_mulher - media_sal_homem), 2), round((media_sal_homem - media_sal_mulher), 2)]}\n",
    "\n",
    "dif_salarial_df = pd.DataFrame (dif_salarial_df, columns = ['Média Salarial','Gênero','Diferença Salarial'])\n",
    "\n",
    "dif_salarial_df"
   ]
  },
  {
   "cell_type": "code",
   "execution_count": 28,
   "id": "bc4b3582",
   "metadata": {},
   "outputs": [
    {
     "data": {
      "image/png": "[encoded data removed]",
      "text/plain": [
       "<Figure size 432x288 with 1 Axes>"
      ]
     },
     "metadata": {},
     "output_type": "display_data"
    }
   ],
   "source": [
    "fig_dims = (6, 4)\n",
    "fig, ax = plt.subplots(figsize=fig_dims)\n",
    "ax = sb.barplot(x=dif_salarial_df['Gênero'], \n",
    "                y=dif_salarial_df['Média Salarial'], \n",
    "                data=dif_salarial_df, \n",
    "                dodge=False, \n",
    "                palette='husl',\n",
    "                hue=dif_salarial_df['Gênero'])\n",
    "ax.set_title(\"Diferença Salarial entre homens e mulheres admitidos\\n\\n\", fontsize = 20)\n",
    "ax.text(x=0.5,\n",
    "        y=1.03,\n",
    "        s='Média salarial(homens):' +\n",
    "            str(media_sal_homem) +\n",
    "            ' | Média salarial(Mulheres):' +\n",
    "            str(media_sal_mulher) +\n",
    "            ' | Diferença salarial: ' +\n",
    "            str(round((media_sal_homem - media_sal_mulher), 2)),\n",
    "        fontsize=14,\n",
    "        ha='center',\n",
    "        va='bottom',\n",
    "        transform=ax.transAxes)\n",
    "ax.set_xlabel(\"\\nGênero\\n\", fontsize = 14)\n",
    "ax.set_ylabel(\"\\nMédia Salarial\\n\", fontsize = 14)\n",
    "\n",
    "def change_width(ax, new_value) :\n",
    "    for patch in ax.patches :\n",
    "        current_width = patch.get_width()\n",
    "        diff = current_width - new_value\n",
    "\n",
    "        # we change the bar width\n",
    "        patch.set_width(new_value)\n",
    "\n",
    "        # we recenter the bar\n",
    "        patch.set_x(patch.get_x() + diff * .5)\n",
    "\n",
    "change_width(ax, .20)"
   ]
  },
  {
   "cell_type": "code",
   "execution_count": null,
   "id": "238eba00",
   "metadata": {},
   "outputs": [],
   "source": []
  }
 ],
 "metadata": {
  "kernelspec": {
   "display_name": "Python 3",
   "language": "python",
   "name": "python3"
  },
  "language_info": {
   "codemirror_mode": {
    "name": "ipython",
    "version": 3
   },
   "file_extension": ".py",
   "mimetype": "text/x-python",
   "name": "python",
   "nbconvert_exporter": "python",
   "pygments_lexer": "ipython3",
   "version": "3.8.2"
  }
 },
 "nbformat": 4,
 "nbformat_minor": 5
}
