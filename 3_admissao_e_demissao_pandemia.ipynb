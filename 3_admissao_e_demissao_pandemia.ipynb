{
 "cells": [
  {
   "cell_type": "code",
   "execution_count": null,
   "id": "184a45a2",
   "metadata": {},
   "outputs": [],
   "source": [
    "# 3 – Quero saber a quantidade de admissões/demissões por gênero no período da pandemia."
   ]
  },
  {
   "cell_type": "code",
   "execution_count": 11,
   "id": "a4a2452f",
   "metadata": {},
   "outputs": [],
   "source": [
    "import pandas as pd\n",
    "import matplotlib.pyplot as plt\n",
    "from glob import glob"
   ]
  },
  {
   "cell_type": "code",
   "execution_count": 12,
   "id": "24083a51",
   "metadata": {
    "scrolled": true
   },
   "outputs": [],
   "source": [
    "# lista de todos os arquivos\n",
    "caged_files = sorted(glob('..\\DadosCaged\\CAGEDMOV*.txt'))\n",
    "# pd.concat((pd.read_csv(file) for file in caged_files))\n",
    "# print(caged_files)\n",
    "pandemia_df = pd.concat((pd.read_csv(file, sep=';') for file in caged_files), ignore_index=True)"
   ]
  },
  {
   "cell_type": "code",
   "execution_count": 13,
   "id": "26cd5b29",
   "metadata": {
    "scrolled": true
   },
   "outputs": [
    {
     "data": {
      "text/plain": [
       "['..\\\\DadosCaged\\\\CAGEDMOV202003.txt',\n",
       " '..\\\\DadosCaged\\\\CAGEDMOV202004.txt',\n",
       " '..\\\\DadosCaged\\\\CAGEDMOV202005.txt',\n",
       " '..\\\\DadosCaged\\\\CAGEDMOV202006.txt',\n",
       " '..\\\\DadosCaged\\\\CAGEDMOV202007.txt',\n",
       " '..\\\\DadosCaged\\\\CAGEDMOV202008.txt',\n",
       " '..\\\\DadosCaged\\\\CAGEDMOV202009.txt',\n",
       " '..\\\\DadosCaged\\\\CAGEDMOV202010.txt',\n",
       " '..\\\\DadosCaged\\\\CAGEDMOV202011.txt',\n",
       " '..\\\\DadosCaged\\\\CAGEDMOV202012.txt',\n",
       " '..\\\\DadosCaged\\\\CAGEDMOV202101.txt',\n",
       " '..\\\\DadosCaged\\\\CAGEDMOV202102.txt',\n",
       " '..\\\\DadosCaged\\\\CAGEDMOV202103.txt']"
      ]
     },
     "execution_count": 13,
     "metadata": {},
     "output_type": "execute_result"
    }
   ],
   "source": [
    "#Lista todos os arquivos carregados e concatenados no dataframe pandemia_df\n",
    "caged_files"
   ]
  },
  {
   "cell_type": "code",
   "execution_count": 15,
   "id": "cc97a7d6",
   "metadata": {
    "scrolled": true
   },
   "outputs": [
    {
     "data": {
      "text/plain": [
       "Index(['competência', 'região', 'uf', 'município', 'seção', 'subclasse',\n",
       "       'saldomovimentação', 'cbo2002ocupação', 'categoria', 'graudeinstrução',\n",
       "       'idade', 'horascontratuais', 'raçacor', 'sexo', 'tipoempregador',\n",
       "       'tipoestabelecimento', 'tipomovimentação', 'tipodedeficiência',\n",
       "       'indtrabintermitente', 'indtrabparcial', 'salário', 'tamestabjan',\n",
       "       'indicadoraprendiz', 'fonte'],\n",
       "      dtype='object')"
      ]
     },
     "execution_count": 15,
     "metadata": {},
     "output_type": "execute_result"
    }
   ],
   "source": [
    "#Lista as colunas do dataframe\n",
    "pandemia_df.columns"
   ]
  },
  {
   "cell_type": "code",
   "execution_count": 16,
   "id": "0b356263",
   "metadata": {},
   "outputs": [],
   "source": [
    "#Criação do filtro de admissão/demissão\n",
    "fired = pandemia_df['saldomovimentação'] == -1\n",
    "hired = pandemia_df['saldomovimentação'] == 1"
   ]
  },
  {
   "cell_type": "code",
   "execution_count": 17,
   "id": "5092b821",
   "metadata": {},
   "outputs": [],
   "source": [
    "#Criação do filtro de data(inicio da pandemia até atualmente)\n",
    "dataPandemiaInicio = pandemia_df['competência'] >= 202003\n",
    "dataPandemiaAtual = pandemia_df['competência'] <= 202105"
   ]
  },
  {
   "cell_type": "code",
   "execution_count": 38,
   "id": "d3a3eb9e",
   "metadata": {},
   "outputs": [],
   "source": [
    "#Alteração dos valores numéricos para valores legíveis.\n",
    "sex = { 1: \"homem\", 3: \"mulher\"}\n",
    "saldomovimentacao = {1: 'admissao', -1: 'demissao'}"
   ]
  },
  {
   "cell_type": "code",
   "execution_count": 39,
   "id": "1998f3e7",
   "metadata": {},
   "outputs": [],
   "source": [
    "#Aplicação dos dics criados para deixar os dados mais legíveis\n",
    "pandemia_df['sexo'] = pandemia_df['sexo'].apply(lambda x: sex[x])\n",
    "pandemia_df['saldomovimentação'] = pandemia_df['saldomovimentação'].apply(lambda x: saldomovimentacao[x])"
   ]
  },
  {
   "cell_type": "code",
   "execution_count": 42,
   "id": "90f895e3",
   "metadata": {},
   "outputs": [
    {
     "data": {
      "text/html": [
       "<div>\n",
       "<style scoped>\n",
       "    .dataframe tbody tr th:only-of-type {\n",
       "        vertical-align: middle;\n",
       "    }\n",
       "\n",
       "    .dataframe tbody tr th {\n",
       "        vertical-align: top;\n",
       "    }\n",
       "\n",
       "    .dataframe thead th {\n",
       "        text-align: right;\n",
       "    }\n",
       "</style>\n",
       "<table border=\"1\" class=\"dataframe\">\n",
       "  <thead>\n",
       "    <tr style=\"text-align: right;\">\n",
       "      <th></th>\n",
       "      <th>competência</th>\n",
       "      <th>região</th>\n",
       "      <th>uf</th>\n",
       "      <th>município</th>\n",
       "      <th>seção</th>\n",
       "      <th>subclasse</th>\n",
       "      <th>saldomovimentação</th>\n",
       "      <th>cbo2002ocupação</th>\n",
       "      <th>categoria</th>\n",
       "      <th>graudeinstrução</th>\n",
       "      <th>...</th>\n",
       "      <th>tipoempregador</th>\n",
       "      <th>tipoestabelecimento</th>\n",
       "      <th>tipomovimentação</th>\n",
       "      <th>tipodedeficiência</th>\n",
       "      <th>indtrabintermitente</th>\n",
       "      <th>indtrabparcial</th>\n",
       "      <th>salário</th>\n",
       "      <th>tamestabjan</th>\n",
       "      <th>indicadoraprendiz</th>\n",
       "      <th>fonte</th>\n",
       "    </tr>\n",
       "  </thead>\n",
       "  <tbody>\n",
       "    <tr>\n",
       "      <th>33797762</th>\n",
       "      <td>202103</td>\n",
       "      <td>3</td>\n",
       "      <td>35</td>\n",
       "      <td>355030</td>\n",
       "      <td>A</td>\n",
       "      <td>151201</td>\n",
       "      <td>admissao</td>\n",
       "      <td>724315</td>\n",
       "      <td>102</td>\n",
       "      <td>7</td>\n",
       "      <td>...</td>\n",
       "      <td>2</td>\n",
       "      <td>3</td>\n",
       "      <td>10</td>\n",
       "      <td>0</td>\n",
       "      <td>0</td>\n",
       "      <td>0</td>\n",
       "      <td>1500.000000</td>\n",
       "      <td>99</td>\n",
       "      <td>0</td>\n",
       "      <td>1</td>\n",
       "    </tr>\n",
       "    <tr>\n",
       "      <th>33797763</th>\n",
       "      <td>202103</td>\n",
       "      <td>3</td>\n",
       "      <td>35</td>\n",
       "      <td>355030</td>\n",
       "      <td>I</td>\n",
       "      <td>5620101</td>\n",
       "      <td>admissao</td>\n",
       "      <td>513205</td>\n",
       "      <td>111</td>\n",
       "      <td>7</td>\n",
       "      <td>...</td>\n",
       "      <td>0</td>\n",
       "      <td>1</td>\n",
       "      <td>20</td>\n",
       "      <td>0</td>\n",
       "      <td>1</td>\n",
       "      <td>0</td>\n",
       "      <td>6567.000000</td>\n",
       "      <td>7</td>\n",
       "      <td>0</td>\n",
       "      <td>1</td>\n",
       "    </tr>\n",
       "    <tr>\n",
       "      <th>33797764</th>\n",
       "      <td>202103</td>\n",
       "      <td>2</td>\n",
       "      <td>25</td>\n",
       "      <td>251370</td>\n",
       "      <td>C</td>\n",
       "      <td>1532700</td>\n",
       "      <td>demissao</td>\n",
       "      <td>764105</td>\n",
       "      <td>101</td>\n",
       "      <td>7</td>\n",
       "      <td>...</td>\n",
       "      <td>0</td>\n",
       "      <td>1</td>\n",
       "      <td>31</td>\n",
       "      <td>0</td>\n",
       "      <td>0</td>\n",
       "      <td>0</td>\n",
       "      <td>1122.000000</td>\n",
       "      <td>10</td>\n",
       "      <td>0</td>\n",
       "      <td>1</td>\n",
       "    </tr>\n",
       "    <tr>\n",
       "      <th>33797765</th>\n",
       "      <td>202103</td>\n",
       "      <td>3</td>\n",
       "      <td>33</td>\n",
       "      <td>330455</td>\n",
       "      <td>I</td>\n",
       "      <td>5510801</td>\n",
       "      <td>demissao</td>\n",
       "      <td>513505</td>\n",
       "      <td>101</td>\n",
       "      <td>6</td>\n",
       "      <td>...</td>\n",
       "      <td>0</td>\n",
       "      <td>1</td>\n",
       "      <td>31</td>\n",
       "      <td>0</td>\n",
       "      <td>0</td>\n",
       "      <td>0</td>\n",
       "      <td>1021.419983</td>\n",
       "      <td>5</td>\n",
       "      <td>0</td>\n",
       "      <td>1</td>\n",
       "    </tr>\n",
       "    <tr>\n",
       "      <th>33797766</th>\n",
       "      <td>202103</td>\n",
       "      <td>3</td>\n",
       "      <td>35</td>\n",
       "      <td>354980</td>\n",
       "      <td>G</td>\n",
       "      <td>4530701</td>\n",
       "      <td>demissao</td>\n",
       "      <td>142105</td>\n",
       "      <td>101</td>\n",
       "      <td>9</td>\n",
       "      <td>...</td>\n",
       "      <td>0</td>\n",
       "      <td>1</td>\n",
       "      <td>31</td>\n",
       "      <td>0</td>\n",
       "      <td>0</td>\n",
       "      <td>0</td>\n",
       "      <td>4500.000000</td>\n",
       "      <td>4</td>\n",
       "      <td>0</td>\n",
       "      <td>1</td>\n",
       "    </tr>\n",
       "  </tbody>\n",
       "</table>\n",
       "<p>5 rows × 24 columns</p>\n",
       "</div>"
      ],
      "text/plain": [
       "          competência  região  uf  município seção  subclasse  \\\n",
       "33797762       202103       3  35     355030     A     151201   \n",
       "33797763       202103       3  35     355030     I    5620101   \n",
       "33797764       202103       2  25     251370     C    1532700   \n",
       "33797765       202103       3  33     330455     I    5510801   \n",
       "33797766       202103       3  35     354980     G    4530701   \n",
       "\n",
       "         saldomovimentação  cbo2002ocupação  categoria  graudeinstrução  ...  \\\n",
       "33797762          admissao           724315        102                7  ...   \n",
       "33797763          admissao           513205        111                7  ...   \n",
       "33797764          demissao           764105        101                7  ...   \n",
       "33797765          demissao           513505        101                6  ...   \n",
       "33797766          demissao           142105        101                9  ...   \n",
       "\n",
       "          tipoempregador  tipoestabelecimento  tipomovimentação  \\\n",
       "33797762               2                    3                10   \n",
       "33797763               0                    1                20   \n",
       "33797764               0                    1                31   \n",
       "33797765               0                    1                31   \n",
       "33797766               0                    1                31   \n",
       "\n",
       "         tipodedeficiência  indtrabintermitente  indtrabparcial      salário  \\\n",
       "33797762                 0                    0               0  1500.000000   \n",
       "33797763                 0                    1               0  6567.000000   \n",
       "33797764                 0                    0               0  1122.000000   \n",
       "33797765                 0                    0               0  1021.419983   \n",
       "33797766                 0                    0               0  4500.000000   \n",
       "\n",
       "          tamestabjan  indicadoraprendiz  fonte  \n",
       "33797762           99                  0      1  \n",
       "33797763            7                  0      1  \n",
       "33797764           10                  0      1  \n",
       "33797765            5                  0      1  \n",
       "33797766            4                  0      1  \n",
       "\n",
       "[5 rows x 24 columns]"
      ]
     },
     "execution_count": 42,
     "metadata": {},
     "output_type": "execute_result"
    }
   ],
   "source": [
    "#Exibição dos ultimos 5 registros\n",
    "pandemia_df.tail()"
   ]
  },
  {
   "cell_type": "code",
   "execution_count": 36,
   "id": "62901a18",
   "metadata": {},
   "outputs": [
    {
     "data": {
      "text/plain": [
       "homem     20897273\n",
       "mulher    12900494\n",
       "Name: sexo, dtype: int64"
      ]
     },
     "execution_count": 36,
     "metadata": {},
     "output_type": "execute_result"
    }
   ],
   "source": [
    "#Quantidade de registros pertencentes a cada sesgo\n",
    "pandemia_df['sexo'].value_counts()"
   ]
  },
  {
   "cell_type": "code",
   "execution_count": 40,
   "id": "9d9a8370",
   "metadata": {},
   "outputs": [
    {
     "data": {
      "text/plain": [
       "homem     10202808\n",
       "mulher     6405367\n",
       "Name: sexo, dtype: int64"
      ]
     },
     "execution_count": 40,
     "metadata": {},
     "output_type": "execute_result"
    }
   ],
   "source": [
    "#Quantidade de demissões por gênero no período da pandemia.\n",
    "pandemia_df[fired]['sexo'][dataPandemiaInicio & dataPandemiaAtual].value_counts()"
   ]
  },
  {
   "cell_type": "code",
   "execution_count": 41,
   "id": "6811c82a",
   "metadata": {
    "scrolled": true
   },
   "outputs": [
    {
     "data": {
      "text/plain": [
       "homem     10694465\n",
       "mulher     6495127\n",
       "Name: sexo, dtype: int64"
      ]
     },
     "execution_count": 41,
     "metadata": {},
     "output_type": "execute_result"
    }
   ],
   "source": [
    "#Quantidade de admissões por gênero no período da pandemia.\n",
    "pandemia_df[hired]['sexo'][dataPandemiaInicio & dataPandemiaAtual].value_counts()"
   ]
  }
 ],
 "metadata": {
  "kernelspec": {
   "display_name": "Python 3",
   "language": "python",
   "name": "python3"
  },
  "language_info": {
   "codemirror_mode": {
    "name": "ipython",
    "version": 3
   },
   "file_extension": ".py",
   "mimetype": "text/x-python",
   "name": "python",
   "nbconvert_exporter": "python",
   "pygments_lexer": "ipython3",
   "version": "3.8.2"
  }
 },
 "nbformat": 4,
 "nbformat_minor": 5
}
