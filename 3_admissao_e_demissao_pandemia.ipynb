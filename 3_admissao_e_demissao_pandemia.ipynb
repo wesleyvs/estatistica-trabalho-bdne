{
 "cells": [
  {
   "cell_type": "code",
   "execution_count": 1,
   "id": "184a45a2",
   "metadata": {},
   "outputs": [],
   "source": [
    "# 3 – Quero saber a quantidade de admissões/demissões por gênero no período da pandemia."
   ]
  },
  {
   "cell_type": "code",
   "execution_count": 1,
   "id": "a4a2452f",
   "metadata": {},
   "outputs": [],
   "source": [
    "import pandas as pd\n",
    "import matplotlib.pyplot as plt\n",
    "from glob import glob\n",
    "import matplotlib as mpl\n",
    "import seaborn as sb"
   ]
  },
  {
   "cell_type": "code",
   "execution_count": 34,
   "id": "24083a51",
   "metadata": {
    "scrolled": true
   },
   "outputs": [],
   "source": [
    "# lista de todos os arquivos\n",
    "caged_files = sorted(glob('..\\DadosCaged\\CAGEDMOV*.txt'))\n",
    "# pd.concat((pd.read_csv(file) for file in caged_files))\n",
    "# print(caged_files)\n",
    "pandemia_df = pd.concat((pd.read_csv(file, sep=';') for file in caged_files), ignore_index=True)"
   ]
  },
  {
   "cell_type": "code",
   "execution_count": 35,
   "id": "26cd5b29",
   "metadata": {
    "scrolled": false
   },
   "outputs": [
    {
     "data": {
      "text/plain": [
       "['..\\\\DadosCaged\\\\CAGEDMOV202003.txt',\n",
       " '..\\\\DadosCaged\\\\CAGEDMOV202004.txt',\n",
       " '..\\\\DadosCaged\\\\CAGEDMOV202005.txt',\n",
       " '..\\\\DadosCaged\\\\CAGEDMOV202006.txt',\n",
       " '..\\\\DadosCaged\\\\CAGEDMOV202007.txt',\n",
       " '..\\\\DadosCaged\\\\CAGEDMOV202008.txt',\n",
       " '..\\\\DadosCaged\\\\CAGEDMOV202009.txt',\n",
       " '..\\\\DadosCaged\\\\CAGEDMOV202010.txt',\n",
       " '..\\\\DadosCaged\\\\CAGEDMOV202011.txt',\n",
       " '..\\\\DadosCaged\\\\CAGEDMOV202012.txt',\n",
       " '..\\\\DadosCaged\\\\CAGEDMOV202101.txt',\n",
       " '..\\\\DadosCaged\\\\CAGEDMOV202102.txt',\n",
       " '..\\\\DadosCaged\\\\CAGEDMOV202103.txt']"
      ]
     },
     "execution_count": 35,
     "metadata": {},
     "output_type": "execute_result"
    }
   ],
   "source": [
    "#Lista todos os arquivos carregados e concatenados no dataframe pandemia_df\n",
    "caged_files"
   ]
  },
  {
   "cell_type": "code",
   "execution_count": 36,
   "id": "cc97a7d6",
   "metadata": {
    "scrolled": true
   },
   "outputs": [
    {
     "data": {
      "text/plain": [
       "Index(['competência', 'região', 'uf', 'município', 'seção', 'subclasse',\n",
       "       'saldomovimentação', 'cbo2002ocupação', 'categoria', 'graudeinstrução',\n",
       "       'idade', 'horascontratuais', 'raçacor', 'sexo', 'tipoempregador',\n",
       "       'tipoestabelecimento', 'tipomovimentação', 'tipodedeficiência',\n",
       "       'indtrabintermitente', 'indtrabparcial', 'salário', 'tamestabjan',\n",
       "       'indicadoraprendiz', 'fonte'],\n",
       "      dtype='object')"
      ]
     },
     "execution_count": 36,
     "metadata": {},
     "output_type": "execute_result"
    }
   ],
   "source": [
    "#Lista as colunas do dataframe\n",
    "pandemia_df.columns"
   ]
  },
  {
   "cell_type": "code",
   "execution_count": 37,
   "id": "0b356263",
   "metadata": {},
   "outputs": [],
   "source": [
    "#Criação do filtro de admissão/demissão\n",
    "fired = pandemia_df['saldomovimentação'] == -1\n",
    "hired = pandemia_df['saldomovimentação'] == 1"
   ]
  },
  {
   "cell_type": "code",
   "execution_count": 38,
   "id": "5092b821",
   "metadata": {},
   "outputs": [],
   "source": [
    "#Criação do filtro de data(inicio da pandemia até atualmente)\n",
    "dataPandemiaInicio = pandemia_df['competência'] >= 202003\n",
    "dataPandemiaAtual = pandemia_df['competência'] <= 202105"
   ]
  },
  {
   "cell_type": "code",
   "execution_count": 39,
   "id": "d3a3eb9e",
   "metadata": {},
   "outputs": [],
   "source": [
    "#Alteração dos valores numéricos para valores legíveis.\n",
    "sex = { 1: \"homem\", 3: \"mulher\"}\n",
    "saldomovimentacao = {1: 'admissao', -1: 'demissao'}"
   ]
  },
  {
   "cell_type": "code",
   "execution_count": 40,
   "id": "1998f3e7",
   "metadata": {},
   "outputs": [],
   "source": [
    "#Aplicação dos dics criados para deixar os dados mais legíveis\n",
    "pandemia_df['sexo'] = pandemia_df['sexo'].apply(lambda x: sex[x])\n",
    "pandemia_df['saldomovimentação'] = pandemia_df['saldomovimentação'].apply(lambda x: saldomovimentacao[x])"
   ]
  },
  {
   "cell_type": "code",
   "execution_count": 41,
   "id": "90f895e3",
   "metadata": {},
   "outputs": [
    {
     "data": {
      "text/html": [
       "<div>\n",
       "<style scoped>\n",
       "    .dataframe tbody tr th:only-of-type {\n",
       "        vertical-align: middle;\n",
       "    }\n",
       "\n",
       "    .dataframe tbody tr th {\n",
       "        vertical-align: top;\n",
       "    }\n",
       "\n",
       "    .dataframe thead th {\n",
       "        text-align: right;\n",
       "    }\n",
       "</style>\n",
       "<table border=\"1\" class=\"dataframe\">\n",
       "  <thead>\n",
       "    <tr style=\"text-align: right;\">\n",
       "      <th></th>\n",
       "      <th>competência</th>\n",
       "      <th>região</th>\n",
       "      <th>uf</th>\n",
       "      <th>município</th>\n",
       "      <th>seção</th>\n",
       "      <th>subclasse</th>\n",
       "      <th>saldomovimentação</th>\n",
       "      <th>cbo2002ocupação</th>\n",
       "      <th>categoria</th>\n",
       "      <th>graudeinstrução</th>\n",
       "      <th>...</th>\n",
       "      <th>tipoempregador</th>\n",
       "      <th>tipoestabelecimento</th>\n",
       "      <th>tipomovimentação</th>\n",
       "      <th>tipodedeficiência</th>\n",
       "      <th>indtrabintermitente</th>\n",
       "      <th>indtrabparcial</th>\n",
       "      <th>salário</th>\n",
       "      <th>tamestabjan</th>\n",
       "      <th>indicadoraprendiz</th>\n",
       "      <th>fonte</th>\n",
       "    </tr>\n",
       "  </thead>\n",
       "  <tbody>\n",
       "    <tr>\n",
       "      <th>33797762</th>\n",
       "      <td>202103</td>\n",
       "      <td>3</td>\n",
       "      <td>35</td>\n",
       "      <td>355030</td>\n",
       "      <td>A</td>\n",
       "      <td>151201</td>\n",
       "      <td>admissao</td>\n",
       "      <td>724315</td>\n",
       "      <td>102</td>\n",
       "      <td>7</td>\n",
       "      <td>...</td>\n",
       "      <td>2</td>\n",
       "      <td>3</td>\n",
       "      <td>10</td>\n",
       "      <td>0</td>\n",
       "      <td>0</td>\n",
       "      <td>0</td>\n",
       "      <td>1500.000000</td>\n",
       "      <td>99</td>\n",
       "      <td>0</td>\n",
       "      <td>1</td>\n",
       "    </tr>\n",
       "    <tr>\n",
       "      <th>33797763</th>\n",
       "      <td>202103</td>\n",
       "      <td>3</td>\n",
       "      <td>35</td>\n",
       "      <td>355030</td>\n",
       "      <td>I</td>\n",
       "      <td>5620101</td>\n",
       "      <td>admissao</td>\n",
       "      <td>513205</td>\n",
       "      <td>111</td>\n",
       "      <td>7</td>\n",
       "      <td>...</td>\n",
       "      <td>0</td>\n",
       "      <td>1</td>\n",
       "      <td>20</td>\n",
       "      <td>0</td>\n",
       "      <td>1</td>\n",
       "      <td>0</td>\n",
       "      <td>6567.000000</td>\n",
       "      <td>7</td>\n",
       "      <td>0</td>\n",
       "      <td>1</td>\n",
       "    </tr>\n",
       "    <tr>\n",
       "      <th>33797764</th>\n",
       "      <td>202103</td>\n",
       "      <td>2</td>\n",
       "      <td>25</td>\n",
       "      <td>251370</td>\n",
       "      <td>C</td>\n",
       "      <td>1532700</td>\n",
       "      <td>demissao</td>\n",
       "      <td>764105</td>\n",
       "      <td>101</td>\n",
       "      <td>7</td>\n",
       "      <td>...</td>\n",
       "      <td>0</td>\n",
       "      <td>1</td>\n",
       "      <td>31</td>\n",
       "      <td>0</td>\n",
       "      <td>0</td>\n",
       "      <td>0</td>\n",
       "      <td>1122.000000</td>\n",
       "      <td>10</td>\n",
       "      <td>0</td>\n",
       "      <td>1</td>\n",
       "    </tr>\n",
       "    <tr>\n",
       "      <th>33797765</th>\n",
       "      <td>202103</td>\n",
       "      <td>3</td>\n",
       "      <td>33</td>\n",
       "      <td>330455</td>\n",
       "      <td>I</td>\n",
       "      <td>5510801</td>\n",
       "      <td>demissao</td>\n",
       "      <td>513505</td>\n",
       "      <td>101</td>\n",
       "      <td>6</td>\n",
       "      <td>...</td>\n",
       "      <td>0</td>\n",
       "      <td>1</td>\n",
       "      <td>31</td>\n",
       "      <td>0</td>\n",
       "      <td>0</td>\n",
       "      <td>0</td>\n",
       "      <td>1021.419983</td>\n",
       "      <td>5</td>\n",
       "      <td>0</td>\n",
       "      <td>1</td>\n",
       "    </tr>\n",
       "    <tr>\n",
       "      <th>33797766</th>\n",
       "      <td>202103</td>\n",
       "      <td>3</td>\n",
       "      <td>35</td>\n",
       "      <td>354980</td>\n",
       "      <td>G</td>\n",
       "      <td>4530701</td>\n",
       "      <td>demissao</td>\n",
       "      <td>142105</td>\n",
       "      <td>101</td>\n",
       "      <td>9</td>\n",
       "      <td>...</td>\n",
       "      <td>0</td>\n",
       "      <td>1</td>\n",
       "      <td>31</td>\n",
       "      <td>0</td>\n",
       "      <td>0</td>\n",
       "      <td>0</td>\n",
       "      <td>4500.000000</td>\n",
       "      <td>4</td>\n",
       "      <td>0</td>\n",
       "      <td>1</td>\n",
       "    </tr>\n",
       "  </tbody>\n",
       "</table>\n",
       "<p>5 rows × 24 columns</p>\n",
       "</div>"
      ],
      "text/plain": [
       "          competência  região  uf  município seção  subclasse  \\\n",
       "33797762       202103       3  35     355030     A     151201   \n",
       "33797763       202103       3  35     355030     I    5620101   \n",
       "33797764       202103       2  25     251370     C    1532700   \n",
       "33797765       202103       3  33     330455     I    5510801   \n",
       "33797766       202103       3  35     354980     G    4530701   \n",
       "\n",
       "         saldomovimentação  cbo2002ocupação  categoria  graudeinstrução  ...  \\\n",
       "33797762          admissao           724315        102                7  ...   \n",
       "33797763          admissao           513205        111                7  ...   \n",
       "33797764          demissao           764105        101                7  ...   \n",
       "33797765          demissao           513505        101                6  ...   \n",
       "33797766          demissao           142105        101                9  ...   \n",
       "\n",
       "          tipoempregador  tipoestabelecimento  tipomovimentação  \\\n",
       "33797762               2                    3                10   \n",
       "33797763               0                    1                20   \n",
       "33797764               0                    1                31   \n",
       "33797765               0                    1                31   \n",
       "33797766               0                    1                31   \n",
       "\n",
       "         tipodedeficiência  indtrabintermitente  indtrabparcial      salário  \\\n",
       "33797762                 0                    0               0  1500.000000   \n",
       "33797763                 0                    1               0  6567.000000   \n",
       "33797764                 0                    0               0  1122.000000   \n",
       "33797765                 0                    0               0  1021.419983   \n",
       "33797766                 0                    0               0  4500.000000   \n",
       "\n",
       "          tamestabjan  indicadoraprendiz  fonte  \n",
       "33797762           99                  0      1  \n",
       "33797763            7                  0      1  \n",
       "33797764           10                  0      1  \n",
       "33797765            5                  0      1  \n",
       "33797766            4                  0      1  \n",
       "\n",
       "[5 rows x 24 columns]"
      ]
     },
     "execution_count": 41,
     "metadata": {},
     "output_type": "execute_result"
    }
   ],
   "source": [
    "#Exibição dos ultimos 5 registros\n",
    "pandemia_df.tail()"
   ]
  },
  {
   "cell_type": "code",
   "execution_count": 42,
   "id": "62901a18",
   "metadata": {},
   "outputs": [
    {
     "data": {
      "text/plain": [
       "homem     20897273\n",
       "mulher    12900494\n",
       "Name: sexo, dtype: int64"
      ]
     },
     "execution_count": 42,
     "metadata": {},
     "output_type": "execute_result"
    }
   ],
   "source": [
    "#Quantidade de registros pertencentes a cada sexo\n",
    "pandemia_df['sexo'].value_counts()"
   ]
  },
  {
   "cell_type": "code",
   "execution_count": 43,
   "id": "01c00f63",
   "metadata": {},
   "outputs": [
    {
     "data": {
      "text/plain": [
       "Int64Index([202003, 202004, 202005, 202006, 202007, 202008, 202009, 202010,\n",
       "            202011, 202012, 202101, 202102, 202103],\n",
       "           dtype='int64')"
      ]
     },
     "execution_count": 43,
     "metadata": {},
     "output_type": "execute_result"
    }
   ],
   "source": [
    "pandemia_df['competência'].value_counts().sort_index().index"
   ]
  },
  {
   "cell_type": "code",
   "execution_count": 44,
   "id": "4c17bed5",
   "metadata": {},
   "outputs": [],
   "source": [
    "admissoes = pandemia_df['saldomovimentação'] == \"admissao\"\n",
    "demissoes = pandemia_df['saldomovimentação'] == \"demissao\""
   ]
  },
  {
   "cell_type": "code",
   "execution_count": 45,
   "id": "229f5dab",
   "metadata": {},
   "outputs": [],
   "source": [
    "admissoes_df = pandemia_df[admissoes]\n",
    "demissoes_df = pandemia_df[demissoes]"
   ]
  },
  {
   "cell_type": "code",
   "execution_count": 46,
   "id": "6711f2ab",
   "metadata": {},
   "outputs": [
    {
     "data": {
      "text/plain": [
       "competência  sexo  \n",
       "202003       homem      889620\n",
       "             mulher     570474\n",
       "202004       homem      423953\n",
       "             mulher     232276\n",
       "202005       homem      491766\n",
       "             mulher     264368\n",
       "202006       homem      631467\n",
       "             mulher     320992\n",
       "202007       homem      769802\n",
       "             mulher     391647\n",
       "202008       homem      854371\n",
       "             mulher     451378\n",
       "202009       homem      935136\n",
       "             mulher     516548\n",
       "202010       homem     1001959\n",
       "             mulher     616053\n",
       "202011       homem      953310\n",
       "             mulher     647888\n",
       "202012       homem      743151\n",
       "             mulher     542865\n",
       "202101       homem      974690\n",
       "             mulher     622217\n",
       "202102       homem     1036916\n",
       "             mulher     698738\n",
       "202103       homem      988324\n",
       "             mulher     619683\n",
       "dtype: int64"
      ]
     },
     "execution_count": 46,
     "metadata": {},
     "output_type": "execute_result"
    }
   ],
   "source": [
    "admissoes_df[['competência', 'sexo']].value_counts().sort_index()"
   ]
  },
  {
   "cell_type": "code",
   "execution_count": 47,
   "id": "52173f30",
   "metadata": {},
   "outputs": [],
   "source": [
    "mulher = admissoes_df['sexo'] == 'mulher'"
   ]
  },
  {
   "cell_type": "code",
   "execution_count": 48,
   "id": "7d1f9c07",
   "metadata": {},
   "outputs": [],
   "source": [
    "homem = admissoes_df['sexo'] == 'homem'"
   ]
  },
  {
   "cell_type": "code",
   "execution_count": 49,
   "id": "4724acb5",
   "metadata": {},
   "outputs": [
    {
     "data": {
      "text/plain": [
       "Int64Index([202003, 202004, 202005, 202006, 202007, 202008, 202009, 202010,\n",
       "            202011, 202012, 202101, 202102, 202103],\n",
       "           dtype='int64')"
      ]
     },
     "execution_count": 49,
     "metadata": {},
     "output_type": "execute_result"
    }
   ],
   "source": [
    "admissoes_df['competência'][mulher].value_counts().sort_index().index"
   ]
  },
  {
   "cell_type": "code",
   "execution_count": 50,
   "id": "9e0dfd4d",
   "metadata": {},
   "outputs": [
    {
     "data": {
      "text/plain": [
       "array([570474, 232276, 264368, 320992, 391647, 451378, 516548, 616053,\n",
       "       647888, 542865, 622217, 698738, 619683], dtype=int64)"
      ]
     },
     "execution_count": 50,
     "metadata": {},
     "output_type": "execute_result"
    }
   ],
   "source": [
    "admissoes_mulher = admissoes_df['competência'][mulher].value_counts().sort_index().values\n",
    "admissoes_mulher"
   ]
  },
  {
   "cell_type": "code",
   "execution_count": 51,
   "id": "1d3c2c61",
   "metadata": {},
   "outputs": [
    {
     "data": {
      "text/plain": [
       "Int64Index([202003, 202004, 202005, 202006, 202007, 202008, 202009, 202010,\n",
       "            202011, 202012, 202101, 202102, 202103],\n",
       "           dtype='int64')"
      ]
     },
     "execution_count": 51,
     "metadata": {},
     "output_type": "execute_result"
    }
   ],
   "source": [
    "admissoes_df['competência'][homem].value_counts().sort_index().index"
   ]
  },
  {
   "cell_type": "code",
   "execution_count": 52,
   "id": "6104a19b",
   "metadata": {},
   "outputs": [
    {
     "data": {
      "text/plain": [
       "array([ 889620,  423953,  491766,  631467,  769802,  854371,  935136,\n",
       "       1001959,  953310,  743151,  974690, 1036916,  988324], dtype=int64)"
      ]
     },
     "execution_count": 52,
     "metadata": {},
     "output_type": "execute_result"
    }
   ],
   "source": [
    "admissoes_homem = admissoes_df['competência'][homem].value_counts().sort_index().values\n",
    "admissoes_homem"
   ]
  },
  {
   "cell_type": "code",
   "execution_count": 53,
   "id": "f8e3d271",
   "metadata": {},
   "outputs": [
    {
     "data": {
      "text/plain": [
       "array([1460094,  656229,  756134,  952459, 1161449, 1305749, 1451684,\n",
       "       1618012, 1601198, 1286016, 1596907, 1735654, 1608007], dtype=int64)"
      ]
     },
     "execution_count": 53,
     "metadata": {},
     "output_type": "execute_result"
    }
   ],
   "source": [
    "total_admissoes_df = admissoes_df['competência'].value_counts().sort_index().values\n",
    "total_admissoes_df"
   ]
  },
  {
   "cell_type": "code",
   "execution_count": 54,
   "id": "b718c146",
   "metadata": {},
   "outputs": [],
   "source": [
    "index_admissoes_df = admissoes_df['competência'].value_counts().sort_index().index"
   ]
  },
  {
   "cell_type": "code",
   "execution_count": 55,
   "id": "ec48058e",
   "metadata": {},
   "outputs": [],
   "source": [
    "admissoes_sexo = {\n",
    "    'Mulheres': admissoes_mulher,\n",
    "    'Homens': admissoes_homem,\n",
    "    'Total': total_admissoes_df\n",
    "    }\n",
    "admissoes_sexo_df = pd.DataFrame(admissoes_sexo, index = index_admissoes_df)"
   ]
  },
  {
   "cell_type": "code",
   "execution_count": 56,
   "id": "7d7eb5f1",
   "metadata": {},
   "outputs": [],
   "source": [
    "admissoes_sexo_df['Mulheres %'] = round(admissoes_sexo_df['Mulheres'] / admissoes_sexo_df['Total'] * 100,2)\n",
    "admissoes_sexo_df['Homens %'] = round(admissoes_sexo_df['Homens'] / admissoes_sexo_df['Total'] * 100,2)"
   ]
  },
  {
   "cell_type": "code",
   "execution_count": 57,
   "id": "4dd197be",
   "metadata": {},
   "outputs": [
    {
     "data": {
      "text/plain": [
       "Mulheres  Homens   Total    Mulheres %  Homens %\n",
       "232276    423953   656229   35.40       64.60       1\n",
       "264368    491766   756134   34.96       65.04       1\n",
       "320992    631467   952459   33.70       66.30       1\n",
       "391647    769802   1161449  33.72       66.28       1\n",
       "451378    854371   1305749  34.57       65.43       1\n",
       "516548    935136   1451684  35.58       64.42       1\n",
       "542865    743151   1286016  42.21       57.79       1\n",
       "570474    889620   1460094  39.07       60.93       1\n",
       "616053    1001959  1618012  38.07       61.93       1\n",
       "619683    988324   1608007  38.54       61.46       1\n",
       "622217    974690   1596907  38.96       61.04       1\n",
       "647888    953310   1601198  40.46       59.54       1\n",
       "698738    1036916  1735654  40.26       59.74       1\n",
       "dtype: int64"
      ]
     },
     "execution_count": 57,
     "metadata": {},
     "output_type": "execute_result"
    }
   ],
   "source": [
    "admissoes_sexo_df.value_counts()"
   ]
  },
  {
   "cell_type": "code",
   "execution_count": 58,
   "id": "6811c82a",
   "metadata": {
    "scrolled": true
   },
   "outputs": [],
   "source": [
    "# Quantidade de admissões por gênero no período da pandemia.\n",
    "adm_gen_pandemia_df = pandemia_df[hired]['sexo'][dataPandemiaInicio & dataPandemiaAtual].value_counts()"
   ]
  },
  {
   "cell_type": "code",
   "execution_count": 59,
   "id": "35b9ed75",
   "metadata": {},
   "outputs": [],
   "source": [
    "adm_gen_pandemia_df.index = adm_gen_pandemia_df.index.map(str)"
   ]
  },
  {
   "cell_type": "code",
   "execution_count": 60,
   "id": "d0bd48b9",
   "metadata": {},
   "outputs": [],
   "source": [
    "mes = {\n",
    "    '01': \"janeiro\",\n",
    "    '02': \"fevereiro\",\n",
    "    '03': \"marco\",\n",
    "    '04': \"abril\",\n",
    "    '05': \"maio\",\n",
    "    '06': \"junho\",\n",
    "    '07': \"julho\",\n",
    "    '08': \"agosto\",\n",
    "    '09': \"setembro\",\n",
    "    '10': \"outubro\",\n",
    "    '11': \"novembro\",\n",
    "    '12': \"dezembro\"\n",
    "}"
   ]
  },
  {
   "cell_type": "code",
   "execution_count": 71,
   "id": "cd475284",
   "metadata": {},
   "outputs": [],
   "source": [
    "admissoes_sexo_df.index = admissoes_sexo_df.index.map(str)"
   ]
  },
  {
   "cell_type": "code",
   "execution_count": 73,
   "id": "9b760ff6",
   "metadata": {},
   "outputs": [
    {
     "data": {
      "text/html": [
       "<div>\n",
       "<style scoped>\n",
       "    .dataframe tbody tr th:only-of-type {\n",
       "        vertical-align: middle;\n",
       "    }\n",
       "\n",
       "    .dataframe tbody tr th {\n",
       "        vertical-align: top;\n",
       "    }\n",
       "\n",
       "    .dataframe thead th {\n",
       "        text-align: right;\n",
       "    }\n",
       "</style>\n",
       "<table border=\"1\" class=\"dataframe\">\n",
       "  <thead>\n",
       "    <tr style=\"text-align: right;\">\n",
       "      <th></th>\n",
       "      <th>Mulheres</th>\n",
       "      <th>Homens</th>\n",
       "      <th>Total</th>\n",
       "      <th>Mulheres %</th>\n",
       "      <th>Homens %</th>\n",
       "      <th>MesAno</th>\n",
       "    </tr>\n",
       "    <tr>\n",
       "      <th>MesAno</th>\n",
       "      <th></th>\n",
       "      <th></th>\n",
       "      <th></th>\n",
       "      <th></th>\n",
       "      <th></th>\n",
       "      <th></th>\n",
       "    </tr>\n",
       "  </thead>\n",
       "  <tbody>\n",
       "    <tr>\n",
       "      <th>marco 2020</th>\n",
       "      <td>570474</td>\n",
       "      <td>889620</td>\n",
       "      <td>1460094</td>\n",
       "      <td>39.07</td>\n",
       "      <td>60.93</td>\n",
       "      <td>marco 2020</td>\n",
       "    </tr>\n",
       "    <tr>\n",
       "      <th>abril 2020</th>\n",
       "      <td>232276</td>\n",
       "      <td>423953</td>\n",
       "      <td>656229</td>\n",
       "      <td>35.40</td>\n",
       "      <td>64.60</td>\n",
       "      <td>abril 2020</td>\n",
       "    </tr>\n",
       "    <tr>\n",
       "      <th>maio 2020</th>\n",
       "      <td>264368</td>\n",
       "      <td>491766</td>\n",
       "      <td>756134</td>\n",
       "      <td>34.96</td>\n",
       "      <td>65.04</td>\n",
       "      <td>maio 2020</td>\n",
       "    </tr>\n",
       "    <tr>\n",
       "      <th>junho 2020</th>\n",
       "      <td>320992</td>\n",
       "      <td>631467</td>\n",
       "      <td>952459</td>\n",
       "      <td>33.70</td>\n",
       "      <td>66.30</td>\n",
       "      <td>junho 2020</td>\n",
       "    </tr>\n",
       "    <tr>\n",
       "      <th>julho 2020</th>\n",
       "      <td>391647</td>\n",
       "      <td>769802</td>\n",
       "      <td>1161449</td>\n",
       "      <td>33.72</td>\n",
       "      <td>66.28</td>\n",
       "      <td>julho 2020</td>\n",
       "    </tr>\n",
       "    <tr>\n",
       "      <th>agosto 2020</th>\n",
       "      <td>451378</td>\n",
       "      <td>854371</td>\n",
       "      <td>1305749</td>\n",
       "      <td>34.57</td>\n",
       "      <td>65.43</td>\n",
       "      <td>agosto 2020</td>\n",
       "    </tr>\n",
       "    <tr>\n",
       "      <th>setembro 2020</th>\n",
       "      <td>516548</td>\n",
       "      <td>935136</td>\n",
       "      <td>1451684</td>\n",
       "      <td>35.58</td>\n",
       "      <td>64.42</td>\n",
       "      <td>setembro 2020</td>\n",
       "    </tr>\n",
       "    <tr>\n",
       "      <th>outubro 2020</th>\n",
       "      <td>616053</td>\n",
       "      <td>1001959</td>\n",
       "      <td>1618012</td>\n",
       "      <td>38.07</td>\n",
       "      <td>61.93</td>\n",
       "      <td>outubro 2020</td>\n",
       "    </tr>\n",
       "    <tr>\n",
       "      <th>novembro 2020</th>\n",
       "      <td>647888</td>\n",
       "      <td>953310</td>\n",
       "      <td>1601198</td>\n",
       "      <td>40.46</td>\n",
       "      <td>59.54</td>\n",
       "      <td>novembro 2020</td>\n",
       "    </tr>\n",
       "    <tr>\n",
       "      <th>dezembro 2020</th>\n",
       "      <td>542865</td>\n",
       "      <td>743151</td>\n",
       "      <td>1286016</td>\n",
       "      <td>42.21</td>\n",
       "      <td>57.79</td>\n",
       "      <td>dezembro 2020</td>\n",
       "    </tr>\n",
       "    <tr>\n",
       "      <th>janeiro 2021</th>\n",
       "      <td>622217</td>\n",
       "      <td>974690</td>\n",
       "      <td>1596907</td>\n",
       "      <td>38.96</td>\n",
       "      <td>61.04</td>\n",
       "      <td>janeiro 2021</td>\n",
       "    </tr>\n",
       "    <tr>\n",
       "      <th>fevereiro 2021</th>\n",
       "      <td>698738</td>\n",
       "      <td>1036916</td>\n",
       "      <td>1735654</td>\n",
       "      <td>40.26</td>\n",
       "      <td>59.74</td>\n",
       "      <td>fevereiro 2021</td>\n",
       "    </tr>\n",
       "    <tr>\n",
       "      <th>marco 2021</th>\n",
       "      <td>619683</td>\n",
       "      <td>988324</td>\n",
       "      <td>1608007</td>\n",
       "      <td>38.54</td>\n",
       "      <td>61.46</td>\n",
       "      <td>marco 2021</td>\n",
       "    </tr>\n",
       "  </tbody>\n",
       "</table>\n",
       "</div>"
      ],
      "text/plain": [
       "                Mulheres   Homens    Total  Mulheres %  Homens %  \\\n",
       "MesAno                                                             \n",
       "marco 2020        570474   889620  1460094       39.07     60.93   \n",
       "abril 2020        232276   423953   656229       35.40     64.60   \n",
       "maio 2020         264368   491766   756134       34.96     65.04   \n",
       "junho 2020        320992   631467   952459       33.70     66.30   \n",
       "julho 2020        391647   769802  1161449       33.72     66.28   \n",
       "agosto 2020       451378   854371  1305749       34.57     65.43   \n",
       "setembro 2020     516548   935136  1451684       35.58     64.42   \n",
       "outubro 2020      616053  1001959  1618012       38.07     61.93   \n",
       "novembro 2020     647888   953310  1601198       40.46     59.54   \n",
       "dezembro 2020     542865   743151  1286016       42.21     57.79   \n",
       "janeiro 2021      622217   974690  1596907       38.96     61.04   \n",
       "fevereiro 2021    698738  1036916  1735654       40.26     59.74   \n",
       "marco 2021        619683   988324  1608007       38.54     61.46   \n",
       "\n",
       "                        MesAno  \n",
       "MesAno                          \n",
       "marco 2020          marco 2020  \n",
       "abril 2020          abril 2020  \n",
       "maio 2020            maio 2020  \n",
       "junho 2020          junho 2020  \n",
       "julho 2020          julho 2020  \n",
       "agosto 2020        agosto 2020  \n",
       "setembro 2020    setembro 2020  \n",
       "outubro 2020      outubro 2020  \n",
       "novembro 2020    novembro 2020  \n",
       "dezembro 2020    dezembro 2020  \n",
       "janeiro 2021      janeiro 2021  \n",
       "fevereiro 2021  fevereiro 2021  \n",
       "marco 2021          marco 2021  "
      ]
     },
     "execution_count": 73,
     "metadata": {},
     "output_type": "execute_result"
    }
   ],
   "source": [
    "admissoes_sexo_df['MesAno'] = admissoes_sexo_df.index.str.slice(start=-2)\n",
    "admissoes_sexo_df['MesAno'] = admissoes_sexo_df['MesAno'].apply(lambda x: mes[x]) + ' ' + admissoes_sexo_df.index.str.slice(start=0, stop=4)\n",
    "admissoes_sexo_df.index = admissoes_sexo_df['MesAno']\n",
    "admissoes_sexo_df"
   ]
  },
  {
   "cell_type": "code",
   "execution_count": 74,
   "id": "4a800975",
   "metadata": {},
   "outputs": [
    {
     "data": {
      "text/plain": [
       "<matplotlib.legend.Legend at 0x2d227e25c40>"
      ]
     },
     "execution_count": 74,
     "metadata": {},
     "output_type": "execute_result"
    },
    {
     "data": {
      "image/png": "[encoded data removed]",
      "text/plain": [
       "<Figure size 1080x432 with 2 Axes>"
      ]
     },
     "metadata": {},
     "output_type": "display_data"
    }
   ],
   "source": [
    "fig, ax1 = plt.subplots()\n",
    "#ax1\n",
    "ax1_color = '#2f4b7c'\n",
    "ax1.set_title('ÍNDICE DE PESSOAS ADMITIDAS POR GÊNERO')\n",
    "ax1 = admissoes_sexo_df[\n",
    "    'Total'].plot(kind='area', \\\n",
    "                  alpha=0.2,\\\n",
    "                  color=ax1_color, \\\n",
    "                  figsize = (15,6), \\\n",
    "                  ylim=[admissoes_sexo_df['Total'].min()-200000, admissoes_sexo_df['Total'].max()+50000],\n",
    "                  ylabel='TOTAL GERAL',\n",
    "                  xlabel='COMPETÊNCIA'\n",
    "                 )\n",
    "\n",
    "plt.xticks(rotation=45)\n",
    "ax1.tick_params(axis='y', labelcolor=ax1_color)\n",
    "ax1.ticklabel_format(axis='y',style='plain', ) \n",
    "ax1.get_yaxis().set_major_formatter(\n",
    "mpl.ticker.FuncFormatter(\n",
    "    lambda x, p: format(int(x), ',')))\n",
    "\n",
    "#ax2\n",
    "ax2_color = '#f95d6a'\n",
    "ax2 = ax1.twinx()\n",
    "ax2.tick_params(axis='y', labelcolor=ax2_color)\n",
    "admissoes_sexo_df[\n",
    "    ['Mulheres %', 'Homens %']].plot.bar( \\\n",
    "         width= 0.4, \\\n",
    "        stacked=True,\n",
    "        ylabel='PORCENTAGEM',\n",
    "#          ylim=[0, 70],\n",
    "         ax=ax2).legend(\n",
    "    bbox_to_anchor=(1.2, .9), loc='lower right')"
   ]
  },
  {
   "cell_type": "code",
   "execution_count": 76,
   "id": "0492863e",
   "metadata": {},
   "outputs": [
    {
     "data": {
      "text/plain": [
       "competência  sexo  \n",
       "202003       homem     1032823\n",
       "             mulher     703621\n",
       "202004       homem      961351\n",
       "             mulher     655306\n",
       "202005       homem      700683\n",
       "             mulher     427370\n",
       "202006       homem      611295\n",
       "             mulher     370282\n",
       "202007       homem      642592\n",
       "             mulher     381123\n",
       "202008       homem      662724\n",
       "             mulher     399696\n",
       "202009       homem      711352\n",
       "             mulher     422064\n",
       "202010       homem      770083\n",
       "             mulher     456436\n",
       "202011       homem      771240\n",
       "             mulher     431811\n",
       "202012       homem      834959\n",
       "             mulher     557870\n",
       "202101       homem      806951\n",
       "             mulher     532188\n",
       "202102       homem      818396\n",
       "             mulher     522092\n",
       "202103       homem      878359\n",
       "             mulher     545508\n",
       "dtype: int64"
      ]
     },
     "execution_count": 76,
     "metadata": {},
     "output_type": "execute_result"
    }
   ],
   "source": [
    "demissoes_df[['competência', 'sexo']].value_counts().sort_index()"
   ]
  },
  {
   "cell_type": "code",
   "execution_count": 77,
   "id": "c192e207",
   "metadata": {},
   "outputs": [],
   "source": [
    "mulher = demissoes_df['sexo'] == 'mulher'\n",
    "homem = demissoes_df['sexo'] == 'homem'"
   ]
  },
  {
   "cell_type": "code",
   "execution_count": 78,
   "id": "2e24cb23",
   "metadata": {},
   "outputs": [
    {
     "data": {
      "text/plain": [
       "Int64Index([202003, 202004, 202005, 202006, 202007, 202008, 202009, 202010,\n",
       "            202011, 202012, 202101, 202102, 202103],\n",
       "           dtype='int64')"
      ]
     },
     "execution_count": 78,
     "metadata": {},
     "output_type": "execute_result"
    }
   ],
   "source": [
    "index_demissoes_df = demissoes_df['competência'].value_counts().sort_index().index\n",
    "index_demissoes_df"
   ]
  },
  {
   "cell_type": "code",
   "execution_count": 79,
   "id": "21a84740",
   "metadata": {},
   "outputs": [],
   "source": [
    "demissoes_mulher = demissoes_df['competência'][mulher].value_counts().sort_index().values\n",
    "demissoes_homem = demissoes_df['competência'][homem].value_counts().sort_index().values\n",
    "total_demissoes_df = demissoes_df['competência'].value_counts().sort_index().values"
   ]
  },
  {
   "cell_type": "code",
   "execution_count": 80,
   "id": "5b50a78a",
   "metadata": {},
   "outputs": [],
   "source": [
    "demissoes_sexo = {\n",
    "    'Mulheres': demissoes_mulher,\n",
    "    'Homens': demissoes_homem,\n",
    "    'Total': total_demissoes_df\n",
    "    }\n",
    "demissoes_sexo_df = pd.DataFrame(demissoes_sexo, index = index_demissoes_df)"
   ]
  },
  {
   "cell_type": "code",
   "execution_count": 81,
   "id": "69b54d9b",
   "metadata": {},
   "outputs": [],
   "source": [
    "demissoes_sexo_df['Mulheres %'] = round(demissoes_sexo_df['Mulheres'] / demissoes_sexo_df['Total'] * 100,2)\n",
    "demissoes_sexo_df['Homens %'] = round(demissoes_sexo_df['Homens'] / demissoes_sexo_df['Total'] * 100,2)"
   ]
  },
  {
   "cell_type": "code",
   "execution_count": 82,
   "id": "f9288ce7",
   "metadata": {},
   "outputs": [],
   "source": [
    "# converte indice para string para pontuar no eixo y\n",
    "demissoes_sexo_df.index = demissoes_sexo_df.index.map(str)"
   ]
  },
  {
   "cell_type": "code",
   "execution_count": 83,
   "id": "f53f88b1",
   "metadata": {},
   "outputs": [
    {
     "data": {
      "text/plain": [
       "homem     10202808\n",
       "mulher     6405367\n",
       "Name: sexo, dtype: int64"
      ]
     },
     "execution_count": 83,
     "metadata": {},
     "output_type": "execute_result"
    }
   ],
   "source": [
    "# Quantidade de demissões por gênero no período da pandemia.\n",
    "pandemia_df[fired]['sexo'][dataPandemiaInicio & dataPandemiaAtual].value_counts()"
   ]
  },
  {
   "cell_type": "code",
   "execution_count": 84,
   "id": "3984ecd3",
   "metadata": {},
   "outputs": [
    {
     "data": {
      "text/html": [
       "<div>\n",
       "<style scoped>\n",
       "    .dataframe tbody tr th:only-of-type {\n",
       "        vertical-align: middle;\n",
       "    }\n",
       "\n",
       "    .dataframe tbody tr th {\n",
       "        vertical-align: top;\n",
       "    }\n",
       "\n",
       "    .dataframe thead th {\n",
       "        text-align: right;\n",
       "    }\n",
       "</style>\n",
       "<table border=\"1\" class=\"dataframe\">\n",
       "  <thead>\n",
       "    <tr style=\"text-align: right;\">\n",
       "      <th></th>\n",
       "      <th>Mulheres</th>\n",
       "      <th>Homens</th>\n",
       "      <th>Total</th>\n",
       "      <th>Mulheres %</th>\n",
       "      <th>Homens %</th>\n",
       "      <th>MesAno</th>\n",
       "    </tr>\n",
       "    <tr>\n",
       "      <th>MesAno</th>\n",
       "      <th></th>\n",
       "      <th></th>\n",
       "      <th></th>\n",
       "      <th></th>\n",
       "      <th></th>\n",
       "      <th></th>\n",
       "    </tr>\n",
       "  </thead>\n",
       "  <tbody>\n",
       "    <tr>\n",
       "      <th>marco 2020</th>\n",
       "      <td>703621</td>\n",
       "      <td>1032823</td>\n",
       "      <td>1736444</td>\n",
       "      <td>40.52</td>\n",
       "      <td>59.48</td>\n",
       "      <td>marco 2020</td>\n",
       "    </tr>\n",
       "    <tr>\n",
       "      <th>abril 2020</th>\n",
       "      <td>655306</td>\n",
       "      <td>961351</td>\n",
       "      <td>1616657</td>\n",
       "      <td>40.53</td>\n",
       "      <td>59.47</td>\n",
       "      <td>abril 2020</td>\n",
       "    </tr>\n",
       "    <tr>\n",
       "      <th>maio 2020</th>\n",
       "      <td>427370</td>\n",
       "      <td>700683</td>\n",
       "      <td>1128053</td>\n",
       "      <td>37.89</td>\n",
       "      <td>62.11</td>\n",
       "      <td>maio 2020</td>\n",
       "    </tr>\n",
       "    <tr>\n",
       "      <th>junho 2020</th>\n",
       "      <td>370282</td>\n",
       "      <td>611295</td>\n",
       "      <td>981577</td>\n",
       "      <td>37.72</td>\n",
       "      <td>62.28</td>\n",
       "      <td>junho 2020</td>\n",
       "    </tr>\n",
       "    <tr>\n",
       "      <th>julho 2020</th>\n",
       "      <td>381123</td>\n",
       "      <td>642592</td>\n",
       "      <td>1023715</td>\n",
       "      <td>37.23</td>\n",
       "      <td>62.77</td>\n",
       "      <td>julho 2020</td>\n",
       "    </tr>\n",
       "    <tr>\n",
       "      <th>agosto 2020</th>\n",
       "      <td>399696</td>\n",
       "      <td>662724</td>\n",
       "      <td>1062420</td>\n",
       "      <td>37.62</td>\n",
       "      <td>62.38</td>\n",
       "      <td>agosto 2020</td>\n",
       "    </tr>\n",
       "    <tr>\n",
       "      <th>setembro 2020</th>\n",
       "      <td>422064</td>\n",
       "      <td>711352</td>\n",
       "      <td>1133416</td>\n",
       "      <td>37.24</td>\n",
       "      <td>62.76</td>\n",
       "      <td>setembro 2020</td>\n",
       "    </tr>\n",
       "    <tr>\n",
       "      <th>outubro 2020</th>\n",
       "      <td>456436</td>\n",
       "      <td>770083</td>\n",
       "      <td>1226519</td>\n",
       "      <td>37.21</td>\n",
       "      <td>62.79</td>\n",
       "      <td>outubro 2020</td>\n",
       "    </tr>\n",
       "    <tr>\n",
       "      <th>novembro 2020</th>\n",
       "      <td>431811</td>\n",
       "      <td>771240</td>\n",
       "      <td>1203051</td>\n",
       "      <td>35.89</td>\n",
       "      <td>64.11</td>\n",
       "      <td>novembro 2020</td>\n",
       "    </tr>\n",
       "    <tr>\n",
       "      <th>dezembro 2020</th>\n",
       "      <td>557870</td>\n",
       "      <td>834959</td>\n",
       "      <td>1392829</td>\n",
       "      <td>40.05</td>\n",
       "      <td>59.95</td>\n",
       "      <td>dezembro 2020</td>\n",
       "    </tr>\n",
       "    <tr>\n",
       "      <th>janeiro 2021</th>\n",
       "      <td>532188</td>\n",
       "      <td>806951</td>\n",
       "      <td>1339139</td>\n",
       "      <td>39.74</td>\n",
       "      <td>60.26</td>\n",
       "      <td>janeiro 2021</td>\n",
       "    </tr>\n",
       "    <tr>\n",
       "      <th>fevereiro 2021</th>\n",
       "      <td>522092</td>\n",
       "      <td>818396</td>\n",
       "      <td>1340488</td>\n",
       "      <td>38.95</td>\n",
       "      <td>61.05</td>\n",
       "      <td>fevereiro 2021</td>\n",
       "    </tr>\n",
       "    <tr>\n",
       "      <th>marco 2021</th>\n",
       "      <td>545508</td>\n",
       "      <td>878359</td>\n",
       "      <td>1423867</td>\n",
       "      <td>38.31</td>\n",
       "      <td>61.69</td>\n",
       "      <td>marco 2021</td>\n",
       "    </tr>\n",
       "  </tbody>\n",
       "</table>\n",
       "</div>"
      ],
      "text/plain": [
       "                Mulheres   Homens    Total  Mulheres %  Homens %  \\\n",
       "MesAno                                                             \n",
       "marco 2020        703621  1032823  1736444       40.52     59.48   \n",
       "abril 2020        655306   961351  1616657       40.53     59.47   \n",
       "maio 2020         427370   700683  1128053       37.89     62.11   \n",
       "junho 2020        370282   611295   981577       37.72     62.28   \n",
       "julho 2020        381123   642592  1023715       37.23     62.77   \n",
       "agosto 2020       399696   662724  1062420       37.62     62.38   \n",
       "setembro 2020     422064   711352  1133416       37.24     62.76   \n",
       "outubro 2020      456436   770083  1226519       37.21     62.79   \n",
       "novembro 2020     431811   771240  1203051       35.89     64.11   \n",
       "dezembro 2020     557870   834959  1392829       40.05     59.95   \n",
       "janeiro 2021      532188   806951  1339139       39.74     60.26   \n",
       "fevereiro 2021    522092   818396  1340488       38.95     61.05   \n",
       "marco 2021        545508   878359  1423867       38.31     61.69   \n",
       "\n",
       "                        MesAno  \n",
       "MesAno                          \n",
       "marco 2020          marco 2020  \n",
       "abril 2020          abril 2020  \n",
       "maio 2020            maio 2020  \n",
       "junho 2020          junho 2020  \n",
       "julho 2020          julho 2020  \n",
       "agosto 2020        agosto 2020  \n",
       "setembro 2020    setembro 2020  \n",
       "outubro 2020      outubro 2020  \n",
       "novembro 2020    novembro 2020  \n",
       "dezembro 2020    dezembro 2020  \n",
       "janeiro 2021      janeiro 2021  \n",
       "fevereiro 2021  fevereiro 2021  \n",
       "marco 2021          marco 2021  "
      ]
     },
     "execution_count": 84,
     "metadata": {},
     "output_type": "execute_result"
    }
   ],
   "source": [
    "demissoes_sexo_df['MesAno'] = demissoes_sexo_df.index.str.slice(start=-2)\n",
    "demissoes_sexo_df['MesAno'] = demissoes_sexo_df['MesAno'].apply(lambda x: mes[x]) + ' ' + demissoes_sexo_df.index.str.slice(start=0, stop=4)\n",
    "demissoes_sexo_df.index = demissoes_sexo_df['MesAno']\n",
    "demissoes_sexo_df"
   ]
  },
  {
   "cell_type": "code",
   "execution_count": 85,
   "id": "6de8baac",
   "metadata": {},
   "outputs": [
    {
     "data": {
      "text/plain": [
       "<matplotlib.legend.Legend at 0x2d227f374c0>"
      ]
     },
     "execution_count": 85,
     "metadata": {},
     "output_type": "execute_result"
    },
    {
     "data": {
      "image/png": "[encoded data removed]",
      "text/plain": [
       "<Figure size 1080x432 with 2 Axes>"
      ]
     },
     "metadata": {},
     "output_type": "display_data"
    }
   ],
   "source": [
    "\n",
    "fig, ax1 = plt.subplots()\n",
    "#ax1\n",
    "ax1_color = '#2f4b7c'\n",
    "ax1.set_title('ÍNDICE DE PESSOAS DEMITIDAS POR GÊNERO NO PERIODO DA PANDEMIA')\n",
    "ax1 = demissoes_sexo_df[\n",
    "    'Total'].plot(kind='area', \\\n",
    "                  alpha=0.2,\\\n",
    "                  color=ax1_color, \\\n",
    "                  figsize = (15,6), \\\n",
    "                  ylim=[demissoes_sexo_df['Total'].min()-200000, demissoes_sexo_df['Total'].max()+50000],\n",
    "                  ylabel='TOTAL GERAL',\n",
    "                  xlabel='COMPETÊNCIA'\n",
    "                 )\n",
    "\n",
    "plt.xticks(rotation=45)\n",
    "ax1.tick_params(axis='y', labelcolor=ax1_color)\n",
    "ax1.ticklabel_format(axis='y',style='plain', ) \n",
    "ax1.get_yaxis().set_major_formatter(\n",
    "mpl.ticker.FuncFormatter(\n",
    "    lambda x, p: format(int(x), ',')))\n",
    "\n",
    "#ax2\n",
    "ax2_color = '#f95d6a'\n",
    "ax2 = ax1.twinx()\n",
    "ax2.tick_params(axis='y', labelcolor=ax2_color)\n",
    "demissoes_sexo_df[\n",
    "    ['Mulheres %', 'Homens %']].plot.bar( \\\n",
    "        width= 0.4, \\\n",
    "        stacked=True,\n",
    "        ylabel='PORCENTAGEM',\n",
    "#          ylim=[0, 70],\n",
    "         ax=ax2).legend(\n",
    "    bbox_to_anchor=(1.2, .9), loc='lower right')\n",
    "\n",
    "# fig.tight_layout()  # otherwise the right y-label is slightly clipped"
   ]
  },
  {
   "cell_type": "code",
   "execution_count": null,
   "id": "024a88c9",
   "metadata": {},
   "outputs": [],
   "source": []
  }
 ],
 "metadata": {
  "kernelspec": {
   "display_name": "Python 3",
   "language": "python",
   "name": "python3"
  },
  "language_info": {
   "codemirror_mode": {
    "name": "ipython",
    "version": 3
   },
   "file_extension": ".py",
   "mimetype": "text/x-python",
   "name": "python",
   "nbconvert_exporter": "python",
   "pygments_lexer": "ipython3",
   "version": "3.8.2"
  }
 },
 "nbformat": 4,
 "nbformat_minor": 5
}
