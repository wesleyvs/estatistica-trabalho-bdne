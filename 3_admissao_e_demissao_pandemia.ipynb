{
 "cells": [
  {
   "cell_type": "code",
   "execution_count": null,
   "id": "184a45a2",
   "metadata": {},
   "outputs": [],
   "source": [
    "# 3 – Quero saber a quantidade de admissões/demissões por gênero no período da pandemia."
   ]
  },
  {
   "cell_type": "code",
   "execution_count": 2,
   "id": "a4a2452f",
   "metadata": {},
   "outputs": [],
   "source": [
    "import pandas as pd"
   ]
  },
  {
   "cell_type": "code",
   "execution_count": 3,
   "id": "24083a51",
   "metadata": {
    "scrolled": true
   },
   "outputs": [
    {
     "data": {
      "text/html": [
       "<div>\n",
       "<style scoped>\n",
       "    .dataframe tbody tr th:only-of-type {\n",
       "        vertical-align: middle;\n",
       "    }\n",
       "\n",
       "    .dataframe tbody tr th {\n",
       "        vertical-align: top;\n",
       "    }\n",
       "\n",
       "    .dataframe thead th {\n",
       "        text-align: right;\n",
       "    }\n",
       "</style>\n",
       "<table border=\"1\" class=\"dataframe\">\n",
       "  <thead>\n",
       "    <tr style=\"text-align: right;\">\n",
       "      <th></th>\n",
       "      <th>competência</th>\n",
       "      <th>região</th>\n",
       "      <th>uf</th>\n",
       "      <th>município</th>\n",
       "      <th>seção</th>\n",
       "      <th>subclasse</th>\n",
       "      <th>saldomovimentação</th>\n",
       "      <th>cbo2002ocupação</th>\n",
       "      <th>categoria</th>\n",
       "      <th>graudeinstrução</th>\n",
       "      <th>...</th>\n",
       "      <th>tipoempregador</th>\n",
       "      <th>tipoestabelecimento</th>\n",
       "      <th>tipomovimentação</th>\n",
       "      <th>tipodedeficiência</th>\n",
       "      <th>indtrabintermitente</th>\n",
       "      <th>indtrabparcial</th>\n",
       "      <th>salário</th>\n",
       "      <th>tamestabjan</th>\n",
       "      <th>indicadoraprendiz</th>\n",
       "      <th>fonte</th>\n",
       "    </tr>\n",
       "  </thead>\n",
       "  <tbody>\n",
       "    <tr>\n",
       "      <th>0</th>\n",
       "      <td>202102</td>\n",
       "      <td>5</td>\n",
       "      <td>52</td>\n",
       "      <td>520870</td>\n",
       "      <td>Q</td>\n",
       "      <td>8610102</td>\n",
       "      <td>-1</td>\n",
       "      <td>515110</td>\n",
       "      <td>101</td>\n",
       "      <td>5</td>\n",
       "      <td>...</td>\n",
       "      <td>0</td>\n",
       "      <td>1</td>\n",
       "      <td>31</td>\n",
       "      <td>0</td>\n",
       "      <td>0</td>\n",
       "      <td>0</td>\n",
       "      <td>1033.260010</td>\n",
       "      <td>9</td>\n",
       "      <td>0</td>\n",
       "      <td>1</td>\n",
       "    </tr>\n",
       "    <tr>\n",
       "      <th>1</th>\n",
       "      <td>202102</td>\n",
       "      <td>3</td>\n",
       "      <td>35</td>\n",
       "      <td>352470</td>\n",
       "      <td>J</td>\n",
       "      <td>6203100</td>\n",
       "      <td>-1</td>\n",
       "      <td>317210</td>\n",
       "      <td>101</td>\n",
       "      <td>9</td>\n",
       "      <td>...</td>\n",
       "      <td>0</td>\n",
       "      <td>1</td>\n",
       "      <td>40</td>\n",
       "      <td>0</td>\n",
       "      <td>0</td>\n",
       "      <td>0</td>\n",
       "      <td>1675.560059</td>\n",
       "      <td>10</td>\n",
       "      <td>0</td>\n",
       "      <td>1</td>\n",
       "    </tr>\n",
       "    <tr>\n",
       "      <th>2</th>\n",
       "      <td>202102</td>\n",
       "      <td>4</td>\n",
       "      <td>43</td>\n",
       "      <td>431490</td>\n",
       "      <td>F</td>\n",
       "      <td>4399199</td>\n",
       "      <td>1</td>\n",
       "      <td>721325</td>\n",
       "      <td>101</td>\n",
       "      <td>7</td>\n",
       "      <td>...</td>\n",
       "      <td>0</td>\n",
       "      <td>1</td>\n",
       "      <td>20</td>\n",
       "      <td>0</td>\n",
       "      <td>0</td>\n",
       "      <td>0</td>\n",
       "      <td>2182.399902</td>\n",
       "      <td>7</td>\n",
       "      <td>0</td>\n",
       "      <td>1</td>\n",
       "    </tr>\n",
       "    <tr>\n",
       "      <th>3</th>\n",
       "      <td>202102</td>\n",
       "      <td>3</td>\n",
       "      <td>35</td>\n",
       "      <td>355030</td>\n",
       "      <td>M</td>\n",
       "      <td>7112000</td>\n",
       "      <td>1</td>\n",
       "      <td>717020</td>\n",
       "      <td>101</td>\n",
       "      <td>6</td>\n",
       "      <td>...</td>\n",
       "      <td>0</td>\n",
       "      <td>1</td>\n",
       "      <td>20</td>\n",
       "      <td>0</td>\n",
       "      <td>0</td>\n",
       "      <td>0</td>\n",
       "      <td>1711.420044</td>\n",
       "      <td>7</td>\n",
       "      <td>0</td>\n",
       "      <td>1</td>\n",
       "    </tr>\n",
       "    <tr>\n",
       "      <th>4</th>\n",
       "      <td>202102</td>\n",
       "      <td>4</td>\n",
       "      <td>43</td>\n",
       "      <td>431490</td>\n",
       "      <td>G</td>\n",
       "      <td>4761001</td>\n",
       "      <td>-1</td>\n",
       "      <td>422305</td>\n",
       "      <td>101</td>\n",
       "      <td>7</td>\n",
       "      <td>...</td>\n",
       "      <td>0</td>\n",
       "      <td>1</td>\n",
       "      <td>43</td>\n",
       "      <td>0</td>\n",
       "      <td>0</td>\n",
       "      <td>0</td>\n",
       "      <td>1188.250000</td>\n",
       "      <td>7</td>\n",
       "      <td>0</td>\n",
       "      <td>1</td>\n",
       "    </tr>\n",
       "  </tbody>\n",
       "</table>\n",
       "<p>5 rows × 24 columns</p>\n",
       "</div>"
      ],
      "text/plain": [
       "   competência  região  uf  município seção  subclasse  saldomovimentação  \\\n",
       "0       202102       5  52     520870     Q    8610102                 -1   \n",
       "1       202102       3  35     352470     J    6203100                 -1   \n",
       "2       202102       4  43     431490     F    4399199                  1   \n",
       "3       202102       3  35     355030     M    7112000                  1   \n",
       "4       202102       4  43     431490     G    4761001                 -1   \n",
       "\n",
       "   cbo2002ocupação  categoria  graudeinstrução  ...  tipoempregador  \\\n",
       "0           515110        101                5  ...               0   \n",
       "1           317210        101                9  ...               0   \n",
       "2           721325        101                7  ...               0   \n",
       "3           717020        101                6  ...               0   \n",
       "4           422305        101                7  ...               0   \n",
       "\n",
       "   tipoestabelecimento  tipomovimentação  tipodedeficiência  \\\n",
       "0                    1                31                  0   \n",
       "1                    1                40                  0   \n",
       "2                    1                20                  0   \n",
       "3                    1                20                  0   \n",
       "4                    1                43                  0   \n",
       "\n",
       "   indtrabintermitente  indtrabparcial      salário  tamestabjan  \\\n",
       "0                    0               0  1033.260010            9   \n",
       "1                    0               0  1675.560059           10   \n",
       "2                    0               0  2182.399902            7   \n",
       "3                    0               0  1711.420044            7   \n",
       "4                    0               0  1188.250000            7   \n",
       "\n",
       "   indicadoraprendiz  fonte  \n",
       "0                  0      1  \n",
       "1                  0      1  \n",
       "2                  0      1  \n",
       "3                  0      1  \n",
       "4                  0      1  \n",
       "\n",
       "[5 rows x 24 columns]"
      ]
     },
     "execution_count": 3,
     "metadata": {},
     "output_type": "execute_result"
    }
   ],
   "source": [
    "data = pd.read_csv(\"CAGEDMOV202102.txt\", sep=';')\n",
    "data.head()"
   ]
  },
  {
   "cell_type": "code",
   "execution_count": 4,
   "id": "cc97a7d6",
   "metadata": {},
   "outputs": [
    {
     "data": {
      "text/plain": [
       "Index(['competência', 'região', 'uf', 'município', 'seção', 'subclasse',\n",
       "       'saldomovimentação', 'cbo2002ocupação', 'categoria', 'graudeinstrução',\n",
       "       'idade', 'horascontratuais', 'raçacor', 'sexo', 'tipoempregador',\n",
       "       'tipoestabelecimento', 'tipomovimentação', 'tipodedeficiência',\n",
       "       'indtrabintermitente', 'indtrabparcial', 'salário', 'tamestabjan',\n",
       "       'indicadoraprendiz', 'fonte'],\n",
       "      dtype='object')"
      ]
     },
     "execution_count": 4,
     "metadata": {},
     "output_type": "execute_result"
    }
   ],
   "source": [
    "data.columns"
   ]
  },
  {
   "cell_type": "code",
   "execution_count": 13,
   "id": "0b356263",
   "metadata": {},
   "outputs": [],
   "source": [
    "fired = data['saldomovimentação'] == -1\n",
    "hired = data['saldomovimentação'] == 1"
   ]
  },
  {
   "cell_type": "code",
   "execution_count": 15,
   "id": "5092b821",
   "metadata": {},
   "outputs": [],
   "source": [
    "dataPandemiaInicio = data['competência'] >= 202003\n",
    "dataPandemiaAtual = data['competência'] <= 202105"
   ]
  },
  {
   "cell_type": "code",
   "execution_count": 18,
   "id": "9d9a8370",
   "metadata": {},
   "outputs": [
    {
     "data": {
      "text/plain": [
       "1    789586\n",
       "3    503379\n",
       "Name: sexo, dtype: int64"
      ]
     },
     "execution_count": 18,
     "metadata": {},
     "output_type": "execute_result"
    }
   ],
   "source": [
    "data[fired]['sexo'][dataPandemiaInicio & dataPandemiaAtual].value_counts()"
   ]
  },
  {
   "cell_type": "code",
   "execution_count": 19,
   "id": "6811c82a",
   "metadata": {
    "scrolled": true
   },
   "outputs": [
    {
     "data": {
      "text/plain": [
       "1    1012750\n",
       "3     681854\n",
       "Name: sexo, dtype: int64"
      ]
     },
     "execution_count": 19,
     "metadata": {},
     "output_type": "execute_result"
    }
   ],
   "source": [
    "data[hired]['sexo'][dataPandemiaInicio & dataPandemiaAtual].value_counts()"
   ]
  }
 ],
 "metadata": {
  "kernelspec": {
   "display_name": "Python 3",
   "language": "python",
   "name": "python3"
  },
  "language_info": {
   "codemirror_mode": {
    "name": "ipython",
    "version": 3
   },
   "file_extension": ".py",
   "mimetype": "text/x-python",
   "name": "python",
   "nbconvert_exporter": "python",
   "pygments_lexer": "ipython3",
   "version": "3.8.2"
  }
 },
 "nbformat": 4,
 "nbformat_minor": 5
}
