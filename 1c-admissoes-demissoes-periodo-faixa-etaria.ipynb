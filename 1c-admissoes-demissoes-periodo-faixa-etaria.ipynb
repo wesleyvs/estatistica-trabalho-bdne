{
 "cells": [
  {
   "cell_type": "code",
   "execution_count": 1,
   "metadata": {},
   "outputs": [
    {
     "name": "stderr",
     "output_type": "stream",
     "text": [
      "/Users/mariaclara1985/.pyenv/versions/3.7.3/lib/python3.7/site-packages/pandas/compat/__init__.py:97: UserWarning: Could not import the lzma module. Your installed Python is incomplete. Attempting to use lzma compression will result in a RuntimeError.\n",
      "  warnings.warn(msg)\n"
     ]
    }
   ],
   "source": [
    "import pandas as pd\n",
    "import matplotlib.pyplot as plt\n",
    "import matplotlib as mpl\n",
    "from glob import glob \n",
    "import numpy as np\n",
    "import seaborn as sb"
   ]
  },
  {
   "cell_type": "code",
   "execution_count": 2,
   "metadata": {},
   "outputs": [],
   "source": [
    "# lista de todos os arquivos\n",
    "caged_files = sorted(glob('teste/CAGEDMOV*.txt'))\n",
    "# concatena os arquivos\n",
    "pandemia_df = pd.concat((pd.read_csv(file, sep=';') for file in caged_files), ignore_index=True)"
   ]
  },
  {
   "cell_type": "code",
   "execution_count": 3,
   "metadata": {},
   "outputs": [
    {
     "data": {
      "text/plain": [
       "Index(['competência', 'região', 'uf', 'município', 'seção', 'subclasse',\n",
       "       'saldomovimentação', 'cbo2002ocupação', 'categoria', 'graudeinstrução',\n",
       "       'idade', 'horascontratuais', 'raçacor', 'sexo', 'tipoempregador',\n",
       "       'tipoestabelecimento', 'tipomovimentação', 'tipodedeficiência',\n",
       "       'indtrabintermitente', 'indtrabparcial', 'salário', 'tamestabjan',\n",
       "       'indicadoraprendiz', 'fonte'],\n",
       "      dtype='object')"
      ]
     },
     "execution_count": 3,
     "metadata": {},
     "output_type": "execute_result"
    }
   ],
   "source": [
    "pandemia_df.columns"
   ]
  },
  {
   "cell_type": "code",
   "execution_count": 4,
   "metadata": {},
   "outputs": [
    {
     "data": {
      "text/plain": [
       "['teste/CAGEDMOV202101.txt',\n",
       " 'teste/CAGEDMOV202102.txt',\n",
       " 'teste/CAGEDMOV202103.txt']"
      ]
     },
     "execution_count": 4,
     "metadata": {},
     "output_type": "execute_result"
    }
   ],
   "source": [
    "caged_files"
   ]
  },
  {
   "cell_type": "code",
   "execution_count": 5,
   "metadata": {},
   "outputs": [],
   "source": [
    "questao01c_df = pandemia_df[['competência', 'saldomovimentação', 'idade']]\n",
    "# questao01c_df[questao01c_df['idade'].isnull()]"
   ]
  },
  {
   "cell_type": "code",
   "execution_count": 6,
   "metadata": {},
   "outputs": [],
   "source": [
    "# questao01c_df.head()"
   ]
  },
  {
   "cell_type": "code",
   "execution_count": 7,
   "metadata": {
    "scrolled": true
   },
   "outputs": [
    {
     "name": "stderr",
     "output_type": "stream",
     "text": [
      "/Users/mariaclara1985/.pyenv/versions/3.7.3/lib/python3.7/site-packages/ipykernel_launcher.py:6: SettingWithCopyWarning: \n",
      "A value is trying to be set on a copy of a slice from a DataFrame.\n",
      "Try using .loc[row_indexer,col_indexer] = value instead\n",
      "\n",
      "See the caveats in the documentation: https://pandas.pydata.org/pandas-docs/stable/user_guide/indexing.html#returning-a-view-versus-a-copy\n",
      "  \n"
     ]
    }
   ],
   "source": [
    "saldomovimentacao = {\n",
    "    1: 'admissao',\n",
    "    -1: 'demissao'\n",
    "}\n",
    "\n",
    "questao01c_df['saldomovimentação'] = questao01c_df['saldomovimentação'].apply(lambda x: saldomovimentacao[x])"
   ]
  },
  {
   "cell_type": "markdown",
   "metadata": {},
   "source": [
    "# 1 – Qual foi o índice de pessoas empregadas e desempregadas em certo período, categorizadas por:\n"
   ]
  },
  {
   "cell_type": "code",
   "execution_count": 8,
   "metadata": {},
   "outputs": [
    {
     "name": "stderr",
     "output_type": "stream",
     "text": [
      "/Users/mariaclara1985/.pyenv/versions/3.7.3/lib/python3.7/site-packages/pandas/core/indexing.py:1599: SettingWithCopyWarning: \n",
      "A value is trying to be set on a copy of a slice from a DataFrame.\n",
      "Try using .loc[row_indexer,col_indexer] = value instead\n",
      "\n",
      "See the caveats in the documentation: https://pandas.pydata.org/pandas-docs/stable/user_guide/indexing.html#returning-a-view-versus-a-copy\n",
      "  self.obj[key] = infer_fill_value(value)\n",
      "/Users/mariaclara1985/.pyenv/versions/3.7.3/lib/python3.7/site-packages/pandas/core/indexing.py:1720: SettingWithCopyWarning: \n",
      "A value is trying to be set on a copy of a slice from a DataFrame.\n",
      "Try using .loc[row_indexer,col_indexer] = value instead\n",
      "\n",
      "See the caveats in the documentation: https://pandas.pydata.org/pandas-docs/stable/user_guide/indexing.html#returning-a-view-versus-a-copy\n",
      "  self._setitem_single_column(loc, value, pi)\n",
      "/Users/mariaclara1985/.pyenv/versions/3.7.3/lib/python3.7/site-packages/pandas/core/indexing.py:1720: SettingWithCopyWarning: \n",
      "A value is trying to be set on a copy of a slice from a DataFrame.\n",
      "Try using .loc[row_indexer,col_indexer] = value instead\n",
      "\n",
      "See the caveats in the documentation: https://pandas.pydata.org/pandas-docs/stable/user_guide/indexing.html#returning-a-view-versus-a-copy\n",
      "  self._setitem_single_column(loc, value, pi)\n",
      "/Users/mariaclara1985/.pyenv/versions/3.7.3/lib/python3.7/site-packages/pandas/core/indexing.py:1720: SettingWithCopyWarning: \n",
      "A value is trying to be set on a copy of a slice from a DataFrame.\n",
      "Try using .loc[row_indexer,col_indexer] = value instead\n",
      "\n",
      "See the caveats in the documentation: https://pandas.pydata.org/pandas-docs/stable/user_guide/indexing.html#returning-a-view-versus-a-copy\n",
      "  self._setitem_single_column(loc, value, pi)\n",
      "/Users/mariaclara1985/.pyenv/versions/3.7.3/lib/python3.7/site-packages/pandas/core/indexing.py:1720: SettingWithCopyWarning: \n",
      "A value is trying to be set on a copy of a slice from a DataFrame.\n",
      "Try using .loc[row_indexer,col_indexer] = value instead\n",
      "\n",
      "See the caveats in the documentation: https://pandas.pydata.org/pandas-docs/stable/user_guide/indexing.html#returning-a-view-versus-a-copy\n",
      "  self._setitem_single_column(loc, value, pi)\n",
      "/Users/mariaclara1985/.pyenv/versions/3.7.3/lib/python3.7/site-packages/pandas/core/indexing.py:1720: SettingWithCopyWarning: \n",
      "A value is trying to be set on a copy of a slice from a DataFrame.\n",
      "Try using .loc[row_indexer,col_indexer] = value instead\n",
      "\n",
      "See the caveats in the documentation: https://pandas.pydata.org/pandas-docs/stable/user_guide/indexing.html#returning-a-view-versus-a-copy\n",
      "  self._setitem_single_column(loc, value, pi)\n",
      "/Users/mariaclara1985/.pyenv/versions/3.7.3/lib/python3.7/site-packages/pandas/core/indexing.py:1720: SettingWithCopyWarning: \n",
      "A value is trying to be set on a copy of a slice from a DataFrame.\n",
      "Try using .loc[row_indexer,col_indexer] = value instead\n",
      "\n",
      "See the caveats in the documentation: https://pandas.pydata.org/pandas-docs/stable/user_guide/indexing.html#returning-a-view-versus-a-copy\n",
      "  self._setitem_single_column(loc, value, pi)\n",
      "/Users/mariaclara1985/.pyenv/versions/3.7.3/lib/python3.7/site-packages/pandas/core/indexing.py:1720: SettingWithCopyWarning: \n",
      "A value is trying to be set on a copy of a slice from a DataFrame.\n",
      "Try using .loc[row_indexer,col_indexer] = value instead\n",
      "\n",
      "See the caveats in the documentation: https://pandas.pydata.org/pandas-docs/stable/user_guide/indexing.html#returning-a-view-versus-a-copy\n",
      "  self._setitem_single_column(loc, value, pi)\n"
     ]
    }
   ],
   "source": [
    "# cria coluna 'Faixa Etária' com base em faixas de 10 anos, até os 74aa\n",
    "passos = int((questao01c_df['idade'].max() - questao01c_df['idade'].min()) / 10)\n",
    "\n",
    "idade = questao01c_df['idade'].min()\n",
    "for i in range(passos-2):\n",
    "    idade_2 = idade + 10\n",
    "    questao01c_df.loc[(questao01c_df['idade']>=idade) & (questao01c_df['idade']<idade_2), 'Faixa Etária'] = str(int(idade)) + '-' + str(int(idade+9))\n",
    "    idade = idade_2\n",
    "\n",
    "questao01c_df.loc[(questao01c_df['idade']>=idade), 'Faixa Etária'] = str(int(idade)) + '+'\n",
    "questao01c_df.loc[(questao01c_df['idade'].isnull()), 'Faixa Etária'] = 'Não informado'\n"
   ]
  },
  {
   "cell_type": "code",
   "execution_count": 9,
   "metadata": {},
   "outputs": [],
   "source": [
    "# questao01c_df['Faixa Etária'].value_counts().sort_index().tail(50)"
   ]
  },
  {
   "cell_type": "code",
   "execution_count": 10,
   "metadata": {},
   "outputs": [],
   "source": [
    "admissoes = questao01c_df['saldomovimentação'] == \"admissao\"\n",
    "demissoes = questao01c_df['saldomovimentação'] == \"demissao\""
   ]
  },
  {
   "cell_type": "code",
   "execution_count": 11,
   "metadata": {
    "scrolled": true
   },
   "outputs": [],
   "source": [
    "admissoes_df = questao01c_df[admissoes]\n",
    "# admissoes_df.head()"
   ]
  },
  {
   "cell_type": "code",
   "execution_count": 12,
   "metadata": {
    "scrolled": false
   },
   "outputs": [],
   "source": [
    "demissoes_df = questao01c_df[demissoes]\n",
    "# demissoes_df.head()"
   ]
  },
  {
   "cell_type": "code",
   "execution_count": 13,
   "metadata": {
    "scrolled": true
   },
   "outputs": [],
   "source": [
    "# admissoes_df['idade_faixa'] = \n",
    "# admissoes_df[['competência','Faixa Etária']].value_counts().sort_index().sum()\n",
    "# admissoes_df[admissoes_df['idade'].isnull()][['competência','idade']]\n",
    "# admissoes_df.head()\n"
   ]
  },
  {
   "cell_type": "markdown",
   "metadata": {},
   "source": [
    "## - Faixa Etária"
   ]
  },
  {
   "cell_type": "markdown",
   "metadata": {},
   "source": [
    "### Admissões"
   ]
  },
  {
   "cell_type": "code",
   "execution_count": 14,
   "metadata": {
    "scrolled": true
   },
   "outputs": [],
   "source": [
    "#cria pivot table para ter 'competencia' como index, e contar valores em 'idade'\n",
    "admissoes_pivot = pd.pivot_table(admissoes_df, \n",
    "                       columns=['Faixa Etária'], \n",
    "                       index=['competência'],\n",
    "                       values=['idade'],\n",
    "                       aggfunc='count'\n",
    "                      )\n",
    "# admissoes_pivot"
   ]
  },
  {
   "cell_type": "code",
   "execution_count": 15,
   "metadata": {},
   "outputs": [],
   "source": [
    "# converte indice para string para pontuar no eixo y\n",
    "admissoes_pivot.index = admissoes_pivot.index.map(str)"
   ]
  },
  {
   "cell_type": "code",
   "execution_count": 18,
   "metadata": {
    "scrolled": true
   },
   "outputs": [],
   "source": [
    "# cria DF a partir da pivot table\n",
    "admissoes_pivot_df = pd.DataFrame(admissoes_pivot.to_records(), \n",
    "                  index=admissoes_pivot.index\n",
    ")\n",
    "# limpa nome das colunas\n",
    "admissoes_pivot_df.columns = [hdr.replace(\"('idade', '\", \"\").replace(\"')\", \"\") \\\n",
    "                     for hdr in admissoes_pivot_df.columns]\n",
    "# elimina coluna adicional que foi utilizada como índice\n",
    "admissoes_pivot_df.drop(['competência'], axis=1, inplace=True)\n",
    "# admissoes_pivot_df"
   ]
  },
  {
   "cell_type": "code",
   "execution_count": 19,
   "metadata": {
    "scrolled": false
   },
   "outputs": [],
   "source": [
    "# cria coluna Total para receber o total por competencia\n",
    "admissoes_pivot_df[\"Total\"] = 0\n",
    "for index in admissoes_pivot_df.index:\n",
    "    admissoes_pivot_df[\"Total\"][str(index)] = admissoes_pivot_df.sum(axis=1)[str(index)]\n",
    "    "
   ]
  },
  {
   "cell_type": "code",
   "execution_count": 20,
   "metadata": {},
   "outputs": [],
   "source": [
    "# admissoes_pivot_df.columns"
   ]
  },
  {
   "cell_type": "code",
   "execution_count": 21,
   "metadata": {},
   "outputs": [],
   "source": [
    "for column in admissoes_pivot_df.columns:\n",
    "    if column != \"Total\":\n",
    "        new_column = str(column + \" anos\")\n",
    "#         df.drop([new_column], axis=1, inplace=True)\n",
    "        admissoes_pivot_df[new_column] = round(admissoes_pivot_df[column] /  admissoes_pivot_df[\"Total\"] * 100,2)"
   ]
  },
  {
   "cell_type": "code",
   "execution_count": 22,
   "metadata": {
    "scrolled": true
   },
   "outputs": [
    {
     "data": {
      "text/html": [
       "<div>\n",
       "<style scoped>\n",
       "    .dataframe tbody tr th:only-of-type {\n",
       "        vertical-align: middle;\n",
       "    }\n",
       "\n",
       "    .dataframe tbody tr th {\n",
       "        vertical-align: top;\n",
       "    }\n",
       "\n",
       "    .dataframe thead th {\n",
       "        text-align: right;\n",
       "    }\n",
       "</style>\n",
       "<table border=\"1\" class=\"dataframe\">\n",
       "  <thead>\n",
       "    <tr style=\"text-align: right;\">\n",
       "      <th></th>\n",
       "      <th>14-23 anos</th>\n",
       "      <th>24-33 anos</th>\n",
       "      <th>34-43 anos</th>\n",
       "      <th>44-53 anos</th>\n",
       "      <th>54-63 anos</th>\n",
       "      <th>64-73 anos</th>\n",
       "      <th>74+ anos</th>\n",
       "    </tr>\n",
       "    <tr>\n",
       "      <th>competência</th>\n",
       "      <th></th>\n",
       "      <th></th>\n",
       "      <th></th>\n",
       "      <th></th>\n",
       "      <th></th>\n",
       "      <th></th>\n",
       "      <th></th>\n",
       "    </tr>\n",
       "  </thead>\n",
       "  <tbody>\n",
       "    <tr>\n",
       "      <th>202101</th>\n",
       "      <td>24.12</td>\n",
       "      <td>35.62</td>\n",
       "      <td>24.19</td>\n",
       "      <td>11.81</td>\n",
       "      <td>3.87</td>\n",
       "      <td>0.38</td>\n",
       "      <td>0.02</td>\n",
       "    </tr>\n",
       "    <tr>\n",
       "      <th>202102</th>\n",
       "      <td>24.87</td>\n",
       "      <td>34.81</td>\n",
       "      <td>24.07</td>\n",
       "      <td>11.94</td>\n",
       "      <td>3.94</td>\n",
       "      <td>0.36</td>\n",
       "      <td>0.02</td>\n",
       "    </tr>\n",
       "    <tr>\n",
       "      <th>202103</th>\n",
       "      <td>23.92</td>\n",
       "      <td>35.12</td>\n",
       "      <td>24.71</td>\n",
       "      <td>12.00</td>\n",
       "      <td>3.87</td>\n",
       "      <td>0.36</td>\n",
       "      <td>0.02</td>\n",
       "    </tr>\n",
       "  </tbody>\n",
       "</table>\n",
       "</div>"
      ],
      "text/plain": [
       "             14-23 anos  24-33 anos  34-43 anos  44-53 anos  54-63 anos  \\\n",
       "competência                                                               \n",
       "202101            24.12       35.62       24.19       11.81        3.87   \n",
       "202102            24.87       34.81       24.07       11.94        3.94   \n",
       "202103            23.92       35.12       24.71       12.00        3.87   \n",
       "\n",
       "             64-73 anos  74+ anos  \n",
       "competência                        \n",
       "202101             0.38      0.02  \n",
       "202102             0.36      0.02  \n",
       "202103             0.36      0.02  "
      ]
     },
     "execution_count": 22,
     "metadata": {},
     "output_type": "execute_result"
    }
   ],
   "source": [
    "colunas_grafico = [column for column in admissoes_pivot_df.columns if ' anos' in column] \n",
    "admissoes_pivot_df[colunas_grafico]"
   ]
  },
  {
   "cell_type": "markdown",
   "metadata": {},
   "source": [
    "### Visual"
   ]
  },
  {
   "cell_type": "code",
   "execution_count": 23,
   "metadata": {},
   "outputs": [
    {
     "data": {
      "text/plain": [
       "<matplotlib.legend.Legend at 0x11a0b9438>"
      ]
     },
     "execution_count": 23,
     "metadata": {},
     "output_type": "execute_result"
    },
    {
     "data": {
      "image/png": "[encoded data removed]",
      "text/plain": [
       "<Figure size 1080x432 with 2 Axes>"
      ]
     },
     "metadata": {},
     "output_type": "display_data"
    }
   ],
   "source": [
    "fig, ax1 = plt.subplots()\n",
    "#ax1\n",
    "ax1_color = '#2f4b7c'\n",
    "ax1.set_title('ÍNDICE DE PESSOAS DEMITIDAS POR FAIXA ETÁRIA')\n",
    "ax1 = admissoes_pivot_df[\n",
    "    'Total'].plot(kind='area',\n",
    "                  alpha=0.2,\n",
    "                  color=ax1_color,\n",
    "                  figsize = (15,6),\n",
    "                  ylim=[admissoes_pivot_df['Total'].min()-200000, admissoes_pivot_df['Total'].max()+50000],\n",
    "                  ylabel='TOTAL GERAL',\n",
    "                  xlabel='COMPETÊNCIA'\n",
    "                 )\n",
    "\n",
    "ax1.tick_params(axis='y', labelcolor=ax1_color)\n",
    "ax1.ticklabel_format(axis='y',style='plain', ) \n",
    "ax1.get_yaxis().set_major_formatter(\n",
    "mpl.ticker.FuncFormatter(\n",
    "    lambda x, p: format(int(x), ',')))\n",
    "\n",
    "#ax2\n",
    "ax2_color = '#f95d6a'\n",
    "ax2 = ax1.twinx()\n",
    "ax2.tick_params(axis='y', labelcolor=ax2_color)\n",
    "admissoes_pivot_df[colunas_grafico].plot.bar(\n",
    "         width= 0.4,\n",
    "        grid = True,\n",
    "#         stacked=True,\n",
    "        ylabel='PORCENTAGEM',\n",
    "#          ylim=[0, 70],\n",
    "         ax=ax2\n",
    "    ).legend(\n",
    "    bbox_to_anchor=(1.2, .9), loc='lower right')\n"
   ]
  },
  {
   "cell_type": "code",
   "execution_count": 24,
   "metadata": {
    "scrolled": true
   },
   "outputs": [
    {
     "data": {
      "text/plain": [
       "<AxesSubplot:title={'center':'ÍNDICE DE PESSOAS ADMITIDAS POR FAIXA ETÁRIA'}, ylabel='Período de Pandemia'>"
      ]
     },
     "execution_count": 24,
     "metadata": {},
     "output_type": "execute_result"
    },
    {
     "data": {
      "image/png": "[encoded data removed]",
      "text/plain": [
       "<Figure size 432x288 with 1 Axes>"
      ]
     },
     "metadata": {},
     "output_type": "display_data"
    }
   ],
   "source": [
    "admissoes_pivot_df.sum()[-7:].plot.pie(\n",
    "    autopct='%1.1f%%',\n",
    "    explode=(0.2, 0.2, 0.2, 0.2, 0.2, 0.2, 0.2),\n",
    "    title='ÍNDICE DE PESSOAS ADMITIDAS POR FAIXA ETÁRIA',\n",
    "    ylabel= 'Período de Pandemia'\n",
    ")"
   ]
  },
  {
   "cell_type": "markdown",
   "metadata": {},
   "source": [
    "### Demissões"
   ]
  },
  {
   "cell_type": "code",
   "execution_count": 25,
   "metadata": {
    "scrolled": true
   },
   "outputs": [
    {
     "data": {
      "text/html": [
       "<div>\n",
       "<style scoped>\n",
       "    .dataframe tbody tr th:only-of-type {\n",
       "        vertical-align: middle;\n",
       "    }\n",
       "\n",
       "    .dataframe tbody tr th {\n",
       "        vertical-align: top;\n",
       "    }\n",
       "\n",
       "    .dataframe thead tr th {\n",
       "        text-align: left;\n",
       "    }\n",
       "\n",
       "    .dataframe thead tr:last-of-type th {\n",
       "        text-align: right;\n",
       "    }\n",
       "</style>\n",
       "<table border=\"1\" class=\"dataframe\">\n",
       "  <thead>\n",
       "    <tr>\n",
       "      <th></th>\n",
       "      <th colspan=\"8\" halign=\"left\">idade</th>\n",
       "    </tr>\n",
       "    <tr>\n",
       "      <th>Faixa Etária</th>\n",
       "      <th>14-23</th>\n",
       "      <th>24-33</th>\n",
       "      <th>34-43</th>\n",
       "      <th>44-53</th>\n",
       "      <th>54-63</th>\n",
       "      <th>64-73</th>\n",
       "      <th>74+</th>\n",
       "      <th>Não informado</th>\n",
       "    </tr>\n",
       "    <tr>\n",
       "      <th>competência</th>\n",
       "      <th></th>\n",
       "      <th></th>\n",
       "      <th></th>\n",
       "      <th></th>\n",
       "      <th></th>\n",
       "      <th></th>\n",
       "      <th></th>\n",
       "      <th></th>\n",
       "    </tr>\n",
       "  </thead>\n",
       "  <tbody>\n",
       "    <tr>\n",
       "      <th>202101</th>\n",
       "      <td>257021</td>\n",
       "      <td>463582</td>\n",
       "      <td>318251</td>\n",
       "      <td>154595</td>\n",
       "      <td>61100</td>\n",
       "      <td>11128</td>\n",
       "      <td>1041</td>\n",
       "      <td>0</td>\n",
       "    </tr>\n",
       "    <tr>\n",
       "      <th>202102</th>\n",
       "      <td>252927</td>\n",
       "      <td>469985</td>\n",
       "      <td>329792</td>\n",
       "      <td>162638</td>\n",
       "      <td>65660</td>\n",
       "      <td>11007</td>\n",
       "      <td>947</td>\n",
       "      <td>0</td>\n",
       "    </tr>\n",
       "    <tr>\n",
       "      <th>202103</th>\n",
       "      <td>272743</td>\n",
       "      <td>511391</td>\n",
       "      <td>366397</td>\n",
       "      <td>184548</td>\n",
       "      <td>74543</td>\n",
       "      <td>13175</td>\n",
       "      <td>1066</td>\n",
       "      <td>0</td>\n",
       "    </tr>\n",
       "  </tbody>\n",
       "</table>\n",
       "</div>"
      ],
      "text/plain": [
       "               idade                                                          \n",
       "Faixa Etária   14-23   24-33   34-43   44-53  54-63  64-73   74+ Não informado\n",
       "competência                                                                   \n",
       "202101        257021  463582  318251  154595  61100  11128  1041             0\n",
       "202102        252927  469985  329792  162638  65660  11007   947             0\n",
       "202103        272743  511391  366397  184548  74543  13175  1066             0"
      ]
     },
     "execution_count": 25,
     "metadata": {},
     "output_type": "execute_result"
    }
   ],
   "source": [
    "#cria pivot table para ter 'competencia' como index, e contar valores em 'idade'\n",
    "demissoes_pivot = pd.pivot_table(demissoes_df, \n",
    "                       columns=['Faixa Etária'], \n",
    "                       index=['competência'],\n",
    "                       values=['idade'],\n",
    "                       aggfunc='count'\n",
    "                      )\n",
    "demissoes_pivot"
   ]
  },
  {
   "cell_type": "code",
   "execution_count": 26,
   "metadata": {},
   "outputs": [],
   "source": [
    "# converte indice para string para pontuar no eixo y\n",
    "demissoes_pivot.index = demissoes_pivot.index.map(str)"
   ]
  },
  {
   "cell_type": "code",
   "execution_count": 33,
   "metadata": {
    "scrolled": true
   },
   "outputs": [
    {
     "data": {
      "text/html": [
       "<div>\n",
       "<style scoped>\n",
       "    .dataframe tbody tr th:only-of-type {\n",
       "        vertical-align: middle;\n",
       "    }\n",
       "\n",
       "    .dataframe tbody tr th {\n",
       "        vertical-align: top;\n",
       "    }\n",
       "\n",
       "    .dataframe thead th {\n",
       "        text-align: right;\n",
       "    }\n",
       "</style>\n",
       "<table border=\"1\" class=\"dataframe\">\n",
       "  <thead>\n",
       "    <tr style=\"text-align: right;\">\n",
       "      <th></th>\n",
       "      <th>14-23</th>\n",
       "      <th>24-33</th>\n",
       "      <th>34-43</th>\n",
       "      <th>44-53</th>\n",
       "      <th>54-63</th>\n",
       "      <th>64-73</th>\n",
       "      <th>74+</th>\n",
       "      <th>Não informado</th>\n",
       "    </tr>\n",
       "    <tr>\n",
       "      <th>competência</th>\n",
       "      <th></th>\n",
       "      <th></th>\n",
       "      <th></th>\n",
       "      <th></th>\n",
       "      <th></th>\n",
       "      <th></th>\n",
       "      <th></th>\n",
       "      <th></th>\n",
       "    </tr>\n",
       "  </thead>\n",
       "  <tbody>\n",
       "    <tr>\n",
       "      <th>202101</th>\n",
       "      <td>257021</td>\n",
       "      <td>463582</td>\n",
       "      <td>318251</td>\n",
       "      <td>154595</td>\n",
       "      <td>61100</td>\n",
       "      <td>11128</td>\n",
       "      <td>1041</td>\n",
       "      <td>0</td>\n",
       "    </tr>\n",
       "    <tr>\n",
       "      <th>202102</th>\n",
       "      <td>252927</td>\n",
       "      <td>469985</td>\n",
       "      <td>329792</td>\n",
       "      <td>162638</td>\n",
       "      <td>65660</td>\n",
       "      <td>11007</td>\n",
       "      <td>947</td>\n",
       "      <td>0</td>\n",
       "    </tr>\n",
       "    <tr>\n",
       "      <th>202103</th>\n",
       "      <td>272743</td>\n",
       "      <td>511391</td>\n",
       "      <td>366397</td>\n",
       "      <td>184548</td>\n",
       "      <td>74543</td>\n",
       "      <td>13175</td>\n",
       "      <td>1066</td>\n",
       "      <td>0</td>\n",
       "    </tr>\n",
       "  </tbody>\n",
       "</table>\n",
       "</div>"
      ],
      "text/plain": [
       "              14-23   24-33   34-43   44-53  54-63  64-73   74+  Não informado\n",
       "competência                                                                   \n",
       "202101       257021  463582  318251  154595  61100  11128  1041              0\n",
       "202102       252927  469985  329792  162638  65660  11007   947              0\n",
       "202103       272743  511391  366397  184548  74543  13175  1066              0"
      ]
     },
     "execution_count": 33,
     "metadata": {},
     "output_type": "execute_result"
    }
   ],
   "source": [
    "# cria DF a partir da pivot table\n",
    "demissoes_pivot_df = pd.DataFrame(demissoes_pivot.to_records(), \n",
    "                  index=demissoes_pivot.index\n",
    ")\n",
    "# limpa nome das colunas\n",
    "demissoes_pivot_df.columns = [hdr.replace(\"('idade', '\", \"\").replace(\"')\", \"\") \\\n",
    "                     for hdr in demissoes_pivot_df.columns]\n",
    "# elimina coluna adicional que foi utilizada como índice\n",
    "demissoes_pivot_df.drop(['competência'], axis=1, inplace=True)\n",
    "demissoes_pivot_df"
   ]
  },
  {
   "cell_type": "code",
   "execution_count": 34,
   "metadata": {
    "scrolled": false
   },
   "outputs": [],
   "source": [
    "# cria coluna Total para receber o total por competencia\n",
    "demissoes_pivot_df[\"Total\"] = 0\n",
    "for index in demissoes_pivot_df.index:\n",
    "    demissoes_pivot_df[\"Total\"][str(index)] = demissoes_pivot_df.sum(axis=1)[str(index)]\n",
    "    "
   ]
  },
  {
   "cell_type": "code",
   "execution_count": 35,
   "metadata": {},
   "outputs": [
    {
     "data": {
      "text/plain": [
       "Index(['14-23', '24-33', '34-43', '44-53', '54-63', '64-73', '74+',\n",
       "       'Não informado', 'Total'],\n",
       "      dtype='object')"
      ]
     },
     "execution_count": 35,
     "metadata": {},
     "output_type": "execute_result"
    }
   ],
   "source": [
    "demissoes_pivot_df.columns"
   ]
  },
  {
   "cell_type": "code",
   "execution_count": 36,
   "metadata": {},
   "outputs": [],
   "source": [
    "for column in demissoes_pivot_df.columns:\n",
    "    if column not in[\"Total\", \"Não informado\"]:\n",
    "        new_column = str(column + \" anos\")\n",
    "#         df.drop([new_column], axis=1, inplace=True)\n",
    "        demissoes_pivot_df[new_column] = round(demissoes_pivot_df[column] /  demissoes_pivot_df[\"Total\"] * 100,2)"
   ]
  },
  {
   "cell_type": "code",
   "execution_count": 37,
   "metadata": {
    "scrolled": true
   },
   "outputs": [
    {
     "data": {
      "text/html": [
       "<div>\n",
       "<style scoped>\n",
       "    .dataframe tbody tr th:only-of-type {\n",
       "        vertical-align: middle;\n",
       "    }\n",
       "\n",
       "    .dataframe tbody tr th {\n",
       "        vertical-align: top;\n",
       "    }\n",
       "\n",
       "    .dataframe thead th {\n",
       "        text-align: right;\n",
       "    }\n",
       "</style>\n",
       "<table border=\"1\" class=\"dataframe\">\n",
       "  <thead>\n",
       "    <tr style=\"text-align: right;\">\n",
       "      <th></th>\n",
       "      <th>14-23 anos</th>\n",
       "      <th>24-33 anos</th>\n",
       "      <th>34-43 anos</th>\n",
       "      <th>44-53 anos</th>\n",
       "      <th>54-63 anos</th>\n",
       "      <th>64-73 anos</th>\n",
       "      <th>74+ anos</th>\n",
       "    </tr>\n",
       "    <tr>\n",
       "      <th>competência</th>\n",
       "      <th></th>\n",
       "      <th></th>\n",
       "      <th></th>\n",
       "      <th></th>\n",
       "      <th></th>\n",
       "      <th></th>\n",
       "      <th></th>\n",
       "    </tr>\n",
       "  </thead>\n",
       "  <tbody>\n",
       "    <tr>\n",
       "      <th>202101</th>\n",
       "      <td>20.29</td>\n",
       "      <td>36.60</td>\n",
       "      <td>25.12</td>\n",
       "      <td>12.20</td>\n",
       "      <td>4.82</td>\n",
       "      <td>0.88</td>\n",
       "      <td>0.08</td>\n",
       "    </tr>\n",
       "    <tr>\n",
       "      <th>202102</th>\n",
       "      <td>19.56</td>\n",
       "      <td>36.35</td>\n",
       "      <td>25.51</td>\n",
       "      <td>12.58</td>\n",
       "      <td>5.08</td>\n",
       "      <td>0.85</td>\n",
       "      <td>0.07</td>\n",
       "    </tr>\n",
       "    <tr>\n",
       "      <th>202103</th>\n",
       "      <td>19.16</td>\n",
       "      <td>35.92</td>\n",
       "      <td>25.73</td>\n",
       "      <td>12.96</td>\n",
       "      <td>5.24</td>\n",
       "      <td>0.93</td>\n",
       "      <td>0.07</td>\n",
       "    </tr>\n",
       "  </tbody>\n",
       "</table>\n",
       "</div>"
      ],
      "text/plain": [
       "             14-23 anos  24-33 anos  34-43 anos  44-53 anos  54-63 anos  \\\n",
       "competência                                                               \n",
       "202101            20.29       36.60       25.12       12.20        4.82   \n",
       "202102            19.56       36.35       25.51       12.58        5.08   \n",
       "202103            19.16       35.92       25.73       12.96        5.24   \n",
       "\n",
       "             64-73 anos  74+ anos  \n",
       "competência                        \n",
       "202101             0.88      0.08  \n",
       "202102             0.85      0.07  \n",
       "202103             0.93      0.07  "
      ]
     },
     "execution_count": 37,
     "metadata": {},
     "output_type": "execute_result"
    }
   ],
   "source": [
    "colunas_grafico_dem = [column for column in demissoes_pivot_df.columns if ' anos' in column] \n",
    "demissoes_pivot_df[colunas_grafico_dem]"
   ]
  },
  {
   "cell_type": "markdown",
   "metadata": {},
   "source": [
    "### Visual"
   ]
  },
  {
   "cell_type": "code",
   "execution_count": 38,
   "metadata": {},
   "outputs": [
    {
     "data": {
      "text/plain": [
       "<matplotlib.legend.Legend at 0x11a3ae160>"
      ]
     },
     "execution_count": 38,
     "metadata": {},
     "output_type": "execute_result"
    },
    {
     "data": {
      "image/png": "[encoded data removed]",
      "text/plain": [
       "<Figure size 1080x432 with 2 Axes>"
      ]
     },
     "metadata": {},
     "output_type": "display_data"
    }
   ],
   "source": [
    "fig, ax1 = plt.subplots()\n",
    "#ax1\n",
    "ax1_color = '#2f4b7c'\n",
    "ax1.set_title('ÍNDICE DE PESSOAS DEMITIDAS POR FAIXA ETÁRIA')\n",
    "ax1 = demissoes_pivot_df[\n",
    "    'Total'].plot(kind='area',\n",
    "                  alpha=0.2,\n",
    "                  color=ax1_color,\n",
    "                  figsize = (15,6),\n",
    "                  ylim=[demissoes_pivot_df['Total'].min()-200000, demissoes_pivot_df['Total'].max()+50000],\n",
    "                  ylabel='TOTAL GERAL',\n",
    "                  xlabel='COMPETÊNCIA'\n",
    "                 )\n",
    "\n",
    "ax1.tick_params(axis='y', labelcolor=ax1_color)\n",
    "ax1.ticklabel_format(axis='y',style='plain', ) \n",
    "ax1.get_yaxis().set_major_formatter(\n",
    "mpl.ticker.FuncFormatter(\n",
    "    lambda x, p: format(int(x), ',')))\n",
    "\n",
    "#ax2\n",
    "ax2_color = '#f95d6a'\n",
    "ax2 = ax1.twinx()\n",
    "ax2.tick_params(axis='y', labelcolor=ax2_color)\n",
    "demissoes_pivot_df[colunas_grafico_dem].plot.bar(\n",
    "         width= 0.4,\n",
    "        grid = True,\n",
    "#         stacked=True,\n",
    "        ylabel='PORCENTAGEM',\n",
    "#          ylim=[0, 70],\n",
    "         ax=ax2\n",
    "    ).legend(\n",
    "    bbox_to_anchor=(1.2, .9), loc='lower right')\n"
   ]
  },
  {
   "cell_type": "code",
   "execution_count": 39,
   "metadata": {
    "scrolled": true
   },
   "outputs": [
    {
     "data": {
      "text/plain": [
       "<AxesSubplot:title={'center':'ÍNDICE DE PESSOAS DEMITIDAS POR FAIXA ETÁRIA'}, ylabel='Período de Pandemia'>"
      ]
     },
     "execution_count": 39,
     "metadata": {},
     "output_type": "execute_result"
    },
    {
     "data": {
      "image/png": "[encoded data removed]",
      "text/plain": [
       "<Figure size 432x288 with 1 Axes>"
      ]
     },
     "metadata": {},
     "output_type": "display_data"
    }
   ],
   "source": [
    "demissoes_pivot_df.sum()[-7:].plot.pie(\n",
    "    autopct='%1.1f%%',\n",
    "    explode=(0.2, 0.2, 0.2, 0.2, 0.2, 0.2, 0.2),\n",
    "    title='ÍNDICE DE PESSOAS DEMITIDAS POR FAIXA ETÁRIA',\n",
    "    ylabel= 'Período de Pandemia'\n",
    ")"
   ]
  }
 ],
 "metadata": {
  "kernelspec": {
   "display_name": "Python 3",
   "language": "python",
   "name": "python3"
  },
  "language_info": {
   "codemirror_mode": {
    "name": "ipython",
    "version": 3
   },
   "file_extension": ".py",
   "mimetype": "text/x-python",
   "name": "python",
   "nbconvert_exporter": "python",
   "pygments_lexer": "ipython3",
   "version": "3.7.3"
  }
 },
 "nbformat": 4,
 "nbformat_minor": 2
}
