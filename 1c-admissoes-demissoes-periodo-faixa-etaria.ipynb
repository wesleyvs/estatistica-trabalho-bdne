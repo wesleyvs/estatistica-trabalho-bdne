{
 "cells": [
  {
   "cell_type": "code",
   "execution_count": 1,
   "metadata": {},
   "outputs": [
    {
     "name": "stderr",
     "output_type": "stream",
     "text": [
      "/Users/mariaclara1985/.pyenv/versions/3.7.3/lib/python3.7/site-packages/pandas/compat/__init__.py:97: UserWarning: Could not import the lzma module. Your installed Python is incomplete. Attempting to use lzma compression will result in a RuntimeError.\n",
      "  warnings.warn(msg)\n"
     ]
    }
   ],
   "source": [
    "import pandas as pd\n",
    "import matplotlib.pyplot as plt\n",
    "import matplotlib as mpl\n",
    "from glob import glob \n",
    "import numpy as np\n",
    "import seaborn as sb"
   ]
  },
  {
   "cell_type": "code",
   "execution_count": 2,
   "metadata": {},
   "outputs": [],
   "source": [
    "# lista de todos os arquivos\n",
    "caged_files = sorted(glob('teste/CAGEDMOV*.txt'))\n",
    "# concatena os arquivos\n",
    "pandemia_df = pd.concat((pd.read_csv(file, sep=';') for file in caged_files), ignore_index=True)"
   ]
  },
  {
   "cell_type": "code",
   "execution_count": 3,
   "metadata": {},
   "outputs": [
    {
     "data": {
      "text/plain": [
       "Index(['competência', 'região', 'uf', 'município', 'seção', 'subclasse',\n",
       "       'saldomovimentação', 'cbo2002ocupação', 'categoria', 'graudeinstrução',\n",
       "       'idade', 'horascontratuais', 'raçacor', 'sexo', 'tipoempregador',\n",
       "       'tipoestabelecimento', 'tipomovimentação', 'tipodedeficiência',\n",
       "       'indtrabintermitente', 'indtrabparcial', 'salário', 'tamestabjan',\n",
       "       'indicadoraprendiz', 'fonte'],\n",
       "      dtype='object')"
      ]
     },
     "execution_count": 3,
     "metadata": {},
     "output_type": "execute_result"
    }
   ],
   "source": [
    "pandemia_df.columns"
   ]
  },
  {
   "cell_type": "code",
   "execution_count": 4,
   "metadata": {},
   "outputs": [
    {
     "data": {
      "text/plain": [
       "['teste/CAGEDMOV202101.txt',\n",
       " 'teste/CAGEDMOV202102.txt',\n",
       " 'teste/CAGEDMOV202103.txt']"
      ]
     },
     "execution_count": 4,
     "metadata": {},
     "output_type": "execute_result"
    }
   ],
   "source": [
    "caged_files"
   ]
  },
  {
   "cell_type": "code",
   "execution_count": 5,
   "metadata": {},
   "outputs": [],
   "source": [
    "questao01c_df = pandemia_df[['competência', 'saldomovimentação', 'idade']]\n",
    "# questao01c_df[questao01c_df['idade'].isnull()]"
   ]
  },
  {
   "cell_type": "code",
   "execution_count": 6,
   "metadata": {},
   "outputs": [],
   "source": [
    "# questao01c_df.head()"
   ]
  },
  {
   "cell_type": "code",
   "execution_count": 7,
   "metadata": {
    "scrolled": true
   },
   "outputs": [
    {
     "name": "stderr",
     "output_type": "stream",
     "text": [
      "/Users/mariaclara1985/.pyenv/versions/3.7.3/lib/python3.7/site-packages/ipykernel_launcher.py:6: SettingWithCopyWarning: \n",
      "A value is trying to be set on a copy of a slice from a DataFrame.\n",
      "Try using .loc[row_indexer,col_indexer] = value instead\n",
      "\n",
      "See the caveats in the documentation: https://pandas.pydata.org/pandas-docs/stable/user_guide/indexing.html#returning-a-view-versus-a-copy\n",
      "  \n"
     ]
    }
   ],
   "source": [
    "saldomovimentacao = {\n",
    "    1: 'admissao',\n",
    "    -1: 'demissao'\n",
    "}\n",
    "\n",
    "questao01c_df['saldomovimentação'] = questao01c_df['saldomovimentação'].apply(lambda x: saldomovimentacao[x])"
   ]
  },
  {
   "cell_type": "markdown",
   "metadata": {},
   "source": [
    "# 1 – Qual foi o índice de pessoas empregadas e desempregadas em certo período, categorizadas por:\n"
   ]
  },
  {
   "cell_type": "code",
   "execution_count": 8,
   "metadata": {},
   "outputs": [
    {
     "name": "stderr",
     "output_type": "stream",
     "text": [
      "/Users/mariaclara1985/.pyenv/versions/3.7.3/lib/python3.7/site-packages/pandas/core/indexing.py:1599: SettingWithCopyWarning: \n",
      "A value is trying to be set on a copy of a slice from a DataFrame.\n",
      "Try using .loc[row_indexer,col_indexer] = value instead\n",
      "\n",
      "See the caveats in the documentation: https://pandas.pydata.org/pandas-docs/stable/user_guide/indexing.html#returning-a-view-versus-a-copy\n",
      "  self.obj[key] = infer_fill_value(value)\n",
      "/Users/mariaclara1985/.pyenv/versions/3.7.3/lib/python3.7/site-packages/pandas/core/indexing.py:1720: SettingWithCopyWarning: \n",
      "A value is trying to be set on a copy of a slice from a DataFrame.\n",
      "Try using .loc[row_indexer,col_indexer] = value instead\n",
      "\n",
      "See the caveats in the documentation: https://pandas.pydata.org/pandas-docs/stable/user_guide/indexing.html#returning-a-view-versus-a-copy\n",
      "  self._setitem_single_column(loc, value, pi)\n",
      "/Users/mariaclara1985/.pyenv/versions/3.7.3/lib/python3.7/site-packages/pandas/core/indexing.py:1720: SettingWithCopyWarning: \n",
      "A value is trying to be set on a copy of a slice from a DataFrame.\n",
      "Try using .loc[row_indexer,col_indexer] = value instead\n",
      "\n",
      "See the caveats in the documentation: https://pandas.pydata.org/pandas-docs/stable/user_guide/indexing.html#returning-a-view-versus-a-copy\n",
      "  self._setitem_single_column(loc, value, pi)\n",
      "/Users/mariaclara1985/.pyenv/versions/3.7.3/lib/python3.7/site-packages/pandas/core/indexing.py:1720: SettingWithCopyWarning: \n",
      "A value is trying to be set on a copy of a slice from a DataFrame.\n",
      "Try using .loc[row_indexer,col_indexer] = value instead\n",
      "\n",
      "See the caveats in the documentation: https://pandas.pydata.org/pandas-docs/stable/user_guide/indexing.html#returning-a-view-versus-a-copy\n",
      "  self._setitem_single_column(loc, value, pi)\n",
      "/Users/mariaclara1985/.pyenv/versions/3.7.3/lib/python3.7/site-packages/pandas/core/indexing.py:1720: SettingWithCopyWarning: \n",
      "A value is trying to be set on a copy of a slice from a DataFrame.\n",
      "Try using .loc[row_indexer,col_indexer] = value instead\n",
      "\n",
      "See the caveats in the documentation: https://pandas.pydata.org/pandas-docs/stable/user_guide/indexing.html#returning-a-view-versus-a-copy\n",
      "  self._setitem_single_column(loc, value, pi)\n",
      "/Users/mariaclara1985/.pyenv/versions/3.7.3/lib/python3.7/site-packages/pandas/core/indexing.py:1720: SettingWithCopyWarning: \n",
      "A value is trying to be set on a copy of a slice from a DataFrame.\n",
      "Try using .loc[row_indexer,col_indexer] = value instead\n",
      "\n",
      "See the caveats in the documentation: https://pandas.pydata.org/pandas-docs/stable/user_guide/indexing.html#returning-a-view-versus-a-copy\n",
      "  self._setitem_single_column(loc, value, pi)\n",
      "/Users/mariaclara1985/.pyenv/versions/3.7.3/lib/python3.7/site-packages/pandas/core/indexing.py:1720: SettingWithCopyWarning: \n",
      "A value is trying to be set on a copy of a slice from a DataFrame.\n",
      "Try using .loc[row_indexer,col_indexer] = value instead\n",
      "\n",
      "See the caveats in the documentation: https://pandas.pydata.org/pandas-docs/stable/user_guide/indexing.html#returning-a-view-versus-a-copy\n",
      "  self._setitem_single_column(loc, value, pi)\n",
      "/Users/mariaclara1985/.pyenv/versions/3.7.3/lib/python3.7/site-packages/pandas/core/indexing.py:1720: SettingWithCopyWarning: \n",
      "A value is trying to be set on a copy of a slice from a DataFrame.\n",
      "Try using .loc[row_indexer,col_indexer] = value instead\n",
      "\n",
      "See the caveats in the documentation: https://pandas.pydata.org/pandas-docs/stable/user_guide/indexing.html#returning-a-view-versus-a-copy\n",
      "  self._setitem_single_column(loc, value, pi)\n"
     ]
    }
   ],
   "source": [
    "# cria coluna 'Faixa Etária' com base em faixas de 10 anos, até os 74aa\n",
    "passos = int((questao01c_df['idade'].max() - questao01c_df['idade'].min()) / 10)\n",
    "\n",
    "idade = questao01c_df['idade'].min()\n",
    "for i in range(passos-2):\n",
    "    idade_2 = idade + 10\n",
    "    questao01c_df.loc[(questao01c_df['idade']>=idade) & (questao01c_df['idade']<idade_2), 'Faixa Etária'] = str(int(idade)) + '-' + str(int(idade+9))\n",
    "    idade = idade_2\n",
    "\n",
    "questao01c_df.loc[(questao01c_df['idade']>=idade), 'Faixa Etária'] = str(int(idade)) + '+'\n",
    "questao01c_df.loc[(questao01c_df['idade'].isnull()), 'Faixa Etária'] = 'Não informado'\n"
   ]
  },
  {
   "cell_type": "code",
   "execution_count": 9,
   "metadata": {},
   "outputs": [],
   "source": [
    "# questao01c_df['Faixa Etária'].value_counts().sort_index().tail(50)"
   ]
  },
  {
   "cell_type": "code",
   "execution_count": 10,
   "metadata": {},
   "outputs": [],
   "source": [
    "admissoes = questao01c_df['saldomovimentação'] == \"admissao\"\n",
    "demissoes = questao01c_df['saldomovimentação'] == \"demissao\""
   ]
  },
  {
   "cell_type": "code",
   "execution_count": 11,
   "metadata": {
    "scrolled": true
   },
   "outputs": [],
   "source": [
    "admissoes_df = questao01c_df[admissoes]\n",
    "# admissoes_df.head()"
   ]
  },
  {
   "cell_type": "code",
   "execution_count": 12,
   "metadata": {
    "scrolled": false
   },
   "outputs": [],
   "source": [
    "demissoes_df = questao01c_df[demissoes]\n",
    "# demissoes_df.head()"
   ]
  },
  {
   "cell_type": "code",
   "execution_count": 13,
   "metadata": {
    "scrolled": true
   },
   "outputs": [],
   "source": [
    "# admissoes_df['idade_faixa'] = \n",
    "# admissoes_df[['competência','Faixa Etária']].value_counts().sort_index().sum()\n",
    "# admissoes_df[admissoes_df['idade'].isnull()][['competência','idade']]\n",
    "# admissoes_df.head()\n"
   ]
  },
  {
   "cell_type": "markdown",
   "metadata": {},
   "source": [
    "## - Faixa Etária"
   ]
  },
  {
   "cell_type": "markdown",
   "metadata": {},
   "source": [
    "### Admissões"
   ]
  },
  {
   "cell_type": "code",
   "execution_count": 14,
   "metadata": {
    "scrolled": true
   },
   "outputs": [],
   "source": [
    "#cria pivot table para ter 'competencia' como index, e contar valores em 'idade'\n",
    "admissoes_pivot = pd.pivot_table(admissoes_df, \n",
    "                       columns=['Faixa Etária'], \n",
    "                       index=['competência'],\n",
    "                       values=['idade'],\n",
    "                       aggfunc='count'\n",
    "                      )\n",
    "# admissoes_pivot"
   ]
  },
  {
   "cell_type": "code",
   "execution_count": 15,
   "metadata": {},
   "outputs": [],
   "source": [
    "# converte indice para string para pontuar no eixo y\n",
    "admissoes_pivot.index = admissoes_pivot.index.map(str)"
   ]
  },
  {
   "cell_type": "code",
   "execution_count": 16,
   "metadata": {
    "scrolled": true
   },
   "outputs": [
    {
     "ename": "NameError",
     "evalue": "name 'pivot' is not defined",
     "output_type": "error",
     "traceback": [
      "\u001b[0;31m---------------------------------------------------------------------------\u001b[0m",
      "\u001b[0;31mNameError\u001b[0m                                 Traceback (most recent call last)",
      "\u001b[0;32m<ipython-input-16-111cd09e3ea3>\u001b[0m in \u001b[0;36m<module>\u001b[0;34m\u001b[0m\n\u001b[1;32m      1\u001b[0m \u001b[0;31m# cria DF a partir da pivot table\u001b[0m\u001b[0;34m\u001b[0m\u001b[0;34m\u001b[0m\u001b[0;34m\u001b[0m\u001b[0m\n\u001b[1;32m      2\u001b[0m admissoes_pivot_df = pd.DataFrame(admissoes_pivot.to_records(), \n\u001b[0;32m----> 3\u001b[0;31m                   \u001b[0mindex\u001b[0m\u001b[0;34m=\u001b[0m\u001b[0mpivot\u001b[0m\u001b[0;34m.\u001b[0m\u001b[0mindex\u001b[0m\u001b[0;34m\u001b[0m\u001b[0;34m\u001b[0m\u001b[0m\n\u001b[0m\u001b[1;32m      4\u001b[0m )\n\u001b[1;32m      5\u001b[0m \u001b[0;31m# limpa nome das colunas\u001b[0m\u001b[0;34m\u001b[0m\u001b[0;34m\u001b[0m\u001b[0;34m\u001b[0m\u001b[0m\n",
      "\u001b[0;31mNameError\u001b[0m: name 'pivot' is not defined"
     ]
    }
   ],
   "source": [
    "# cria DF a partir da pivot table\n",
    "admissoes_pivot_df = pd.DataFrame(admissoes_pivot.to_records(), \n",
    "                  index=pivot.index\n",
    ")\n",
    "# limpa nome das colunas\n",
    "admissoes_pivot_df.columns = [hdr.replace(\"('idade', '\", \"\").replace(\"')\", \"\") \\\n",
    "                     for hdr in admissoes_pivot_df.columns]\n",
    "# elimina coluna adicional que foi utilizada como índice\n",
    "admissoes_pivot_df.drop(['competência'], axis=1, inplace=True)\n",
    "# admissoes_pivot_df"
   ]
  },
  {
   "cell_type": "code",
   "execution_count": null,
   "metadata": {
    "scrolled": false
   },
   "outputs": [],
   "source": [
    "# cria coluna Total para receber o total por competencia\n",
    "admissoes_pivot_df[\"Total\"] = 0\n",
    "for index in admissoes_pivot_df.index:\n",
    "    admissoes_pivot_df[\"Total\"][str(index)] = admissoes_pivot_df.sum(axis=1)[str(index)]\n",
    "    "
   ]
  },
  {
   "cell_type": "code",
   "execution_count": null,
   "metadata": {},
   "outputs": [],
   "source": [
    "# admissoes_pivot_df.columns"
   ]
  },
  {
   "cell_type": "code",
   "execution_count": null,
   "metadata": {},
   "outputs": [],
   "source": [
    "for column in admissoes_pivot_df.columns:\n",
    "    if column != \"Total\":\n",
    "        new_column = str(column + \" anos\")\n",
    "#         df.drop([new_column], axis=1, inplace=True)\n",
    "        admissoes_pivot_df[new_column] = round(admissoes_pivot_df[column] /  admissoes_pivot_df[\"Total\"] * 100,2)"
   ]
  },
  {
   "cell_type": "code",
   "execution_count": null,
   "metadata": {
    "scrolled": true
   },
   "outputs": [],
   "source": [
    "colunas_grafico = [column for column in admissoes_pivot_df.columns if ' anos' in column] \n",
    "admissoes_pivot_df[colunas_grafico]"
   ]
  },
  {
   "cell_type": "markdown",
   "metadata": {},
   "source": [
    "### Visual"
   ]
  },
  {
   "cell_type": "code",
   "execution_count": null,
   "metadata": {},
   "outputs": [],
   "source": [
    "fig, ax1 = plt.subplots()\n",
    "#ax1\n",
    "ax1_color = '#2f4b7c'\n",
    "ax1.set_title('ÍNDICE DE PESSOAS DEMITIDAS POR FAIXA ETÁRIA')\n",
    "ax1 = admissoes_pivot_df[\n",
    "    'Total'].plot(kind='area',\n",
    "                  alpha=0.2,\n",
    "                  color=ax1_color,\n",
    "                  figsize = (15,6),\n",
    "                  ylim=[admissoes_pivot_df['Total'].min()-200000, admissoes_pivot_df['Total'].max()+50000],\n",
    "                  ylabel='TOTAL GERAL',\n",
    "                  xlabel='COMPETÊNCIA'\n",
    "                 )\n",
    "\n",
    "ax1.tick_params(axis='y', labelcolor=ax1_color)\n",
    "ax1.ticklabel_format(axis='y',style='plain', ) \n",
    "ax1.get_yaxis().set_major_formatter(\n",
    "mpl.ticker.FuncFormatter(\n",
    "    lambda x, p: format(int(x), ',')))\n",
    "\n",
    "#ax2\n",
    "ax2_color = '#f95d6a'\n",
    "ax2 = ax1.twinx()\n",
    "ax2.tick_params(axis='y', labelcolor=ax2_color)\n",
    "admissoes_pivot_df[colunas_grafico].plot.bar(\n",
    "         width= 0.4,\n",
    "        grid = True,\n",
    "#         stacked=True,\n",
    "        ylabel='PORCENTAGEM',\n",
    "#          ylim=[0, 70],\n",
    "         ax=ax2\n",
    "    ).legend(\n",
    "    bbox_to_anchor=(1.2, .9), loc='lower right')\n"
   ]
  },
  {
   "cell_type": "code",
   "execution_count": null,
   "metadata": {
    "scrolled": true
   },
   "outputs": [],
   "source": [
    "admissoes_pivot_df.sum()[-7:].plot.pie(\n",
    "    autopct='%1.1f%%',\n",
    "    explode=(0.2, 0.2, 0.2, 0.2, 0.2, 0.2, 0.2),\n",
    "    title='ÍNDICE DE PESSOAS ADMITIDAS POR FAIXA ETÁRIA',\n",
    "    ylabel= 'Período de Pandemia'\n",
    ")"
   ]
  },
  {
   "cell_type": "markdown",
   "metadata": {},
   "source": [
    "### Demissões"
   ]
  },
  {
   "cell_type": "code",
   "execution_count": null,
   "metadata": {
    "scrolled": true
   },
   "outputs": [],
   "source": [
    "#cria pivot table para ter 'competencia' como index, e contar valores em 'idade'\n",
    "demissoes_pivot = pd.pivot_table(demissoes_df, \n",
    "                       columns=['Faixa Etária'], \n",
    "                       index=['competência'],\n",
    "                       values=['idade'],\n",
    "                       aggfunc='count'\n",
    "                      )\n",
    "demissoes_pivot"
   ]
  },
  {
   "cell_type": "code",
   "execution_count": null,
   "metadata": {},
   "outputs": [],
   "source": [
    "# converte indice para string para pontuar no eixo y\n",
    "demissoes_pivot.index = demissoes_pivot.index.map(str)"
   ]
  },
  {
   "cell_type": "code",
   "execution_count": null,
   "metadata": {
    "scrolled": true
   },
   "outputs": [],
   "source": [
    "# cria DF a partir da pivot table\n",
    "demissoes_pivot_df = pd.DataFrame(demissoes_pivot.to_records(), \n",
    "                  index=pivot.index\n",
    ")\n",
    "# limpa nome das colunas\n",
    "demissoes_pivot_df.columns = [hdr.replace(\"('idade', '\", \"\").replace(\"')\", \"\") \\\n",
    "                     for hdr in demissoes_pivot_df.columns]\n",
    "# elimina coluna adicional que foi utilizada como índice\n",
    "demissoes_pivot_df.drop(['competência'], axis=1, inplace=True)\n",
    "demissoes_pivot_df"
   ]
  },
  {
   "cell_type": "code",
   "execution_count": null,
   "metadata": {
    "scrolled": false
   },
   "outputs": [],
   "source": [
    "# cria coluna Total para receber o total por competencia\n",
    "demissoes_pivot_df[\"Total\"] = 0\n",
    "for index in demissoes_pivot_df.index:\n",
    "    demissoes_pivot_df[\"Total\"][str(index)] = demissoes_pivot_df.sum(axis=1)[str(index)]\n",
    "    "
   ]
  },
  {
   "cell_type": "code",
   "execution_count": null,
   "metadata": {},
   "outputs": [],
   "source": [
    "demissoes_pivot_df.columns"
   ]
  },
  {
   "cell_type": "code",
   "execution_count": null,
   "metadata": {},
   "outputs": [],
   "source": [
    "for column in demissoes_pivot_df.columns:\n",
    "    if column not in[\"Total\", \"Não informado\"]:\n",
    "        new_column = str(column + \" anos\")\n",
    "#         df.drop([new_column], axis=1, inplace=True)\n",
    "        demissoes_pivot_df[new_column] = round(demissoes_pivot_df[column] /  demissoes_pivot_df[\"Total\"] * 100,2)"
   ]
  },
  {
   "cell_type": "code",
   "execution_count": null,
   "metadata": {
    "scrolled": true
   },
   "outputs": [],
   "source": [
    "colunas_grafico_dem = [column for column in demissoes_pivot_df.columns if ' anos' in column] \n",
    "demissoes_pivot_df[colunas_grafico_dem]"
   ]
  },
  {
   "cell_type": "markdown",
   "metadata": {},
   "source": [
    "### Visual"
   ]
  },
  {
   "cell_type": "code",
   "execution_count": null,
   "metadata": {},
   "outputs": [],
   "source": [
    "fig, ax1 = plt.subplots()\n",
    "#ax1\n",
    "ax1_color = '#2f4b7c'\n",
    "ax1.set_title('ÍNDICE DE PESSOAS DEMITIDAS POR FAIXA ETÁRIA')\n",
    "ax1 = demissoes_pivot_df[\n",
    "    'Total'].plot(kind='area',\n",
    "                  alpha=0.2,\n",
    "                  color=ax1_color,\n",
    "                  figsize = (15,6),\n",
    "                  ylim=[demissoes_pivot_df['Total'].min()-200000, demissoes_pivot_df['Total'].max()+50000],\n",
    "                  ylabel='TOTAL GERAL',\n",
    "                  xlabel='COMPETÊNCIA'\n",
    "                 )\n",
    "\n",
    "ax1.tick_params(axis='y', labelcolor=ax1_color)\n",
    "ax1.ticklabel_format(axis='y',style='plain', ) \n",
    "ax1.get_yaxis().set_major_formatter(\n",
    "mpl.ticker.FuncFormatter(\n",
    "    lambda x, p: format(int(x), ',')))\n",
    "\n",
    "#ax2\n",
    "ax2_color = '#f95d6a'\n",
    "ax2 = ax1.twinx()\n",
    "ax2.tick_params(axis='y', labelcolor=ax2_color)\n",
    "demissoes_pivot_df[colunas_grafico_dem].plot.bar(\n",
    "         width= 0.4,\n",
    "        grid = True,\n",
    "#         stacked=True,\n",
    "        ylabel='PORCENTAGEM',\n",
    "#          ylim=[0, 70],\n",
    "         ax=ax2\n",
    "    ).legend(\n",
    "    bbox_to_anchor=(1.2, .9), loc='lower right')\n"
   ]
  },
  {
   "cell_type": "code",
   "execution_count": null,
   "metadata": {
    "scrolled": true
   },
   "outputs": [],
   "source": [
    "demissoes_pivot_df.sum()[-7:].plot.pie(\n",
    "    autopct='%1.1f%%',\n",
    "    explode=(0.2, 0.2, 0.2, 0.2, 0.2, 0.2, 0.2),\n",
    "    title='ÍNDICE DE PESSOAS DEMITIDAS POR FAIXA ETÁRIA',\n",
    "    ylabel= 'Período de Pandemia'\n",
    ")"
   ]
  }
 ],
 "metadata": {
  "kernelspec": {
   "display_name": "Python 3",
   "language": "python",
   "name": "python3"
  },
  "language_info": {
   "codemirror_mode": {
    "name": "ipython",
    "version": 3
   },
   "file_extension": ".py",
   "mimetype": "text/x-python",
   "name": "python",
   "nbconvert_exporter": "python",
   "pygments_lexer": "ipython3",
   "version": "3.7.3"
  }
 },
 "nbformat": 4,
 "nbformat_minor": 2
}
