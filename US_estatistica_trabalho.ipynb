{
 "cells": [
  {
   "cell_type": "markdown",
   "id": "above-object",
   "metadata": {},
   "source": [
    "## Projeto de Banco de Dados Não Estruturado\n",
    "#### Alunos: Wesley Vinicius da Silva, Maria Clara Oliveira.\n",
    "\n",
    "##### User stories:\n",
    "- Diferença salarial entre homens e mulheres admitides;\n",
    "- Diferença salarial entre homens e mulheres demitides;\n",
    "- Diferença de escolaridade entre homens e mulheres admitides;\n",
    "- Diferença de escolaridade entre homens e mulheres demitides;\n",
    "- Média salarial de homens e mulheres por regiões, e estados;\n",
    "- Diferença salarial por escolaridade e raça/cor;\n",
    "- Média salarial por raça/cor;\n",
    "- Diferença de escolaridade por raça/cor;\n",
    "- Diferença salarial entre pessoas com algum tipo de deficiência e pessoas sem deficiência;\n",
    "- Diferença entre a quantidade de trabalhadores intermitentes, parciais e efetivos.\n",
    "\n",
    "-------------"
   ]
  }
 ],
 "metadata": {
  "kernelspec": {
   "display_name": "Python 3",
   "language": "python",
   "name": "python3"
  },
  "language_info": {
   "codemirror_mode": {
    "name": "ipython",
    "version": 3
   },
   "file_extension": ".py",
   "mimetype": "text/x-python",
   "name": "python",
   "nbconvert_exporter": "python",
   "pygments_lexer": "ipython3",
   "version": "3.9.2"
  }
 },
 "nbformat": 4,
 "nbformat_minor": 5
}
