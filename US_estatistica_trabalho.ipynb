{
 "cells": [
  {
   "cell_type": "markdown",
   "id": "above-object",
   "metadata": {},
   "source": [
    "## Projeto de Banco de Dados Não Estruturado\n",
    "#### Alunos: Wesley Vinicius da Silva, Maria Clara Oliveira.\n",
    "\n",
    "##### User stories:\n",
    "- 1) Qual foi o índice de pessoas empregadas e desempregadas em certo período, categorizadas por: \n",
    "\t- Gênero \n",
    "\t- Classe social \n",
    "\t- Faixa Etária \n",
    "\t- Nível de escolaridade \n",
    "\t- Setores (Agronegócio, Indústria, Comércio, etc...)<br><br>\n",
    "- 2) Quais foram as estatísticas de consumo/gastos após o aumento ou diminuição do: \n",
    "\t- Emprego \n",
    "\t- Desemprego<br><br>\n",
    "- 3) Quero saber a quantidade de admissões/demissões por gênero no período da pandemia.<br><br>\n",
    "- 4) Quero saber a quantidade de demissões por tipo, tipo movimentação / demissão.\n",
    "\t- Diferença salarial entre homens e mulheres admitidos;\n",
    "    - Diferença salarial entre homens e mulheres demitidos;\n",
    "    - Média salarial por raça/cor;<br><br>\n",
    "- 5) Quero poder visualizar as causas de demissão formalizadas pelos empregadores distribuídas por sexo, raça/cor e faixa etária;<br><br>\n",
    "-------------"
   ]
  }
 ],
 "metadata": {
  "kernelspec": {
   "display_name": "Python 3",
   "language": "python",
   "name": "python3"
  },
  "language_info": {
   "codemirror_mode": {
    "name": "ipython",
    "version": 3
   },
   "file_extension": ".py",
   "mimetype": "text/x-python",
   "name": "python",
   "nbconvert_exporter": "python",
   "pygments_lexer": "ipython3",
   "version": "3.8.2"
  }
 },
 "nbformat": 4,
 "nbformat_minor": 5
}
