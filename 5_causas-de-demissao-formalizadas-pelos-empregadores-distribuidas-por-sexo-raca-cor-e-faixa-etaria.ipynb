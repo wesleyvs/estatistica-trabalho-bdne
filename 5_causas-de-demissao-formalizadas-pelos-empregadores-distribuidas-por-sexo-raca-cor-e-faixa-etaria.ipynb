{
 "cells": [
  {
   "cell_type": "code",
   "execution_count": 1,
   "id": "ba849124",
   "metadata": {},
   "outputs": [],
   "source": [
    "# ignora avisos\n",
    "import warnings\n",
    "warnings.filterwarnings('ignore')\n",
    "import pandas as pd\n",
    "import matplotlib.pyplot as plt\n",
    "from glob import glob\n",
    "import matplotlib as mpl\n",
    "import seaborn as sb\n",
    "import numpy as np"
   ]
  },
  {
   "cell_type": "code",
   "execution_count": 2,
   "id": "69d2ec47",
   "metadata": {},
   "outputs": [],
   "source": [
    "def plot(get_chart, xlabel=None, ylabel=None, title=None , figsize=(25,15)):\n",
    "    titledict = {'fontweight':'bold', 'fontsize': 40}\n",
    "    labeldict = {'fontsize': 40}\n",
    "    plt.figure(figsize = figsize)\n",
    "    ax = get_chart()\n",
    "    title and ax.set_title(title + \"\\n\", fontdict=titledict)\n",
    "    xlabel and ax.set_xlabel(xlabel, fontdict=labeldict)\n",
    "    xlabel and ax.set_ylabel(ylabel, fontdict=labeldict)\n",
    "    ax.ticklabel_format(axis='y',style='plain', )\n",
    "    plt.legend(bbox_to_anchor=(1.05, 1), loc='upper left', borderaxespad=0)\n",
    "    plt.setp(ax.get_legend().get_texts(), fontsize='40') # for legend text\n",
    "    ax.set_yscale(\"log\")\n",
    "    plt.show()"
   ]
  },
  {
   "cell_type": "code",
   "execution_count": 3,
   "id": "a59f51fe",
   "metadata": {},
   "outputs": [],
   "source": [
    "# lista de todos os arquivos\n",
    "caged_files = sorted(glob('CAGED_DATA/CAGEDMOV*.txt'))\n",
    "main_df = pd.concat((pd.read_csv(file, sep=';') for file in caged_files), ignore_index=True)"
   ]
  },
  {
   "cell_type": "code",
   "execution_count": 4,
   "id": "93133542",
   "metadata": {},
   "outputs": [
    {
     "data": {
      "text/plain": [
       "['CAGED_DATA\\\\CAGEDMOV202001.txt',\n",
       " 'CAGED_DATA\\\\CAGEDMOV202002.txt',\n",
       " 'CAGED_DATA\\\\CAGEDMOV202003.txt',\n",
       " 'CAGED_DATA\\\\CAGEDMOV202004.txt',\n",
       " 'CAGED_DATA\\\\CAGEDMOV202005.txt',\n",
       " 'CAGED_DATA\\\\CAGEDMOV202006.txt',\n",
       " 'CAGED_DATA\\\\CAGEDMOV202007.txt',\n",
       " 'CAGED_DATA\\\\CAGEDMOV202008.txt',\n",
       " 'CAGED_DATA\\\\CAGEDMOV202009.txt',\n",
       " 'CAGED_DATA\\\\CAGEDMOV202010.txt',\n",
       " 'CAGED_DATA\\\\CAGEDMOV202011.txt',\n",
       " 'CAGED_DATA\\\\CAGEDMOV202012.txt',\n",
       " 'CAGED_DATA\\\\CAGEDMOV202101.txt',\n",
       " 'CAGED_DATA\\\\CAGEDMOV202102.txt',\n",
       " 'CAGED_DATA\\\\CAGEDMOV202103.txt',\n",
       " 'CAGED_DATA\\\\CAGEDMOV202104.txt']"
      ]
     },
     "execution_count": 4,
     "metadata": {},
     "output_type": "execute_result"
    }
   ],
   "source": [
    "#Lista todos os arquivos carregados e concatenados no dataframe pandemia_df\n",
    "caged_files"
   ]
  },
  {
   "cell_type": "code",
   "execution_count": 5,
   "id": "134c1f50",
   "metadata": {},
   "outputs": [
    {
     "data": {
      "text/plain": [
       "Index(['competência', 'região', 'uf', 'município', 'seção', 'subclasse',\n",
       "       'saldomovimentação', 'categoria', 'cbo2002ocupação', 'graudeinstrução',\n",
       "       'idade', 'sexo', 'tipoempregador', 'tipoestabelecimento',\n",
       "       'tipomovimentação', 'indtrabintermitente', 'indtrabparcial', 'salário',\n",
       "       'horascontratuais', 'tipodedeficiência', 'raçacor', 'indicadoraprendiz',\n",
       "       'fonte', 'tamestabjan'],\n",
       "      dtype='object')"
      ]
     },
     "execution_count": 5,
     "metadata": {},
     "output_type": "execute_result"
    }
   ],
   "source": [
    "#Lista as colunas do dataframe\n",
    "main_df.columns"
   ]
  },
  {
   "cell_type": "code",
   "execution_count": 6,
   "id": "5e9b1c8e",
   "metadata": {},
   "outputs": [],
   "source": [
    "#Quero poder visualizar as causas de demissão formalizadas pelos empregadores distribuídas por sexo, raça/cor e faixa etária"
   ]
  },
  {
   "cell_type": "code",
   "execution_count": 7,
   "id": "612da09c",
   "metadata": {},
   "outputs": [],
   "source": [
    "main_df['Sexo']= main_df['sexo'].map({\n",
    "1:'Masculino',\n",
    "3:'Feminino',\n",
    "9:'Nao Identificado'})\n",
    "main_df['Raça'] = main_df['raçacor'].map({\n",
    "1:'Branca',\n",
    "2:'Preta',\n",
    "3:'Parda',\n",
    "4:'Amarela',\n",
    "5:'Indigena',\n",
    "6:'Nao Informada',\n",
    "9:'Nao Identificado'})\n",
    "main_df['Tipo de movimentação'] = main_df['tipomovimentação'].map({\n",
    "10:'Admissão por Primeiro Emprego',\n",
    "20:'Admissão por Reemprego', \n",
    "25:'Admissão por contrato trabalho prazo determinado',\n",
    "31:'Desligamento por Demissão sem Justa Causa', \n",
    "32:'Desligamento por Demissão com Justa Causa', \n",
    "33:'Culpa Recíproca',\n",
    "35:'Admissão por Reintegraçao', \n",
    "40:'Desligamento a Pedido',\n",
    "43:'Término contrato trabalho prazo determinado',\n",
    "45:'Desligamento por Término de Contrato',\n",
    "50:'Desligamento por Aposentadoria', \n",
    "60:'Desligamento por morte',\n",
    "70:'Admissão por Transferência', \n",
    "80:'Desligamento por Transferência', \n",
    "90:'Desliamento por Acordo Empregado e Empregador',\n",
    "98:'Desligamento de Tipo Ignorado',\n",
    "99:'Não Identificado'})"
   ]
  },
  {
   "cell_type": "code",
   "execution_count": 8,
   "id": "f0f9cba6",
   "metadata": {},
   "outputs": [],
   "source": [
    "conditions = [\n",
    "    (main_df['tipomovimentação'].isin([10,20,25,35,70])),\n",
    "    (main_df['tipomovimentação'].isin([31,32,33,40,43,45,50,60,80,90,98])),\n",
    "    (main_df['tipomovimentação'].isin([99]))\n",
    "    ]\n",
    "\n",
    "values = ['Admitido', 'Desligado', 'Não identificado']\n",
    "\n",
    "main_df['movimento'] = np.select(conditions, values)"
   ]
  },
  {
   "cell_type": "code",
   "execution_count": 9,
   "id": "7058afad",
   "metadata": {},
   "outputs": [],
   "source": [
    "conditions = [\n",
    "    (main_df['município'].isin([350250, 350315, 350350, 350410, 350490, 350710, 350760, 350850, 350860, 350970, 350995, 351050, 351340, 351360, 351840, 352020, 352040, 352440, 352490, 352550, 352630, 352660, 352720, 353170, 353230, 353240, 353560, 353800, 353850, 353860, 354075, 354190, 354230, 354430, 354600, 354820, 354860, 354960, 354990, 355000, 355070, 355200, 355410, 355480, 355540, 355635])),\n",
    "    ]\n",
    "\n",
    "values = ['1']\n",
    "\n",
    "main_df['municipio_vanguarda'] = np.select(conditions, values)"
   ]
  },
  {
   "cell_type": "code",
   "execution_count": null,
   "id": "79d4ec32",
   "metadata": {},
   "outputs": [],
   "source": [
    "desligamento_df = main_df[main_df['movimento']=='Desligado']\n",
    "desligamento_df = desligamento_df[desligamento_df['Raça']!='Nao Informada']\n",
    "desligamento_df = desligamento_df[desligamento_df['Raça']!='Nao Identificado']\n",
    "desligamento_vanguarda_df = desligamento_df[desligamento_df['municipio_vanguarda']=='1']"
   ]
  },
  {
   "cell_type": "code",
   "execution_count": null,
   "id": "90d1bd76",
   "metadata": {},
   "outputs": [],
   "source": [
    "sb.set(font_scale=3)\n",
    "plot(\n",
    "    lambda: sb.countplot(hue='Tipo de movimentação', x='Sexo',data = desligamento_vanguarda_df, palette='tab10'),\n",
    "    title=\"Causas de demissões formalizadas pelos empregadores distribuídas por sexo\",\n",
    "    xlabel=\"Sexo\",\n",
    "    ylabel=\"Número de pessoas\",\n",
    ")"
   ]
  },
  {
   "cell_type": "code",
   "execution_count": null,
   "id": "d9c12dbd",
   "metadata": {},
   "outputs": [],
   "source": [
    "sb.set(font_scale=3)\n",
    "plot(\n",
    "    lambda: sb.countplot(hue='Tipo de movimentação', x='Raça',data = desligamento_vanguarda_df, palette='tab10'),\n",
    "    title=\"Causas de demissão formalizadas pelos empregadores distribuídas por raça/cor\",\n",
    "    xlabel=\"Raça/cor\",\n",
    "    ylabel=\"Número de pessoas\"\n",
    ")"
   ]
  },
  {
   "cell_type": "code",
   "execution_count": null,
   "id": "4c087f12",
   "metadata": {},
   "outputs": [],
   "source": [
    "conditions = [\n",
    "    (desligamento_vanguarda_df['idade'] == 0),\n",
    "    ((desligamento_vanguarda_df['idade'] > 0) & (desligamento_vanguarda_df['idade'] <= 19)),\n",
    "    ((desligamento_vanguarda_df['idade'] >= 20) & (desligamento_vanguarda_df['idade'] <= 59)),\n",
    "    (desligamento_vanguarda_df['idade'] >= 60)\n",
    "    ]\n",
    "\n",
    "values = ['Não identificado','Jovem', 'Adulto', 'Idoso']\n",
    "\n",
    "desligamento_vanguarda_df['faixa_etaria'] = np.select(conditions, values)"
   ]
  },
  {
   "cell_type": "code",
   "execution_count": null,
   "id": "fc1686b4",
   "metadata": {},
   "outputs": [],
   "source": [
    "sb.set(font_scale=3)\n",
    "plot(\n",
    "    lambda: sb.countplot(hue='Tipo de movimentação', x='faixa_etaria',data = desligamento_vanguarda_df, palette='tab10'),\n",
    "    title=\"Causas de demissão formalizadas pelos empregadores distribuídas por faixa etária\",\n",
    "    xlabel=\"Faixa Etária\",\n",
    "    ylabel=\"Número de pessoas\",\n",
    ")"
   ]
  }
 ],
 "metadata": {
  "kernelspec": {
   "display_name": "Python 3",
   "language": "python",
   "name": "python3"
  },
  "language_info": {
   "codemirror_mode": {
    "name": "ipython",
    "version": 3
   },
   "file_extension": ".py",
   "mimetype": "text/x-python",
   "name": "python",
   "nbconvert_exporter": "python",
   "pygments_lexer": "ipython3",
   "version": "3.8.2"
  }
 },
 "nbformat": 4,
 "nbformat_minor": 5
}
