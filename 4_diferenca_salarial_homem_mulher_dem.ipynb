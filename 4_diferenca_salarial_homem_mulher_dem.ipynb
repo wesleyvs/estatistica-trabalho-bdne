{
 "cells": [
  {
   "cell_type": "code",
   "execution_count": 1,
   "id": "62bd4afd",
   "metadata": {},
   "outputs": [],
   "source": [
    "# 4)\n",
    "# c) Diferença salarial entre homens e mulheres demitidos;"
   ]
  },
  {
   "cell_type": "code",
   "execution_count": 2,
   "id": "6ba768b5",
   "metadata": {},
   "outputs": [],
   "source": [
    "import pandas as pd\n",
    "import matplotlib.pyplot as plt\n",
    "from glob import glob\n",
    "import matplotlib as mpl\n",
    "import seaborn as sb"
   ]
  },
  {
   "cell_type": "code",
   "execution_count": 3,
   "id": "64c03e34",
   "metadata": {},
   "outputs": [],
   "source": [
    "sb.set(style=\"whitegrid\")"
   ]
  },
  {
   "cell_type": "code",
   "execution_count": 4,
   "id": "af4662ee",
   "metadata": {},
   "outputs": [],
   "source": [
    "#lista de todos os arquivos\n",
    "caged_files = sorted(glob('..\\DadosCaged\\CAGEDMOV*.txt'))\n",
    "main_df = pd.concat((pd.read_csv(file, sep=';') for file in caged_files), ignore_index=True)"
   ]
  },
  {
   "cell_type": "code",
   "execution_count": 5,
   "id": "5048e199",
   "metadata": {},
   "outputs": [
    {
     "data": {
      "text/plain": [
       "['..\\\\DadosCaged\\\\CAGEDMOV202001.txt',\n",
       " '..\\\\DadosCaged\\\\CAGEDMOV202002.txt',\n",
       " '..\\\\DadosCaged\\\\CAGEDMOV202003.txt',\n",
       " '..\\\\DadosCaged\\\\CAGEDMOV202004.txt',\n",
       " '..\\\\DadosCaged\\\\CAGEDMOV202005.txt',\n",
       " '..\\\\DadosCaged\\\\CAGEDMOV202006.txt',\n",
       " '..\\\\DadosCaged\\\\CAGEDMOV202007.txt',\n",
       " '..\\\\DadosCaged\\\\CAGEDMOV202008.txt',\n",
       " '..\\\\DadosCaged\\\\CAGEDMOV202009.txt',\n",
       " '..\\\\DadosCaged\\\\CAGEDMOV202010.txt',\n",
       " '..\\\\DadosCaged\\\\CAGEDMOV202011.txt',\n",
       " '..\\\\DadosCaged\\\\CAGEDMOV202012.txt',\n",
       " '..\\\\DadosCaged\\\\CAGEDMOV202101.txt',\n",
       " '..\\\\DadosCaged\\\\CAGEDMOV202102.txt',\n",
       " '..\\\\DadosCaged\\\\CAGEDMOV202103.txt']"
      ]
     },
     "execution_count": 5,
     "metadata": {},
     "output_type": "execute_result"
    }
   ],
   "source": [
    "#Lista todos os arquivos carregados e concatenados no dataframe pandemia_df\n",
    "caged_files"
   ]
  },
  {
   "cell_type": "code",
   "execution_count": 6,
   "id": "147455f0",
   "metadata": {},
   "outputs": [
    {
     "data": {
      "text/plain": [
       "Index(['competência', 'região', 'uf', 'município', 'seção', 'subclasse',\n",
       "       'saldomovimentação', 'cbo2002ocupação', 'categoria', 'graudeinstrução',\n",
       "       'idade', 'horascontratuais', 'raçacor', 'sexo', 'tipoempregador',\n",
       "       'tipoestabelecimento', 'tipomovimentação', 'tipodedeficiência',\n",
       "       'indtrabintermitente', 'indtrabparcial', 'salário', 'tamestabjan',\n",
       "       'indicadoraprendiz', 'fonte'],\n",
       "      dtype='object')"
      ]
     },
     "execution_count": 6,
     "metadata": {},
     "output_type": "execute_result"
    }
   ],
   "source": [
    "#Lista as colunas do dataframe\n",
    "main_df.columns"
   ]
  },
  {
   "cell_type": "code",
   "execution_count": 7,
   "id": "a174d0e5",
   "metadata": {},
   "outputs": [],
   "source": [
    "#Alteração dos valores numéricos para valores legíveis.\n",
    "sex = {1: 'Homem',3 :'Mulher', 9: 'Nao Identificado'}\n",
    "saldomovimentacao = {1: 'admissao', -1: 'demissao'}"
   ]
  },
  {
   "cell_type": "code",
   "execution_count": 8,
   "id": "0569d154",
   "metadata": {},
   "outputs": [],
   "source": [
    "#Aplicação dos dics criados para deixar os dados mais legíveis\n",
    "main_df['sexo'] = main_df['sexo'].apply(lambda x: sex[x])\n",
    "main_df['saldomovimentação'] = main_df['saldomovimentação'].apply(lambda x: saldomovimentacao[x])"
   ]
  },
  {
   "cell_type": "code",
   "execution_count": 9,
   "id": "fd4aa652",
   "metadata": {},
   "outputs": [],
   "source": [
    "demissoes = main_df['saldomovimentação'] == \"demissao\"\n",
    "demissoes_df = main_df[demissoes]"
   ]
  },
  {
   "cell_type": "code",
   "execution_count": 10,
   "id": "8d9097bb",
   "metadata": {},
   "outputs": [
    {
     "data": {
      "text/plain": [
       "Homem     24430359\n",
       "Mulher    15264029\n",
       "Name: sexo, dtype: int64"
      ]
     },
     "execution_count": 10,
     "metadata": {},
     "output_type": "execute_result"
    }
   ],
   "source": [
    "#Quantidade de registros sem o filtro de demissão\n",
    "main_df['sexo'].value_counts()"
   ]
  },
  {
   "cell_type": "code",
   "execution_count": 11,
   "id": "40492563",
   "metadata": {},
   "outputs": [
    {
     "data": {
      "text/plain": [
       "Homem     11867392\n",
       "Mulher     7517373\n",
       "Name: sexo, dtype: int64"
      ]
     },
     "execution_count": 11,
     "metadata": {},
     "output_type": "execute_result"
    }
   ],
   "source": [
    "#Quantidade de registros com o filtro de demissão\n",
    "demissoes_df['sexo'].value_counts()"
   ]
  },
  {
   "cell_type": "code",
   "execution_count": 12,
   "id": "91137dc0",
   "metadata": {},
   "outputs": [],
   "source": [
    "homens= demissoes_df['sexo'] == \"Homem\"\n",
    "homens_demitidos_df = demissoes_df[homens]\n",
    "\n",
    "mulheres= demissoes_df['sexo'] == \"Mulher\"\n",
    "mulheres_demitidas_df = demissoes_df[mulheres]"
   ]
  },
  {
   "cell_type": "code",
   "execution_count": 13,
   "id": "24dc39a8",
   "metadata": {},
   "outputs": [],
   "source": [
    "quantidade_mulheres = mulheres_demitidas_df['sexo'].value_counts()\n",
    "quantidade_homens = homens_demitidos_df['sexo'].value_counts()"
   ]
  },
  {
   "cell_type": "code",
   "execution_count": 14,
   "id": "12bc9105",
   "metadata": {},
   "outputs": [],
   "source": [
    "#Total do salário de cada gênero:\n",
    "salario_homens_dem = homens_demitidos_df['salário'].sum().round(2)\n",
    "salario_mulheres_dem = mulheres_demitidas_df['salário'].sum().round(2)"
   ]
  },
  {
   "cell_type": "code",
   "execution_count": 15,
   "id": "dfe542b4",
   "metadata": {},
   "outputs": [],
   "source": [
    "media_sal_homem = salario_homens_dem / quantidade_homens[0]\n",
    "media_sal_homem = round(media_sal_homem, 2)"
   ]
  },
  {
   "cell_type": "code",
   "execution_count": 16,
   "id": "8834fe22",
   "metadata": {},
   "outputs": [],
   "source": [
    "media_sal_mulher = salario_mulheres_dem / quantidade_mulheres[0]\n",
    "media_sal_mulher = round(media_sal_mulher, 2)"
   ]
  },
  {
   "cell_type": "code",
   "execution_count": 17,
   "id": "dddfbd5f",
   "metadata": {},
   "outputs": [
    {
     "name": "stdout",
     "output_type": "stream",
     "text": [
      "Média salarial (Homem): R$ 8474.45\n",
      "Média salarial (Mulher): R$ 3744.5\n",
      "Diferença salarial: R$ 4729.95\n"
     ]
    }
   ],
   "source": [
    "#Diferença salarial entre homens e mulheres demitidos:\n",
    "print('Média salarial (Homem): R$', media_sal_homem)\n",
    "print('Média salarial (Mulher): R$', media_sal_mulher)\n",
    "print('Diferença salarial: R$', round((media_sal_homem - media_sal_mulher), 2))"
   ]
  },
  {
   "cell_type": "code",
   "execution_count": 18,
   "id": "13cf7654",
   "metadata": {},
   "outputs": [
    {
     "data": {
      "text/html": [
       "<div>\n",
       "<style scoped>\n",
       "    .dataframe tbody tr th:only-of-type {\n",
       "        vertical-align: middle;\n",
       "    }\n",
       "\n",
       "    .dataframe tbody tr th {\n",
       "        vertical-align: top;\n",
       "    }\n",
       "\n",
       "    .dataframe thead th {\n",
       "        text-align: right;\n",
       "    }\n",
       "</style>\n",
       "<table border=\"1\" class=\"dataframe\">\n",
       "  <thead>\n",
       "    <tr style=\"text-align: right;\">\n",
       "      <th></th>\n",
       "      <th>Média Salarial</th>\n",
       "      <th>Gênero</th>\n",
       "      <th>Diferença Salarial</th>\n",
       "    </tr>\n",
       "  </thead>\n",
       "  <tbody>\n",
       "    <tr>\n",
       "      <th>0</th>\n",
       "      <td>3744.50</td>\n",
       "      <td>Mulher</td>\n",
       "      <td>-4729.95</td>\n",
       "    </tr>\n",
       "    <tr>\n",
       "      <th>1</th>\n",
       "      <td>8474.45</td>\n",
       "      <td>Homem</td>\n",
       "      <td>4729.95</td>\n",
       "    </tr>\n",
       "  </tbody>\n",
       "</table>\n",
       "</div>"
      ],
      "text/plain": [
       "   Média Salarial  Gênero  Diferença Salarial\n",
       "0         3744.50  Mulher            -4729.95\n",
       "1         8474.45   Homem             4729.95"
      ]
     },
     "execution_count": 18,
     "metadata": {},
     "output_type": "execute_result"
    }
   ],
   "source": [
    "dif_salarial_df = {'Média Salarial':  [media_sal_mulher, media_sal_homem],\n",
    "                   'Gênero': ['Mulher', 'Homem'],\n",
    "        'Diferença Salarial': [round((media_sal_mulher - media_sal_homem), 2), round((media_sal_homem - media_sal_mulher), 2)]}\n",
    "\n",
    "dif_salarial_df = pd.DataFrame (dif_salarial_df, columns = ['Média Salarial','Gênero','Diferença Salarial'])\n",
    "\n",
    "dif_salarial_df"
   ]
  },
  {
   "cell_type": "code",
   "execution_count": 19,
   "id": "e18cf3e7",
   "metadata": {},
   "outputs": [
    {
     "data": {
      "image/png": "[encoded data removed]",
      "text/plain": [
       "<Figure size 432x288 with 1 Axes>"
      ]
     },
     "metadata": {},
     "output_type": "display_data"
    }
   ],
   "source": [
    "fig_dims = (6, 4)\n",
    "fig, ax = plt.subplots(figsize=fig_dims)\n",
    "ax = sb.barplot(x=dif_salarial_df['Gênero'], \n",
    "                y=dif_salarial_df['Média Salarial'], \n",
    "                data=dif_salarial_df, \n",
    "                dodge=False, \n",
    "                palette='husl',\n",
    "                hue=dif_salarial_df['Gênero'])\n",
    "ax.set_title(\"Diferença Salarial entre homens e mulheres demitidos\\n\\n\", fontsize = 20)\n",
    "ax.text(x=0.5,\n",
    "        y=1.03,\n",
    "        s='Média salarial(homens):' +\n",
    "            str(media_sal_homem) +\n",
    "            ' | Média salarial(Mulheres):' +\n",
    "            str(media_sal_mulher) +\n",
    "            ' | Diferença salarial: ' +\n",
    "            str(round((media_sal_homem - media_sal_mulher), 2)),\n",
    "        fontsize=14,\n",
    "        ha='center',\n",
    "        va='bottom',\n",
    "        transform=ax.transAxes)\n",
    "ax.set_xlabel(\"\\nGênero\\n\", fontsize = 14)\n",
    "ax.set_ylabel(\"\\nMédia Salarial\\n\", fontsize = 14)\n",
    "\n",
    "def change_width(ax, new_value) :\n",
    "    for patch in ax.patches :\n",
    "        current_width = patch.get_width()\n",
    "        diff = current_width - new_value\n",
    "\n",
    "        # we change the bar width\n",
    "        patch.set_width(new_value)\n",
    "\n",
    "        # we recenter the bar\n",
    "        patch.set_x(patch.get_x() + diff * .5)\n",
    "\n",
    "change_width(ax, .20)"
   ]
  }
 ],
 "metadata": {
  "kernelspec": {
   "display_name": "Python 3",
   "language": "python",
   "name": "python3"
  },
  "language_info": {
   "codemirror_mode": {
    "name": "ipython",
    "version": 3
   },
   "file_extension": ".py",
   "mimetype": "text/x-python",
   "name": "python",
   "nbconvert_exporter": "python",
   "pygments_lexer": "ipython3",
   "version": "3.8.2"
  }
 },
 "nbformat": 4,
 "nbformat_minor": 5
}
