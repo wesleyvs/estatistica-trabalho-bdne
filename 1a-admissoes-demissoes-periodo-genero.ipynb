{
 "cells": [
  {
   "cell_type": "code",
   "execution_count": 1,
   "metadata": {},
   "outputs": [
    {
     "name": "stderr",
     "output_type": "stream",
     "text": [
      "/Users/mariaclara1985/.pyenv/versions/3.7.3/lib/python3.7/site-packages/pandas/compat/__init__.py:97: UserWarning: Could not import the lzma module. Your installed Python is incomplete. Attempting to use lzma compression will result in a RuntimeError.\n",
      "  warnings.warn(msg)\n"
     ]
    }
   ],
   "source": [
    "import pandas as pd\n",
    "import matplotlib.pyplot as plt\n",
    "import matplotlib as mpl\n",
    "from glob import glob \n",
    "import numpy as np\n",
    "import seaborn as sb"
   ]
  },
  {
   "cell_type": "code",
   "execution_count": 2,
   "metadata": {},
   "outputs": [],
   "source": [
    "# lista de todos os arquivos\n",
    "caged_files = sorted(glob('teste/CAGEDMOV*.txt'))\n",
    "# concatena os arquivos\n",
    "pandemia_df = pd.concat((pd.read_csv(file, sep=';') for file in caged_files), ignore_index=True)"
   ]
  },
  {
   "cell_type": "code",
   "execution_count": 3,
   "metadata": {},
   "outputs": [
    {
     "data": {
      "text/plain": [
       "Index(['competência', 'região', 'uf', 'município', 'seção', 'subclasse',\n",
       "       'saldomovimentação', 'cbo2002ocupação', 'categoria', 'graudeinstrução',\n",
       "       'idade', 'horascontratuais', 'raçacor', 'sexo', 'tipoempregador',\n",
       "       'tipoestabelecimento', 'tipomovimentação', 'tipodedeficiência',\n",
       "       'indtrabintermitente', 'indtrabparcial', 'salário', 'tamestabjan',\n",
       "       'indicadoraprendiz', 'fonte'],\n",
       "      dtype='object')"
      ]
     },
     "execution_count": 3,
     "metadata": {},
     "output_type": "execute_result"
    }
   ],
   "source": [
    "pandemia_df.columns"
   ]
  },
  {
   "cell_type": "code",
   "execution_count": 4,
   "metadata": {},
   "outputs": [
    {
     "data": {
      "text/plain": [
       "['teste/CAGEDMOV202101.txt',\n",
       " 'teste/CAGEDMOV202102.txt',\n",
       " 'teste/CAGEDMOV202103.txt']"
      ]
     },
     "execution_count": 4,
     "metadata": {},
     "output_type": "execute_result"
    }
   ],
   "source": [
    "caged_files"
   ]
  },
  {
   "cell_type": "code",
   "execution_count": 5,
   "metadata": {},
   "outputs": [
    {
     "name": "stdout",
     "output_type": "stream",
     "text": [
      "data competencia: [202101 202102 202103] \n",
      "data sexo: [1 3] \n",
      "data movimentacao: [-1  1] \n",
      "data seção: ['A' 'B' 'C' 'D' 'E' 'F' 'G' 'H' 'I' 'J' 'K' 'L' 'M' 'N' 'O' 'P' 'Q' 'R'\n",
      " 'S' 'T' 'U' 'Z'] \n",
      "data graudeinstrução: [ 1  2  3  4  5  6  7  8  9 10 11 80]\n"
     ]
    }
   ],
   "source": [
    "print('data competencia:', pandemia_df['competência'].value_counts().sort_index().index.values,\n",
    "      '\\ndata sexo:', pandemia_df['sexo'].value_counts().sort_index().index.values,\n",
    "      '\\ndata movimentacao:', pandemia_df['saldomovimentação'].value_counts().sort_index().index.values,\n",
    "      '\\ndata seção:', pandemia_df['seção'].value_counts().sort_index().index.values,\n",
    "      '\\ndata graudeinstrução:', pandemia_df['graudeinstrução'].value_counts().sort_index().index.values)"
   ]
  },
  {
   "cell_type": "code",
   "execution_count": 6,
   "metadata": {},
   "outputs": [
    {
     "data": {
      "text/html": [
       "<div>\n",
       "<style scoped>\n",
       "    .dataframe tbody tr th:only-of-type {\n",
       "        vertical-align: middle;\n",
       "    }\n",
       "\n",
       "    .dataframe tbody tr th {\n",
       "        vertical-align: top;\n",
       "    }\n",
       "\n",
       "    .dataframe thead th {\n",
       "        text-align: right;\n",
       "    }\n",
       "</style>\n",
       "<table border=\"1\" class=\"dataframe\">\n",
       "  <thead>\n",
       "    <tr style=\"text-align: right;\">\n",
       "      <th></th>\n",
       "      <th>competência</th>\n",
       "      <th>sexo</th>\n",
       "      <th>saldomovimentação</th>\n",
       "      <th>graudeinstrução</th>\n",
       "      <th>seção</th>\n",
       "    </tr>\n",
       "  </thead>\n",
       "  <tbody>\n",
       "    <tr>\n",
       "      <th>0</th>\n",
       "      <td>202101</td>\n",
       "      <td>1</td>\n",
       "      <td>1</td>\n",
       "      <td>7</td>\n",
       "      <td>C</td>\n",
       "    </tr>\n",
       "    <tr>\n",
       "      <th>1</th>\n",
       "      <td>202101</td>\n",
       "      <td>3</td>\n",
       "      <td>-1</td>\n",
       "      <td>9</td>\n",
       "      <td>N</td>\n",
       "    </tr>\n",
       "    <tr>\n",
       "      <th>2</th>\n",
       "      <td>202101</td>\n",
       "      <td>1</td>\n",
       "      <td>-1</td>\n",
       "      <td>7</td>\n",
       "      <td>C</td>\n",
       "    </tr>\n",
       "    <tr>\n",
       "      <th>3</th>\n",
       "      <td>202101</td>\n",
       "      <td>3</td>\n",
       "      <td>-1</td>\n",
       "      <td>7</td>\n",
       "      <td>N</td>\n",
       "    </tr>\n",
       "    <tr>\n",
       "      <th>4</th>\n",
       "      <td>202101</td>\n",
       "      <td>3</td>\n",
       "      <td>1</td>\n",
       "      <td>7</td>\n",
       "      <td>C</td>\n",
       "    </tr>\n",
       "  </tbody>\n",
       "</table>\n",
       "</div>"
      ],
      "text/plain": [
       "   competência  sexo  saldomovimentação  graudeinstrução seção\n",
       "0       202101     1                  1                7     C\n",
       "1       202101     3                 -1                9     N\n",
       "2       202101     1                 -1                7     C\n",
       "3       202101     3                 -1                7     N\n",
       "4       202101     3                  1                7     C"
      ]
     },
     "execution_count": 6,
     "metadata": {},
     "output_type": "execute_result"
    }
   ],
   "source": [
    "questao01_df = pandemia_df[['competência','sexo', 'saldomovimentação', 'graudeinstrução', 'seção']]\n",
    "questao01_df.head()"
   ]
  },
  {
   "cell_type": "code",
   "execution_count": 7,
   "metadata": {},
   "outputs": [],
   "source": [
    "competencia = {\n",
    "    202101: 'jan/2021',\n",
    "    202102: 'fev/2021',\n",
    "    202103: 'mar/2021'\n",
    "}\n",
    "\n",
    "sexo = {\n",
    "    1: 'homem',\n",
    "    3: 'mulher'\n",
    "}\n",
    "saldomovimentacao = {\n",
    "    1: 'admissao',\n",
    "    -1: 'demissao'\n",
    "}\n",
    "\n",
    "graudeinstrucao = {\n",
    "    1: 'Analfabeto',\n",
    "    2: 'Até 5ª Incompleto',\n",
    "    3: '5ª Completo Fundamental',\n",
    "    4: '6ª a 9ª Fundamental',\n",
    "    5: 'Fundamental Completo',\n",
    "    6: 'Médio Incompleto',\n",
    "    7: 'Médio Completo',\n",
    "    8: 'Superior Incompleto',\n",
    "    9: 'Superior Completo',\n",
    "    10: 'Mestrado',\n",
    "    11: 'Doutorado',\n",
    "    12: 'Verificar 12',\n",
    "    13: 'Verificar 1',\n",
    "    80: 'Pós-Graduação completa',\n",
    "    99: 'Não Identificado'\n",
    "}\n",
    "\n",
    "secao = {\n",
    "    'A': 'Agricultura, Pecuária, Produção Florestal, Pesca e AqÜIcultura',\n",
    "    'B': 'Indústrias Extrativas',\n",
    "    'C': 'Indústrias de Transformação',\n",
    "    'D': 'Eletricidade e Gás',\n",
    "    'E': 'Água, Esgoto, Atividades de Gestão de Resíduos e Descontaminação',\n",
    "    'F': 'Construção',\n",
    "    'G': 'Comércio, Reparação de Veículos Automotores e Motocicletas',\n",
    "    'H': 'Transporte, Armazenagem e Correio',\n",
    "    'I': 'Alojamento e Alimentação',\n",
    "    'J': 'Informação e Comunicação',\n",
    "    'K': 'Atividades Financeiras, de Seguros e Serviços Relacionados',\n",
    "    'L': 'Atividades Imobiliárias',\n",
    "    'M': 'Atividades Profissionais, Científicas e Técnicas',\n",
    "    'N': 'Atividades Administrativas e Serviços Complementares',\n",
    "    'O': 'Administração Pública, Defesa e Seguridade Social',\n",
    "    'P': 'Educação',\n",
    "    'Q': 'Saúde Humana e Serviços Sociais',\n",
    "    'R': 'Artes, Cultura, Esporte e Recreação',\n",
    "    'S': 'Outras Atividades de Serviços',\n",
    "    'T': 'Serviços Domésticos',\n",
    "    'U': 'Organismos Internacionais e Outras Instituições Extraterritoriais',\n",
    "    'Z': 'Não identificado'\n",
    "}\n",
    "\n"
   ]
  },
  {
   "cell_type": "code",
   "execution_count": 8,
   "metadata": {},
   "outputs": [
    {
     "name": "stderr",
     "output_type": "stream",
     "text": [
      "/Users/mariaclara1985/.pyenv/versions/3.7.3/lib/python3.7/site-packages/ipykernel_launcher.py:2: SettingWithCopyWarning: \n",
      "A value is trying to be set on a copy of a slice from a DataFrame.\n",
      "Try using .loc[row_indexer,col_indexer] = value instead\n",
      "\n",
      "See the caveats in the documentation: https://pandas.pydata.org/pandas-docs/stable/user_guide/indexing.html#returning-a-view-versus-a-copy\n",
      "  \n",
      "/Users/mariaclara1985/.pyenv/versions/3.7.3/lib/python3.7/site-packages/ipykernel_launcher.py:3: SettingWithCopyWarning: \n",
      "A value is trying to be set on a copy of a slice from a DataFrame.\n",
      "Try using .loc[row_indexer,col_indexer] = value instead\n",
      "\n",
      "See the caveats in the documentation: https://pandas.pydata.org/pandas-docs/stable/user_guide/indexing.html#returning-a-view-versus-a-copy\n",
      "  This is separate from the ipykernel package so we can avoid doing imports until\n",
      "/Users/mariaclara1985/.pyenv/versions/3.7.3/lib/python3.7/site-packages/ipykernel_launcher.py:4: SettingWithCopyWarning: \n",
      "A value is trying to be set on a copy of a slice from a DataFrame.\n",
      "Try using .loc[row_indexer,col_indexer] = value instead\n",
      "\n",
      "See the caveats in the documentation: https://pandas.pydata.org/pandas-docs/stable/user_guide/indexing.html#returning-a-view-versus-a-copy\n",
      "  after removing the cwd from sys.path.\n",
      "/Users/mariaclara1985/.pyenv/versions/3.7.3/lib/python3.7/site-packages/ipykernel_launcher.py:5: SettingWithCopyWarning: \n",
      "A value is trying to be set on a copy of a slice from a DataFrame.\n",
      "Try using .loc[row_indexer,col_indexer] = value instead\n",
      "\n",
      "See the caveats in the documentation: https://pandas.pydata.org/pandas-docs/stable/user_guide/indexing.html#returning-a-view-versus-a-copy\n",
      "  \"\"\"\n"
     ]
    }
   ],
   "source": [
    "# Substituição dos magic numbers relevantes\n",
    "questao01_df['graudeinstrução'] = questao01_df['graudeinstrução'].apply(lambda x: graudeinstrucao[x])\n",
    "questao01_df['seção'] = questao01_df['seção'].apply(lambda x: secao[x])\n",
    "questao01_df['sexo'] = questao01_df['sexo'].apply(lambda x: sexo[x])\n",
    "questao01_df['saldomovimentação'] = questao01_df['saldomovimentação'].apply(lambda x: saldomovimentacao[x])"
   ]
  },
  {
   "cell_type": "code",
   "execution_count": 9,
   "metadata": {},
   "outputs": [
    {
     "data": {
      "text/html": [
       "<div>\n",
       "<style scoped>\n",
       "    .dataframe tbody tr th:only-of-type {\n",
       "        vertical-align: middle;\n",
       "    }\n",
       "\n",
       "    .dataframe tbody tr th {\n",
       "        vertical-align: top;\n",
       "    }\n",
       "\n",
       "    .dataframe thead th {\n",
       "        text-align: right;\n",
       "    }\n",
       "</style>\n",
       "<table border=\"1\" class=\"dataframe\">\n",
       "  <thead>\n",
       "    <tr style=\"text-align: right;\">\n",
       "      <th></th>\n",
       "      <th>competência</th>\n",
       "      <th>sexo</th>\n",
       "      <th>saldomovimentação</th>\n",
       "      <th>graudeinstrução</th>\n",
       "      <th>seção</th>\n",
       "    </tr>\n",
       "  </thead>\n",
       "  <tbody>\n",
       "    <tr>\n",
       "      <th>0</th>\n",
       "      <td>202101</td>\n",
       "      <td>homem</td>\n",
       "      <td>admissao</td>\n",
       "      <td>Médio Completo</td>\n",
       "      <td>Indústrias de Transformação</td>\n",
       "    </tr>\n",
       "    <tr>\n",
       "      <th>1</th>\n",
       "      <td>202101</td>\n",
       "      <td>mulher</td>\n",
       "      <td>demissao</td>\n",
       "      <td>Superior Completo</td>\n",
       "      <td>Atividades Administrativas e Serviços Compleme...</td>\n",
       "    </tr>\n",
       "    <tr>\n",
       "      <th>2</th>\n",
       "      <td>202101</td>\n",
       "      <td>homem</td>\n",
       "      <td>demissao</td>\n",
       "      <td>Médio Completo</td>\n",
       "      <td>Indústrias de Transformação</td>\n",
       "    </tr>\n",
       "    <tr>\n",
       "      <th>3</th>\n",
       "      <td>202101</td>\n",
       "      <td>mulher</td>\n",
       "      <td>demissao</td>\n",
       "      <td>Médio Completo</td>\n",
       "      <td>Atividades Administrativas e Serviços Compleme...</td>\n",
       "    </tr>\n",
       "    <tr>\n",
       "      <th>4</th>\n",
       "      <td>202101</td>\n",
       "      <td>mulher</td>\n",
       "      <td>admissao</td>\n",
       "      <td>Médio Completo</td>\n",
       "      <td>Indústrias de Transformação</td>\n",
       "    </tr>\n",
       "  </tbody>\n",
       "</table>\n",
       "</div>"
      ],
      "text/plain": [
       "   competência    sexo saldomovimentação    graudeinstrução  \\\n",
       "0       202101   homem          admissao     Médio Completo   \n",
       "1       202101  mulher          demissao  Superior Completo   \n",
       "2       202101   homem          demissao     Médio Completo   \n",
       "3       202101  mulher          demissao     Médio Completo   \n",
       "4       202101  mulher          admissao     Médio Completo   \n",
       "\n",
       "                                               seção  \n",
       "0                        Indústrias de Transformação  \n",
       "1  Atividades Administrativas e Serviços Compleme...  \n",
       "2                        Indústrias de Transformação  \n",
       "3  Atividades Administrativas e Serviços Compleme...  \n",
       "4                        Indústrias de Transformação  "
      ]
     },
     "execution_count": 9,
     "metadata": {},
     "output_type": "execute_result"
    }
   ],
   "source": [
    "questao01_df.head()"
   ]
  },
  {
   "cell_type": "code",
   "execution_count": 10,
   "metadata": {},
   "outputs": [
    {
     "data": {
      "text/plain": [
       "competência  sexo    saldomovimentação  graudeinstrução          seção                                                           \n",
       "202101       homem   admissao           5ª Completo Fundamental  Administração Pública, Defesa e Seguridade Social                     32\n",
       "                                                                 Agricultura, Pecuária, Produção Florestal, Pesca e AqÜIcultura      7195\n",
       "                                                                 Alojamento e Alimentação                                             303\n",
       "                                                                 Artes, Cultura, Esporte e Recreação                                   29\n",
       "                                                                 Atividades Administrativas e Serviços Complementares                1361\n",
       "                                                                                                                                     ... \n",
       "202103       mulher  demissao           Superior Incompleto      Outras Atividades de Serviços                                        995\n",
       "                                                                 Saúde Humana e Serviços Sociais                                     2447\n",
       "                                                                 Serviços Domésticos                                                    1\n",
       "                                                                 Transporte, Armazenagem e Correio                                    760\n",
       "                                                                 Água, Esgoto, Atividades de Gestão de Resíduos e Descontaminação      44\n",
       "Length: 2863, dtype: int64"
      ]
     },
     "execution_count": 10,
     "metadata": {},
     "output_type": "execute_result"
    }
   ],
   "source": [
    "questao01_df.value_counts().sort_index()"
   ]
  },
  {
   "cell_type": "code",
   "execution_count": 11,
   "metadata": {},
   "outputs": [
    {
     "data": {
      "text/html": [
       "<div>\n",
       "<style scoped>\n",
       "    .dataframe tbody tr th:only-of-type {\n",
       "        vertical-align: middle;\n",
       "    }\n",
       "\n",
       "    .dataframe tbody tr th {\n",
       "        vertical-align: top;\n",
       "    }\n",
       "\n",
       "    .dataframe thead th {\n",
       "        text-align: right;\n",
       "    }\n",
       "</style>\n",
       "<table border=\"1\" class=\"dataframe\">\n",
       "  <thead>\n",
       "    <tr style=\"text-align: right;\">\n",
       "      <th></th>\n",
       "      <th>competência</th>\n",
       "      <th>sexo</th>\n",
       "      <th>saldomovimentação</th>\n",
       "      <th>graudeinstrução</th>\n",
       "      <th>seção</th>\n",
       "    </tr>\n",
       "  </thead>\n",
       "  <tbody>\n",
       "    <tr>\n",
       "      <th>4720159</th>\n",
       "      <td>202102</td>\n",
       "      <td>homem</td>\n",
       "      <td>admissao</td>\n",
       "      <td>Pós-Graduação completa</td>\n",
       "      <td>Serviços Domésticos</td>\n",
       "    </tr>\n",
       "    <tr>\n",
       "      <th>5541397</th>\n",
       "      <td>202102</td>\n",
       "      <td>mulher</td>\n",
       "      <td>admissao</td>\n",
       "      <td>Pós-Graduação completa</td>\n",
       "      <td>Serviços Domésticos</td>\n",
       "    </tr>\n",
       "    <tr>\n",
       "      <th>7882219</th>\n",
       "      <td>202103</td>\n",
       "      <td>mulher</td>\n",
       "      <td>admissao</td>\n",
       "      <td>Pós-Graduação completa</td>\n",
       "      <td>Serviços Domésticos</td>\n",
       "    </tr>\n",
       "    <tr>\n",
       "      <th>8192549</th>\n",
       "      <td>202103</td>\n",
       "      <td>mulher</td>\n",
       "      <td>demissao</td>\n",
       "      <td>Pós-Graduação completa</td>\n",
       "      <td>Serviços Domésticos</td>\n",
       "    </tr>\n",
       "  </tbody>\n",
       "</table>\n",
       "</div>"
      ],
      "text/plain": [
       "         competência    sexo saldomovimentação         graudeinstrução  \\\n",
       "4720159       202102   homem          admissao  Pós-Graduação completa   \n",
       "5541397       202102  mulher          admissao  Pós-Graduação completa   \n",
       "7882219       202103  mulher          admissao  Pós-Graduação completa   \n",
       "8192549       202103  mulher          demissao  Pós-Graduação completa   \n",
       "\n",
       "                       seção  \n",
       "4720159  Serviços Domésticos  \n",
       "5541397  Serviços Domésticos  \n",
       "7882219  Serviços Domésticos  \n",
       "8192549  Serviços Domésticos  "
      ]
     },
     "execution_count": 11,
     "metadata": {},
     "output_type": "execute_result"
    }
   ],
   "source": [
    "# servicos domesticos com pos-graduacao completa\n",
    "\n",
    "grau80 = questao01_df['graudeinstrução']=='Pós-Graduação completa'\n",
    "secaoT = questao01_df['seção']=='Serviços Domésticos'\n",
    "\n",
    "questao01_df[grau80 & secaoT]"
   ]
  },
  {
   "cell_type": "markdown",
   "metadata": {},
   "source": [
    "# 1 – Qual foi o índice de pessoas empregadas e desempregadas em certo período, categorizadas por:\n",
    "data['saldomovimentação'].value_counts().sort_index()\n",
    "\n",
    "-1    1292965\n",
    " 1    1694604\n",
    "\n",
    "Name: saldomovimentação, dtype: int64\n"
   ]
  },
  {
   "cell_type": "code",
   "execution_count": 12,
   "metadata": {},
   "outputs": [],
   "source": [
    "admissoes = questao01_df['saldomovimentação'] == \"admissao\"\n",
    "demissoes = questao01_df['saldomovimentação'] == \"demissao\""
   ]
  },
  {
   "cell_type": "code",
   "execution_count": 13,
   "metadata": {
    "scrolled": false
   },
   "outputs": [
    {
     "data": {
      "text/html": [
       "<div>\n",
       "<style scoped>\n",
       "    .dataframe tbody tr th:only-of-type {\n",
       "        vertical-align: middle;\n",
       "    }\n",
       "\n",
       "    .dataframe tbody tr th {\n",
       "        vertical-align: top;\n",
       "    }\n",
       "\n",
       "    .dataframe thead th {\n",
       "        text-align: right;\n",
       "    }\n",
       "</style>\n",
       "<table border=\"1\" class=\"dataframe\">\n",
       "  <thead>\n",
       "    <tr style=\"text-align: right;\">\n",
       "      <th></th>\n",
       "      <th>competência</th>\n",
       "      <th>sexo</th>\n",
       "      <th>saldomovimentação</th>\n",
       "      <th>graudeinstrução</th>\n",
       "      <th>seção</th>\n",
       "    </tr>\n",
       "  </thead>\n",
       "  <tbody>\n",
       "    <tr>\n",
       "      <th>0</th>\n",
       "      <td>202101</td>\n",
       "      <td>homem</td>\n",
       "      <td>admissao</td>\n",
       "      <td>Médio Completo</td>\n",
       "      <td>Indústrias de Transformação</td>\n",
       "    </tr>\n",
       "    <tr>\n",
       "      <th>4</th>\n",
       "      <td>202101</td>\n",
       "      <td>mulher</td>\n",
       "      <td>admissao</td>\n",
       "      <td>Médio Completo</td>\n",
       "      <td>Indústrias de Transformação</td>\n",
       "    </tr>\n",
       "    <tr>\n",
       "      <th>5</th>\n",
       "      <td>202101</td>\n",
       "      <td>homem</td>\n",
       "      <td>admissao</td>\n",
       "      <td>Médio Completo</td>\n",
       "      <td>Construção</td>\n",
       "    </tr>\n",
       "    <tr>\n",
       "      <th>7</th>\n",
       "      <td>202101</td>\n",
       "      <td>homem</td>\n",
       "      <td>admissao</td>\n",
       "      <td>Analfabeto</td>\n",
       "      <td>Agricultura, Pecuária, Produção Florestal, Pes...</td>\n",
       "    </tr>\n",
       "    <tr>\n",
       "      <th>10</th>\n",
       "      <td>202101</td>\n",
       "      <td>mulher</td>\n",
       "      <td>admissao</td>\n",
       "      <td>Médio Completo</td>\n",
       "      <td>Comércio, Reparação de Veículos Automotores e ...</td>\n",
       "    </tr>\n",
       "  </tbody>\n",
       "</table>\n",
       "</div>"
      ],
      "text/plain": [
       "    competência    sexo saldomovimentação graudeinstrução  \\\n",
       "0        202101   homem          admissao  Médio Completo   \n",
       "4        202101  mulher          admissao  Médio Completo   \n",
       "5        202101   homem          admissao  Médio Completo   \n",
       "7        202101   homem          admissao      Analfabeto   \n",
       "10       202101  mulher          admissao  Médio Completo   \n",
       "\n",
       "                                                seção  \n",
       "0                         Indústrias de Transformação  \n",
       "4                         Indústrias de Transformação  \n",
       "5                                          Construção  \n",
       "7   Agricultura, Pecuária, Produção Florestal, Pes...  \n",
       "10  Comércio, Reparação de Veículos Automotores e ...  "
      ]
     },
     "execution_count": 13,
     "metadata": {},
     "output_type": "execute_result"
    }
   ],
   "source": [
    "admissoes_df = questao01_df[admissoes]\n",
    "admissoes_df.head()"
   ]
  },
  {
   "cell_type": "code",
   "execution_count": 14,
   "metadata": {
    "scrolled": false
   },
   "outputs": [
    {
     "data": {
      "text/html": [
       "<div>\n",
       "<style scoped>\n",
       "    .dataframe tbody tr th:only-of-type {\n",
       "        vertical-align: middle;\n",
       "    }\n",
       "\n",
       "    .dataframe tbody tr th {\n",
       "        vertical-align: top;\n",
       "    }\n",
       "\n",
       "    .dataframe thead th {\n",
       "        text-align: right;\n",
       "    }\n",
       "</style>\n",
       "<table border=\"1\" class=\"dataframe\">\n",
       "  <thead>\n",
       "    <tr style=\"text-align: right;\">\n",
       "      <th></th>\n",
       "      <th>competência</th>\n",
       "      <th>sexo</th>\n",
       "      <th>saldomovimentação</th>\n",
       "      <th>graudeinstrução</th>\n",
       "      <th>seção</th>\n",
       "    </tr>\n",
       "  </thead>\n",
       "  <tbody>\n",
       "    <tr>\n",
       "      <th>1</th>\n",
       "      <td>202101</td>\n",
       "      <td>mulher</td>\n",
       "      <td>demissao</td>\n",
       "      <td>Superior Completo</td>\n",
       "      <td>Atividades Administrativas e Serviços Compleme...</td>\n",
       "    </tr>\n",
       "    <tr>\n",
       "      <th>2</th>\n",
       "      <td>202101</td>\n",
       "      <td>homem</td>\n",
       "      <td>demissao</td>\n",
       "      <td>Médio Completo</td>\n",
       "      <td>Indústrias de Transformação</td>\n",
       "    </tr>\n",
       "    <tr>\n",
       "      <th>3</th>\n",
       "      <td>202101</td>\n",
       "      <td>mulher</td>\n",
       "      <td>demissao</td>\n",
       "      <td>Médio Completo</td>\n",
       "      <td>Atividades Administrativas e Serviços Compleme...</td>\n",
       "    </tr>\n",
       "    <tr>\n",
       "      <th>6</th>\n",
       "      <td>202101</td>\n",
       "      <td>mulher</td>\n",
       "      <td>demissao</td>\n",
       "      <td>Médio Completo</td>\n",
       "      <td>Comércio, Reparação de Veículos Automotores e ...</td>\n",
       "    </tr>\n",
       "    <tr>\n",
       "      <th>8</th>\n",
       "      <td>202101</td>\n",
       "      <td>homem</td>\n",
       "      <td>demissao</td>\n",
       "      <td>Médio Completo</td>\n",
       "      <td>Comércio, Reparação de Veículos Automotores e ...</td>\n",
       "    </tr>\n",
       "  </tbody>\n",
       "</table>\n",
       "</div>"
      ],
      "text/plain": [
       "   competência    sexo saldomovimentação    graudeinstrução  \\\n",
       "1       202101  mulher          demissao  Superior Completo   \n",
       "2       202101   homem          demissao     Médio Completo   \n",
       "3       202101  mulher          demissao     Médio Completo   \n",
       "6       202101  mulher          demissao     Médio Completo   \n",
       "8       202101   homem          demissao     Médio Completo   \n",
       "\n",
       "                                               seção  \n",
       "1  Atividades Administrativas e Serviços Compleme...  \n",
       "2                        Indústrias de Transformação  \n",
       "3  Atividades Administrativas e Serviços Compleme...  \n",
       "6  Comércio, Reparação de Veículos Automotores e ...  \n",
       "8  Comércio, Reparação de Veículos Automotores e ...  "
      ]
     },
     "execution_count": 14,
     "metadata": {},
     "output_type": "execute_result"
    }
   ],
   "source": [
    "demissoes_df = questao01_df[demissoes]\n",
    "demissoes_df.head()"
   ]
  },
  {
   "cell_type": "code",
   "execution_count": 15,
   "metadata": {
    "scrolled": false
   },
   "outputs": [],
   "source": [
    "# admissoes_df['sexo'].sum()"
   ]
  },
  {
   "cell_type": "code",
   "execution_count": 16,
   "metadata": {
    "scrolled": false
   },
   "outputs": [
    {
     "data": {
      "text/plain": [
       "competência  sexo  \n",
       "202101       homem      932560\n",
       "             mulher     594523\n",
       "202102       homem     1012750\n",
       "             mulher     681854\n",
       "202103       homem      988324\n",
       "             mulher     619683\n",
       "dtype: int64"
      ]
     },
     "execution_count": 16,
     "metadata": {},
     "output_type": "execute_result"
    }
   ],
   "source": [
    "admissoes_df[['competência', 'sexo']].value_counts().sort_index()"
   ]
  },
  {
   "cell_type": "markdown",
   "metadata": {},
   "source": [
    "## - Gênero"
   ]
  },
  {
   "cell_type": "markdown",
   "metadata": {},
   "source": [
    "### Admissões"
   ]
  },
  {
   "cell_type": "code",
   "execution_count": 17,
   "metadata": {
    "scrolled": false
   },
   "outputs": [
    {
     "data": {
      "text/plain": [
       "Int64Index([202101, 202102, 202103], dtype='int64')"
      ]
     },
     "execution_count": 17,
     "metadata": {},
     "output_type": "execute_result"
    }
   ],
   "source": [
    "admissoes_df['competência'].value_counts().sort_index().index"
   ]
  },
  {
   "cell_type": "code",
   "execution_count": 18,
   "metadata": {
    "scrolled": false
   },
   "outputs": [],
   "source": [
    "mulher = admissoes_df['sexo'] == 'mulher'"
   ]
  },
  {
   "cell_type": "code",
   "execution_count": 19,
   "metadata": {
    "scrolled": false
   },
   "outputs": [],
   "source": [
    "homem = admissoes_df['sexo'] == 'homem'"
   ]
  },
  {
   "cell_type": "code",
   "execution_count": 20,
   "metadata": {
    "scrolled": false
   },
   "outputs": [
    {
     "data": {
      "text/plain": [
       "Int64Index([202101, 202102, 202103], dtype='int64')"
      ]
     },
     "execution_count": 20,
     "metadata": {},
     "output_type": "execute_result"
    }
   ],
   "source": [
    "admissoes_df['competência'][mulher].value_counts().sort_index().index"
   ]
  },
  {
   "cell_type": "code",
   "execution_count": 21,
   "metadata": {
    "scrolled": true
   },
   "outputs": [
    {
     "data": {
      "text/plain": [
       "array([594523, 681854, 619683])"
      ]
     },
     "execution_count": 21,
     "metadata": {},
     "output_type": "execute_result"
    }
   ],
   "source": [
    "admissoes_mulher = admissoes_df['competência'][mulher].value_counts().sort_index().values\n",
    "admissoes_mulher"
   ]
  },
  {
   "cell_type": "code",
   "execution_count": 22,
   "metadata": {
    "scrolled": true
   },
   "outputs": [
    {
     "data": {
      "text/plain": [
       "Int64Index([202101, 202102, 202103], dtype='int64')"
      ]
     },
     "execution_count": 22,
     "metadata": {},
     "output_type": "execute_result"
    }
   ],
   "source": [
    "admissoes_df['competência'][homem].value_counts().sort_index().index"
   ]
  },
  {
   "cell_type": "code",
   "execution_count": 23,
   "metadata": {
    "scrolled": true
   },
   "outputs": [
    {
     "data": {
      "text/plain": [
       "array([ 932560, 1012750,  988324])"
      ]
     },
     "execution_count": 23,
     "metadata": {},
     "output_type": "execute_result"
    }
   ],
   "source": [
    "admissoes_homem = admissoes_df['competência'][homem].value_counts().sort_index().values\n",
    "admissoes_homem"
   ]
  },
  {
   "cell_type": "code",
   "execution_count": 24,
   "metadata": {},
   "outputs": [
    {
     "data": {
      "text/plain": [
       "array([1527083, 1694604, 1608007])"
      ]
     },
     "execution_count": 24,
     "metadata": {},
     "output_type": "execute_result"
    }
   ],
   "source": [
    "total_admissoes_df = admissoes_df['competência'].value_counts().sort_index().values\n",
    "total_admissoes_df"
   ]
  },
  {
   "cell_type": "code",
   "execution_count": 25,
   "metadata": {},
   "outputs": [],
   "source": [
    "index_admissoes_df = admissoes_df['competência'].value_counts().sort_index().index"
   ]
  },
  {
   "cell_type": "code",
   "execution_count": 26,
   "metadata": {
    "scrolled": true
   },
   "outputs": [],
   "source": [
    "admissoes_sexo = {\n",
    "    'Mulheres': admissoes_mulher,\n",
    "    'Homens': admissoes_homem,\n",
    "    'Total': total_admissoes_df\n",
    "    }\n",
    "admissoes_sexo_df = pd.DataFrame(admissoes_sexo, index = index_admissoes_df)"
   ]
  },
  {
   "cell_type": "code",
   "execution_count": 27,
   "metadata": {},
   "outputs": [],
   "source": [
    "admissoes_sexo_df['Mulheres %'] = round(admissoes_sexo_df['Mulheres'] / admissoes_sexo_df['Total'] * 100,2)\n",
    "admissoes_sexo_df['Homens %'] = round(admissoes_sexo_df['Homens'] / admissoes_sexo_df['Total'] * 100,2)"
   ]
  },
  {
   "cell_type": "code",
   "execution_count": 28,
   "metadata": {},
   "outputs": [
    {
     "data": {
      "text/html": [
       "<div>\n",
       "<style scoped>\n",
       "    .dataframe tbody tr th:only-of-type {\n",
       "        vertical-align: middle;\n",
       "    }\n",
       "\n",
       "    .dataframe tbody tr th {\n",
       "        vertical-align: top;\n",
       "    }\n",
       "\n",
       "    .dataframe thead th {\n",
       "        text-align: right;\n",
       "    }\n",
       "</style>\n",
       "<table border=\"1\" class=\"dataframe\">\n",
       "  <thead>\n",
       "    <tr style=\"text-align: right;\">\n",
       "      <th></th>\n",
       "      <th>Mulheres</th>\n",
       "      <th>Homens</th>\n",
       "      <th>Total</th>\n",
       "      <th>Mulheres %</th>\n",
       "      <th>Homens %</th>\n",
       "    </tr>\n",
       "  </thead>\n",
       "  <tbody>\n",
       "    <tr>\n",
       "      <th>202101</th>\n",
       "      <td>594523</td>\n",
       "      <td>932560</td>\n",
       "      <td>1527083</td>\n",
       "      <td>38.93</td>\n",
       "      <td>61.07</td>\n",
       "    </tr>\n",
       "    <tr>\n",
       "      <th>202102</th>\n",
       "      <td>681854</td>\n",
       "      <td>1012750</td>\n",
       "      <td>1694604</td>\n",
       "      <td>40.24</td>\n",
       "      <td>59.76</td>\n",
       "    </tr>\n",
       "    <tr>\n",
       "      <th>202103</th>\n",
       "      <td>619683</td>\n",
       "      <td>988324</td>\n",
       "      <td>1608007</td>\n",
       "      <td>38.54</td>\n",
       "      <td>61.46</td>\n",
       "    </tr>\n",
       "  </tbody>\n",
       "</table>\n",
       "</div>"
      ],
      "text/plain": [
       "        Mulheres   Homens    Total  Mulheres %  Homens %\n",
       "202101    594523   932560  1527083       38.93     61.07\n",
       "202102    681854  1012750  1694604       40.24     59.76\n",
       "202103    619683   988324  1608007       38.54     61.46"
      ]
     },
     "execution_count": 28,
     "metadata": {},
     "output_type": "execute_result"
    }
   ],
   "source": [
    "admissoes_sexo_df"
   ]
  },
  {
   "cell_type": "code",
   "execution_count": 29,
   "metadata": {},
   "outputs": [
    {
     "name": "stdout",
     "output_type": "stream",
     "text": [
      "% de mulheres admitidas:  39 %\n",
      "% de homens admitidos:  61 %\n"
     ]
    }
   ],
   "source": [
    "print(\"% de mulheres admitidas: \", round(admissoes_sexo_df['Mulheres'].sum() / admissoes_sexo_df['Total'].sum()*100), \"%\" \\\n",
    "      \"\\n% de homens admitidos: \", round(admissoes_sexo_df['Homens'].sum() / admissoes_sexo_df['Total'].sum()*100), \"%\")\n"
   ]
  },
  {
   "cell_type": "markdown",
   "metadata": {},
   "source": [
    "### Visual"
   ]
  },
  {
   "cell_type": "code",
   "execution_count": 30,
   "metadata": {},
   "outputs": [],
   "source": [
    "# converte indice para string para pontuar no eixo y\n",
    "admissoes_sexo_df.index = admissoes_sexo_df.index.map(str)"
   ]
  },
  {
   "cell_type": "code",
   "execution_count": 31,
   "metadata": {},
   "outputs": [
    {
     "data": {
      "text/plain": [
       "<matplotlib.legend.Legend at 0x11e643b38>"
      ]
     },
     "execution_count": 31,
     "metadata": {},
     "output_type": "execute_result"
    },
    {
     "data": {
      "image/png": "[encoded data removed]",
      "text/plain": [
       "<Figure size 1080x432 with 2 Axes>"
      ]
     },
     "metadata": {},
     "output_type": "display_data"
    }
   ],
   "source": [
    "fig, ax1 = plt.subplots()\n",
    "#ax1\n",
    "ax1_color = '#2f4b7c'\n",
    "ax1.set_title('ÍNDICE DE PESSOAS DEMITIDAS POR GÊNERO')\n",
    "ax1 = admissoes_sexo_df[\n",
    "    'Total'].plot(kind='area', \\\n",
    "                  alpha=0.2,\\\n",
    "                  color=ax1_color, \\\n",
    "                  figsize = (15,6), \\\n",
    "                  ylim=[admissoes_sexo_df['Total'].min()-200000, admissoes_sexo_df['Total'].max()+50000],\n",
    "                  ylabel='TOTAL GERAL',\n",
    "                  xlabel='COMPETÊNCIA'\n",
    "                 )\n",
    "\n",
    "ax1.tick_params(axis='y', labelcolor=ax1_color)\n",
    "ax1.ticklabel_format(axis='y',style='plain', ) \n",
    "ax1.get_yaxis().set_major_formatter(\n",
    "mpl.ticker.FuncFormatter(\n",
    "    lambda x, p: format(int(x), ',')))\n",
    "\n",
    "#ax2\n",
    "ax2_color = '#f95d6a'\n",
    "ax2 = ax1.twinx()\n",
    "ax2.tick_params(axis='y', labelcolor=ax2_color)\n",
    "admissoes_sexo_df[\n",
    "    ['Mulheres %', 'Homens %']].plot.bar( \\\n",
    "         width= 0.4, \\\n",
    "        stacked=True,\n",
    "        ylabel='PORCENTAGEM',\n",
    "#          ylim=[0, 70],\n",
    "         ax=ax2).legend(\n",
    "    bbox_to_anchor=(1.2, .9), loc='lower right')\n",
    "\n",
    "# fig.tight_layout()  # otherwise the right y-label is slightly clipped\n",
    "\n"
   ]
  },
  {
   "cell_type": "code",
   "execution_count": 56,
   "metadata": {
    "scrolled": true
   },
   "outputs": [
    {
     "data": {
      "text/plain": [
       "<AxesSubplot:title={'center':'ÍNDICE DE PESSOAS ADMITIDAS POR GÊNERO'}, ylabel='Período de Pandemia'>"
      ]
     },
     "execution_count": 56,
     "metadata": {},
     "output_type": "execute_result"
    },
    {
     "data": {
      "image/png": "[encoded data removed]",
      "text/plain": [
       "<Figure size 432x288 with 1 Axes>"
      ]
     },
     "metadata": {},
     "output_type": "display_data"
    }
   ],
   "source": [
    "admissoes_sexo_df.sum()[0:2].plot.pie(\n",
    "    autopct='%1.1f%%',\n",
    "    explode=(0, 0.01),\n",
    "    title='ÍNDICE DE PESSOAS ADMITIDAS POR GÊNERO',\n",
    "    ylabel= 'Período de Pandemia'\n",
    ")"
   ]
  },
  {
   "cell_type": "markdown",
   "metadata": {},
   "source": [
    "### Demissões"
   ]
  },
  {
   "cell_type": "code",
   "execution_count": 38,
   "metadata": {
    "scrolled": true
   },
   "outputs": [
    {
     "data": {
      "text/plain": [
       "competência  sexo  \n",
       "202101       homem     762001\n",
       "             mulher    504729\n",
       "202102       homem     789586\n",
       "             mulher    503379\n",
       "202103       homem     878359\n",
       "             mulher    545508\n",
       "dtype: int64"
      ]
     },
     "execution_count": 38,
     "metadata": {},
     "output_type": "execute_result"
    }
   ],
   "source": [
    "demissoes_df[['competência', 'sexo']].value_counts().sort_index()"
   ]
  },
  {
   "cell_type": "code",
   "execution_count": 39,
   "metadata": {
    "scrolled": false
   },
   "outputs": [],
   "source": [
    "mulher = demissoes_df['sexo'] == 'mulher'"
   ]
  },
  {
   "cell_type": "code",
   "execution_count": 40,
   "metadata": {
    "scrolled": false
   },
   "outputs": [],
   "source": [
    "homem = demissoes_df['sexo'] == 'homem'"
   ]
  },
  {
   "cell_type": "code",
   "execution_count": 41,
   "metadata": {
    "scrolled": false
   },
   "outputs": [
    {
     "data": {
      "text/plain": [
       "Int64Index([202101, 202102, 202103], dtype='int64')"
      ]
     },
     "execution_count": 41,
     "metadata": {},
     "output_type": "execute_result"
    }
   ],
   "source": [
    "index_demissoes_df = demissoes_df['competência'].value_counts().sort_index().index\n",
    "index_demissoes_df"
   ]
  },
  {
   "cell_type": "code",
   "execution_count": 42,
   "metadata": {
    "scrolled": true
   },
   "outputs": [
    {
     "data": {
      "text/plain": [
       "array([504729, 503379, 545508])"
      ]
     },
     "execution_count": 42,
     "metadata": {},
     "output_type": "execute_result"
    }
   ],
   "source": [
    "demissoes_mulher = demissoes_df['competência'][mulher].value_counts().sort_index().values\n",
    "demissoes_mulher"
   ]
  },
  {
   "cell_type": "code",
   "execution_count": 43,
   "metadata": {
    "scrolled": true
   },
   "outputs": [
    {
     "data": {
      "text/plain": [
       "array([762001, 789586, 878359])"
      ]
     },
     "execution_count": 43,
     "metadata": {},
     "output_type": "execute_result"
    }
   ],
   "source": [
    "demissoes_homem = demissoes_df['competência'][homem].value_counts().sort_index().values\n",
    "demissoes_homem"
   ]
  },
  {
   "cell_type": "code",
   "execution_count": 44,
   "metadata": {},
   "outputs": [
    {
     "data": {
      "text/plain": [
       "array([1266730, 1292965, 1423867])"
      ]
     },
     "execution_count": 44,
     "metadata": {},
     "output_type": "execute_result"
    }
   ],
   "source": [
    "total_demissoes_df = demissoes_df['competência'].value_counts().sort_index().values\n",
    "total_demissoes_df"
   ]
  },
  {
   "cell_type": "code",
   "execution_count": 45,
   "metadata": {
    "scrolled": true
   },
   "outputs": [],
   "source": [
    "demissoes_sexo = {\n",
    "    'Mulheres': demissoes_mulher,\n",
    "    'Homens': demissoes_homem,\n",
    "    'Total': total_demissoes_df\n",
    "    }\n",
    "demissoes_sexo_df = pd.DataFrame(demissoes_sexo, index = index_demissoes_df)"
   ]
  },
  {
   "cell_type": "code",
   "execution_count": 46,
   "metadata": {},
   "outputs": [],
   "source": [
    "demissoes_sexo_df['Mulheres %'] = round(demissoes_sexo_df['Mulheres'] / demissoes_sexo_df['Total'] * 100,2)\n",
    "demissoes_sexo_df['Homens %'] = round(demissoes_sexo_df['Homens'] / demissoes_sexo_df['Total'] * 100,2)"
   ]
  },
  {
   "cell_type": "code",
   "execution_count": 47,
   "metadata": {},
   "outputs": [
    {
     "data": {
      "text/html": [
       "<div>\n",
       "<style scoped>\n",
       "    .dataframe tbody tr th:only-of-type {\n",
       "        vertical-align: middle;\n",
       "    }\n",
       "\n",
       "    .dataframe tbody tr th {\n",
       "        vertical-align: top;\n",
       "    }\n",
       "\n",
       "    .dataframe thead th {\n",
       "        text-align: right;\n",
       "    }\n",
       "</style>\n",
       "<table border=\"1\" class=\"dataframe\">\n",
       "  <thead>\n",
       "    <tr style=\"text-align: right;\">\n",
       "      <th></th>\n",
       "      <th>Mulheres</th>\n",
       "      <th>Homens</th>\n",
       "      <th>Total</th>\n",
       "      <th>Mulheres %</th>\n",
       "      <th>Homens %</th>\n",
       "    </tr>\n",
       "  </thead>\n",
       "  <tbody>\n",
       "    <tr>\n",
       "      <th>202101</th>\n",
       "      <td>504729</td>\n",
       "      <td>762001</td>\n",
       "      <td>1266730</td>\n",
       "      <td>39.85</td>\n",
       "      <td>60.15</td>\n",
       "    </tr>\n",
       "    <tr>\n",
       "      <th>202102</th>\n",
       "      <td>503379</td>\n",
       "      <td>789586</td>\n",
       "      <td>1292965</td>\n",
       "      <td>38.93</td>\n",
       "      <td>61.07</td>\n",
       "    </tr>\n",
       "    <tr>\n",
       "      <th>202103</th>\n",
       "      <td>545508</td>\n",
       "      <td>878359</td>\n",
       "      <td>1423867</td>\n",
       "      <td>38.31</td>\n",
       "      <td>61.69</td>\n",
       "    </tr>\n",
       "  </tbody>\n",
       "</table>\n",
       "</div>"
      ],
      "text/plain": [
       "        Mulheres  Homens    Total  Mulheres %  Homens %\n",
       "202101    504729  762001  1266730       39.85     60.15\n",
       "202102    503379  789586  1292965       38.93     61.07\n",
       "202103    545508  878359  1423867       38.31     61.69"
      ]
     },
     "execution_count": 47,
     "metadata": {},
     "output_type": "execute_result"
    }
   ],
   "source": [
    "demissoes_sexo_df"
   ]
  },
  {
   "cell_type": "code",
   "execution_count": 48,
   "metadata": {
    "scrolled": true
   },
   "outputs": [
    {
     "name": "stdout",
     "output_type": "stream",
     "text": [
      "% de mulheres demitidas:  39 %\n",
      "% de homens demitidos:  61 %\n"
     ]
    }
   ],
   "source": [
    "print(\"% de mulheres demitidas: \", round(demissoes_sexo_df['Mulheres'].sum() / demissoes_sexo_df['Total'].sum()*100), \"%\" \\\n",
    "      \"\\n% de homens demitidos: \", round(demissoes_sexo_df['Homens'].sum() / demissoes_sexo_df['Total'].sum()*100), \"%\")\n"
   ]
  },
  {
   "cell_type": "markdown",
   "metadata": {},
   "source": [
    "### Visual"
   ]
  },
  {
   "cell_type": "code",
   "execution_count": 49,
   "metadata": {},
   "outputs": [],
   "source": [
    "# converte indice para string para pontuar no eixo y\n",
    "demissoes_sexo_df.index = demissoes_sexo_df.index.map(str)"
   ]
  },
  {
   "cell_type": "code",
   "execution_count": 50,
   "metadata": {},
   "outputs": [
    {
     "data": {
      "text/plain": [
       "<matplotlib.legend.Legend at 0x11e90b668>"
      ]
     },
     "execution_count": 50,
     "metadata": {},
     "output_type": "execute_result"
    },
    {
     "data": {
      "image/png": "[encoded data removed]",
      "text/plain": [
       "<Figure size 1080x432 with 2 Axes>"
      ]
     },
     "metadata": {},
     "output_type": "display_data"
    }
   ],
   "source": [
    "fig, ax1 = plt.subplots()\n",
    "#ax1\n",
    "ax1_color = '#2f4b7c'\n",
    "ax1.set_title('ÍNDICE DE PESSOAS DEMITIDAS POR GÊNERO')\n",
    "ax1 = demissoes_sexo_df[\n",
    "    'Total'].plot(kind='area', \\\n",
    "                  alpha=0.2,\\\n",
    "                  color=ax1_color, \\\n",
    "                  figsize = (15,6), \\\n",
    "                  ylim=[demissoes_sexo_df['Total'].min()-200000, demissoes_sexo_df['Total'].max()+50000],\n",
    "                  ylabel='TOTAL GERAL',\n",
    "                  xlabel='COMPETÊNCIA'\n",
    "                 )\n",
    "\n",
    "ax1.tick_params(axis='y', labelcolor=ax1_color)\n",
    "ax1.ticklabel_format(axis='y',style='plain', ) \n",
    "ax1.get_yaxis().set_major_formatter(\n",
    "mpl.ticker.FuncFormatter(\n",
    "    lambda x, p: format(int(x), ',')))\n",
    "\n",
    "#ax2\n",
    "ax2_color = '#f95d6a'\n",
    "ax2 = ax1.twinx()\n",
    "ax2.tick_params(axis='y', labelcolor=ax2_color)\n",
    "demissoes_sexo_df[\n",
    "    ['Mulheres %', 'Homens %']].plot.bar( \\\n",
    "        width= 0.4, \\\n",
    "        stacked=True,\n",
    "        ylabel='PORCENTAGEM',\n",
    "#          ylim=[0, 70],\n",
    "         ax=ax2).legend(\n",
    "    bbox_to_anchor=(1.2, .9), loc='lower right')\n",
    "\n",
    "# fig.tight_layout()  # otherwise the right y-label is slightly clipped\n",
    "\n"
   ]
  },
  {
   "cell_type": "code",
   "execution_count": 56,
   "metadata": {
    "scrolled": true
   },
   "outputs": [
    {
     "data": {
      "text/plain": [
       "<AxesSubplot:title={'center':'ÍNDICE DE PESSOAS ADMITIDAS POR GÊNERO'}, ylabel='Período de Pandemia'>"
      ]
     },
     "execution_count": 56,
     "metadata": {},
     "output_type": "execute_result"
    },
    {
     "data": {
      "image/png": "[encoded data removed]",
      "text/plain": [
       "<Figure size 432x288 with 1 Axes>"
      ]
     },
     "metadata": {},
     "output_type": "display_data"
    }
   ],
   "source": [
    "admissoes_sexo_df.sum()[0:2].plot.pie(\n",
    "    autopct='%1.1f%%',\n",
    "    explode=(0, 0.01),\n",
    "    title='ÍNDICE DE PESSOAS DEMITIDAS POR GÊNERO',\n",
    "    ylabel= 'Período de Pandemia'\n",
    ")"
   ]
  },
  {
   "cell_type": "code",
   "execution_count": null,
   "metadata": {},
   "outputs": [],
   "source": [
    "# pd.pivot_table(admissoes_df, values='sexo', index='competência',\n",
    "# #                     columns='sexo',\n",
    "#                        aggfunc=np.sum)"
   ]
  },
  {
   "cell_type": "code",
   "execution_count": null,
   "metadata": {},
   "outputs": [],
   "source": []
  }
 ],
 "metadata": {
  "kernelspec": {
   "display_name": "Python 3",
   "language": "python",
   "name": "python3"
  },
  "language_info": {
   "codemirror_mode": {
    "name": "ipython",
    "version": 3
   },
   "file_extension": ".py",
   "mimetype": "text/x-python",
   "name": "python",
   "nbconvert_exporter": "python",
   "pygments_lexer": "ipython3",
   "version": "3.7.3"
  }
 },
 "nbformat": 4,
 "nbformat_minor": 2
}
