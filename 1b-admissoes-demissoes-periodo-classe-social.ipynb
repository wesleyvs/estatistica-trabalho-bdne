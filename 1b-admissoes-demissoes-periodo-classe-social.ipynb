{
 "cells": [
  {
   "cell_type": "code",
   "execution_count": 1,
   "id": "0bfe9b32",
   "metadata": {},
   "outputs": [],
   "source": [
    "import pandas as pd\n",
    "import matplotlib.pyplot as plt\n",
    "from glob import glob\n",
    "import matplotlib as mpl\n",
    "import seaborn as sb\n",
    "import numpy as np"
   ]
  },
  {
   "cell_type": "code",
   "execution_count": 2,
   "id": "1cb64431",
   "metadata": {},
   "outputs": [],
   "source": [
    "caged_files = sorted(glob('CAGEDMOV202101/CAGEDMOV*.txt'))\n",
    "main_df = pd.concat((pd.read_csv(file, sep=\";\") for file in caged_files), ignore_index=True)"
   ]
  },
  {
   "cell_type": "code",
   "execution_count": 3,
   "id": "2bcdeadd",
   "metadata": {},
   "outputs": [],
   "source": [
    "def plot(get_chart, xlabel=None, ylabel=None, title=None , figsize=(10,6)):\n",
    "    titledict = {'fontweight':'bold', 'fontsize': 15}\n",
    "    labeldict = {'fontsize': 13}\n",
    "    plt.figure(figsize = figsize)\n",
    "    ax = get_chart()\n",
    "    title and ax.set_title(title + \"\\n\", fontdict=titledict)\n",
    "    xlabel and ax.set_xlabel(xlabel, fontdict=labeldict)\n",
    "    xlabel and ax.set_ylabel(ylabel, fontdict=labeldict)\n",
    "    plt.show()"
   ]
  },
  {
   "cell_type": "code",
   "execution_count": 4,
   "id": "e7c5e49b",
   "metadata": {},
   "outputs": [
    {
     "data": {
      "text/plain": [
       "['CAGEDMOV202101\\\\CAGEDMOV202101.txt',\n",
       " 'CAGEDMOV202101\\\\CAGEDMOV202102.txt',\n",
       " 'CAGEDMOV202101\\\\CAGEDMOV202103.txt']"
      ]
     },
     "execution_count": 4,
     "metadata": {},
     "output_type": "execute_result"
    }
   ],
   "source": [
    "caged_files"
   ]
  },
  {
   "cell_type": "code",
   "execution_count": 5,
   "id": "16b10116",
   "metadata": {},
   "outputs": [
    {
     "data": {
      "text/plain": [
       "Index(['competência', 'região', 'uf', 'município', 'seção', 'subclasse',\n",
       "       'saldomovimentação', 'cbo2002ocupação', 'categoria', 'graudeinstrução',\n",
       "       'idade', 'horascontratuais', 'raçacor', 'sexo', 'tipoempregador',\n",
       "       'tipoestabelecimento', 'tipomovimentação', 'tipodedeficiência',\n",
       "       'indtrabintermitente', 'indtrabparcial', 'salário', 'tamestabjan',\n",
       "       'indicadoraprendiz', 'fonte'],\n",
       "      dtype='object')"
      ]
     },
     "execution_count": 5,
     "metadata": {},
     "output_type": "execute_result"
    }
   ],
   "source": [
    "main_df.columns"
   ]
  },
  {
   "cell_type": "code",
   "execution_count": 6,
   "id": "dbf1b16a",
   "metadata": {},
   "outputs": [],
   "source": [
    "main_df['Tipo de movimentação'] = main_df['tipomovimentação'].map({\n",
    "10:'Admissão por Primeiro Emprego',\n",
    "20:'Admissão por Reemprego', \n",
    "25:'Admissão por contrato trabalho prazo determinado',\n",
    "31:'Desligamento por Demissão sem Justa Causa', \n",
    "32:'Desligamento por Demissão com Justa Causa', \n",
    "33:'Culpa Recíproca',\n",
    "35:'Admissão por Reintegraçao', \n",
    "40:'Desligamento a Pedido',\n",
    "43:'Término contrato trabalho prazo determinado',\n",
    "45:'Desligamento por Término de Contrato',\n",
    "50:'Desligamento por Aposentadoria', \n",
    "60:'Desligamento por morte',\n",
    "70:'Admissão por Transferência', \n",
    "80:'Desligamento por Transferência', \n",
    "90:'Desliamento por Acordo Empregado e Empregador',\n",
    "98:'Desligamento de Tipo Ignorado',\n",
    "99:'Não Identificado'})"
   ]
  },
  {
   "cell_type": "code",
   "execution_count": 7,
   "id": "7ef93dd3",
   "metadata": {},
   "outputs": [],
   "source": [
    "conditions = [\n",
    "    (main_df['tipomovimentação'].isin([10,20,25,35,70])),\n",
    "    (main_df['tipomovimentação'].isin([31,32,33,40,43,45,50,60,80,90,98])),\n",
    "    (main_df['tipomovimentação'].isin([99]))\n",
    "    ]\n",
    "\n",
    "values = ['Admitido', 'Desligado', 'Não identificado']\n",
    "\n",
    "main_df['movimento'] = np.select(conditions, values)"
   ]
  },
  {
   "cell_type": "code",
   "execution_count": 8,
   "id": "8b0487d1",
   "metadata": {},
   "outputs": [],
   "source": [
    "def determine_social_class(row):\n",
    "    value = 0\n",
    "    if row['salário'] <= 2090:\n",
    "        value = 1\n",
    "    elif row['salário'] <= 4180:\n",
    "        value = 2\n",
    "    elif row['salário'] <= 10450:\n",
    "        value = 3\n",
    "    elif row['salário'] <= 20900:\n",
    "        value = 4\n",
    "    else:\n",
    "        value = 5\n",
    "    return value\n",
    "\n",
    "main_df['classe_social'] = main_df.apply(determine_social_class, axis=1)"
   ]
  },
  {
   "cell_type": "code",
   "execution_count": 9,
   "id": "0422653c",
   "metadata": {},
   "outputs": [],
   "source": [
    "main_df['Classe social'] = main_df['classe_social'].map({\n",
    "0:'Não determinado',\n",
    "1:'Classe E',\n",
    "2:'Classe D',\n",
    "3:'Classe C',\n",
    "4:'Classe B',\n",
    "5:'Classe A'\n",
    "})"
   ]
  },
  {
   "cell_type": "code",
   "execution_count": 10,
   "id": "f5c9b5ed",
   "metadata": {},
   "outputs": [
    {
     "data": {
      "text/html": [
       "<div>\n",
       "<style scoped>\n",
       "    .dataframe tbody tr th:only-of-type {\n",
       "        vertical-align: middle;\n",
       "    }\n",
       "\n",
       "    .dataframe tbody tr th {\n",
       "        vertical-align: top;\n",
       "    }\n",
       "\n",
       "    .dataframe thead th {\n",
       "        text-align: right;\n",
       "    }\n",
       "</style>\n",
       "<table border=\"1\" class=\"dataframe\">\n",
       "  <thead>\n",
       "    <tr style=\"text-align: right;\">\n",
       "      <th></th>\n",
       "      <th>Classe social</th>\n",
       "      <th>movimento</th>\n",
       "    </tr>\n",
       "  </thead>\n",
       "  <tbody>\n",
       "    <tr>\n",
       "      <th>0</th>\n",
       "      <td>Classe E</td>\n",
       "      <td>Desligado</td>\n",
       "    </tr>\n",
       "    <tr>\n",
       "      <th>1</th>\n",
       "      <td>Classe E</td>\n",
       "      <td>Desligado</td>\n",
       "    </tr>\n",
       "    <tr>\n",
       "      <th>2</th>\n",
       "      <td>Classe E</td>\n",
       "      <td>Admitido</td>\n",
       "    </tr>\n",
       "    <tr>\n",
       "      <th>3</th>\n",
       "      <td>Classe C</td>\n",
       "      <td>Desligado</td>\n",
       "    </tr>\n",
       "    <tr>\n",
       "      <th>4</th>\n",
       "      <td>Classe E</td>\n",
       "      <td>Desligado</td>\n",
       "    </tr>\n",
       "  </tbody>\n",
       "</table>\n",
       "</div>"
      ],
      "text/plain": [
       "  Classe social  movimento\n",
       "0      Classe E  Desligado\n",
       "1      Classe E  Desligado\n",
       "2      Classe E   Admitido\n",
       "3      Classe C  Desligado\n",
       "4      Classe E  Desligado"
      ]
     },
     "execution_count": 10,
     "metadata": {},
     "output_type": "execute_result"
    }
   ],
   "source": [
    "main_df[['Classe social', 'movimento']].head()"
   ]
  },
  {
   "cell_type": "code",
   "execution_count": 11,
   "id": "3b9dbbdb",
   "metadata": {},
   "outputs": [
    {
     "data": {
      "image/png": "[encoded data removed]",
      "text/plain": [
       "<Figure size 720x432 with 1 Axes>"
      ]
     },
     "metadata": {
      "needs_background": "light"
     },
     "output_type": "display_data"
    }
   ],
   "source": [
    "plot(\n",
    "    lambda: sb.countplot(hue='Classe social', x='movimento',data = main_df, palette='Paired'),\n",
    "    title=\"Índice de pessoas empregadas e desempregadas em certo período por classe social\",\n",
    "    xlabel=\"Tipo de movimentação\",\n",
    "    ylabel=\"Número de pessoas\"\n",
    ")"
   ]
  }
 ],
 "metadata": {
  "kernelspec": {
   "display_name": "Python 3",
   "language": "python",
   "name": "python3"
  },
  "language_info": {
   "codemirror_mode": {
    "name": "ipython",
    "version": 3
   },
   "file_extension": ".py",
   "mimetype": "text/x-python",
   "name": "python",
   "nbconvert_exporter": "python",
   "pygments_lexer": "ipython3",
   "version": "3.9.0"
  }
 },
 "nbformat": 4,
 "nbformat_minor": 5
}
